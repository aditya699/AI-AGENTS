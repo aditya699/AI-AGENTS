{
 "cells": [
  {
   "cell_type": "markdown",
   "metadata": {},
   "source": [
    "# Evaluator-Optimizer Workflow\n",
    "\n",
    "# In this workflow, one LLM call generates a response while another provides evaluation and feedback in a loop."
   ]
  },
  {
   "cell_type": "markdown",
   "metadata": {},
   "source": [
    "# Usecase : Real time DataBase updates\n"
   ]
  },
  {
   "cell_type": "code",
   "execution_count": 3,
   "metadata": {},
   "outputs": [
    {
     "name": "stdout",
     "output_type": "stream",
     "text": [
      "Requirement already satisfied: pymongo[srv] in c:\\users\\aditya\\appdata\\local\\programs\\python\\python39\\lib\\site-packages (4.3.3)\n",
      "Requirement already satisfied: dnspython<3.0.0,>=1.16.0 in c:\\users\\aditya\\appdata\\local\\programs\\python\\python39\\lib\\site-packages (from pymongo[srv]) (2.3.0)\n",
      "Note: you may need to restart the kernel to use updated packages.\n"
     ]
    },
    {
     "name": "stderr",
     "output_type": "stream",
     "text": [
      "WARNING: Ignoring invalid distribution -angchain (c:\\users\\aditya\\appdata\\local\\programs\\python\\python39\\lib\\site-packages)\n",
      "WARNING: Ignoring invalid distribution -angchain-community (c:\\users\\aditya\\appdata\\local\\programs\\python\\python39\\lib\\site-packages)\n",
      "WARNING: Ignoring invalid distribution -angchain (c:\\users\\aditya\\appdata\\local\\programs\\python\\python39\\lib\\site-packages)\n",
      "WARNING: Ignoring invalid distribution -angchain-community (c:\\users\\aditya\\appdata\\local\\programs\\python\\python39\\lib\\site-packages)\n",
      "DEPRECATION: uvicorn 0.14.0 has a non-standard dependency specifier click>=7.*. pip 24.1 will enforce this behaviour change. A possible replacement is to upgrade to a newer version of uvicorn or contact the author to suggest that they release a version with a conforming dependency specifiers. Discussion can be found at https://github.com/pypa/pip/issues/12063\n",
      "\n",
      "[notice] A new release of pip is available: 24.0 -> 24.3.1\n",
      "[notice] To update, run: python.exe -m pip install --upgrade pip\n"
     ]
    }
   ],
   "source": [
    "%pip install \"pymongo[srv]\""
   ]
  },
  {
   "cell_type": "code",
   "execution_count": null,
   "metadata": {},
   "outputs": [],
   "source": [
    "from pymongo.mongo_client import MongoClient\n",
    "from pymongo.server_api import ServerApi\n",
    "\n",
    "uri = \"sorry i can't share this or commit this to github\"\n",
    "\n",
    "# Create a new client and connect to the server\n",
    "client = MongoClient(uri, server_api=ServerApi('1'))\n",
    "\n",
    "# Send a ping to confirm a successful connection\n",
    "try:\n",
    "    client.admin.command('ping')\n",
    "    print(\"Pinged your deployment. You successfully connected to MongoDB!\")\n",
    "except Exception as e:\n",
    "    print(e)"
   ]
  },
  {
   "cell_type": "code",
   "execution_count": 27,
   "metadata": {},
   "outputs": [],
   "source": [
    "import os\n",
    "from dotenv import load_dotenv\n",
    "\n",
    "load_dotenv()\n",
    "\n",
    "os.environ[\"GOOGLE_API_KEY\"] = os.getenv(\"GEMINI_API_KEY\")\n",
    "\n",
    "from langchain_google_genai import ChatGoogleGenerativeAI\n",
    "\n",
    "llm = ChatGoogleGenerativeAI(model=\"gemini-1.5-flash-latest\")\n",
    "from datetime import datetime\n",
    "\n"
   ]
  },
  {
   "cell_type": "code",
   "execution_count": 28,
   "metadata": {},
   "outputs": [],
   "source": [
    "list_of_complaints=[\"My phone network is week\",\"My internet is slow\",\"My bill is too high\",\"I want to change my plan\",\"I want to cancel my internet plan\",\"party tonigth\"]\n"
   ]
  },
  {
   "cell_type": "code",
   "execution_count": 29,
   "metadata": {},
   "outputs": [],
   "source": [
    "category_of_complaints=[\"Network\",\"Internet\",\"Billing\",\"Internet Plan\",\"Cancellation\"]\n"
   ]
  },
  {
   "cell_type": "code",
   "execution_count": 30,
   "metadata": {},
   "outputs": [
    {
     "name": "stdout",
     "output_type": "stream",
     "text": [
      "Classified category: Network\n",
      "Evaluation feedback: True\n",
      "Classified category: Internet\n",
      "Evaluation feedback: True\n",
      "Classified category: Billing\n",
      "Evaluation feedback: True\n",
      "Classified category: Internet Plan\n",
      "Evaluation feedback: True\n",
      "Classified category: Cancellation\n",
      "Evaluation feedback: True\n",
      "Classified category: None\n",
      "Evaluation feedback: False\n"
     ]
    }
   ],
   "source": [
    "for complaint in list_of_complaints:\n",
    "    # First LLM call - Classify complaint into category\n",
    "    main_prompt=f\"\"\"\n",
    "    You are a customer service agent. You need to classify the complaint into one of the categories.\n",
    "\n",
    "    Complaints: {complaint}\n",
    "\n",
    "    Categories: {category_of_complaints}\n",
    "\n",
    "    Always return the category in the list of categories\n",
    "    \n",
    "    return the category in this XML format(Only the category nothing else(no explanation, no other text)): \n",
    "    \n",
    " \n",
    "    <category>\n",
    "    Category\n",
    "    </category>\n",
    "    \"\"\"\n",
    "    classification_response = llm.invoke(main_prompt)\n",
    "    category = classification_response.content.strip(\"```xml\\n<\").strip(\"</category>\").strip(\"\\n\")\n",
    "    print(f\"Classified category: {category}\")\n",
    "\n",
    "    # Second LLM call - Evaluate classification\n",
    "    evaluator_prompt=f\"\"\"\n",
    "    Context-\n",
    "    The previous LLM call has classified the complaint into one of the categories.\n",
    "    \n",
    "    You are a feeback generator. You need to evaluate the response of the LLM and give feedback on the response in 0 or 1\n",
    "\n",
    "    \n",
    "    Complaint: {complaint}\n",
    "    Category: {category}\n",
    "\n",
    "    List of categories to select from: {category_of_complaints}\n",
    "\n",
    "    If no category is found in the list of categories, return 0\n",
    "\n",
    "    return the feedback(True or False)\n",
    "\n",
    "    Only return True or False no other text or explanation\n",
    "\n",
    "    \"\"\"\n",
    "    evaluation_response = llm.invoke(evaluator_prompt)\n",
    "    feedback = evaluation_response.content\n",
    "    print(f\"Evaluation feedback: {feedback}\")\n",
    "\n",
    "    # Store results in appropriate MongoDB collection based on evaluation\n",
    "    db = client['customer_service']\n",
    "    if feedback == \"False\":    \n",
    "        complaints_collection = db['complaints_unclassified']\n",
    "    else:\n",
    "        complaints_collection = db['complaints']\n",
    "\n",
    "    # Create and insert document\n",
    "    complaint_doc = {\n",
    "        \"complaint\": complaint, # Complaint         \n",
    "        \"category\": category, # Category\n",
    "        \"evaluation_feedback\": feedback, # Feedback\n",
    "        \"time\": datetime.now() # Time\n",
    "    }\n",
    "    complaints_collection.insert_one(complaint_doc)\n"
   ]
  },
  {
   "cell_type": "code",
   "execution_count": 33,
   "metadata": {},
   "outputs": [
    {
     "data": {
      "image/png": "[encoded data removed]",
      "text/plain": [
       "<IPython.core.display.Image object>"
      ]
     },
     "metadata": {},
     "output_type": "display_data"
    }
   ],
   "source": [
    "# Images from database\n",
    "\n",
    "# Display image in Jupyter notebook\n",
    "from IPython.display import display, Image\n",
    "\n",
    "path = \"mongo_lecture_5.png\"\n",
    "display(Image(filename=path))  # display image\n"
   ]
  },
  {
   "cell_type": "code",
   "execution_count": 34,
   "metadata": {},
   "outputs": [
    {
     "data": {
      "image/png": "[encoded data removed]",
      "text/plain": [
       "<IPython.core.display.Image object>"
      ]
     },
     "metadata": {},
     "output_type": "display_data"
    }
   ],
   "source": [
    "# Images from database\n",
    "\n",
    "# Display image in Jupyter notebook\n",
    "from IPython.display import display, Image\n",
    "\n",
    "path = \"mongo_lecture_5_1.png\"\n",
    "display(Image(filename=path))  # display image\n"
   ]
  },
  {
   "cell_type": "code",
   "execution_count": null,
   "metadata": {},
   "outputs": [],
   "source": []
  },
  {
   "cell_type": "code",
   "execution_count": null,
   "metadata": {},
   "outputs": [],
   "source": []
  },
  {
   "cell_type": "code",
   "execution_count": null,
   "metadata": {},
   "outputs": [],
   "source": []
  },
  {
   "cell_type": "code",
   "execution_count": null,
   "metadata": {},
   "outputs": [],
   "source": []
  },
  {
   "cell_type": "code",
   "execution_count": null,
   "metadata": {},
   "outputs": [],
   "source": []
  },
  {
   "cell_type": "code",
   "execution_count": null,
   "metadata": {},
   "outputs": [],
   "source": []
  },
  {
   "cell_type": "code",
   "execution_count": null,
   "metadata": {},
   "outputs": [],
   "source": []
  }
 ],
 "metadata": {
  "kernelspec": {
   "display_name": "Python 3",
   "language": "python",
   "name": "python3"
  },
  "language_info": {
   "codemirror_mode": {
    "name": "ipython",
    "version": 3
   },
   "file_extension": ".py",
   "mimetype": "text/x-python",
   "name": "python",
   "nbconvert_exporter": "python",
   "pygments_lexer": "ipython3",
   "version": "3.9.5"
  }
 },
 "nbformat": 4,
 "nbformat_minor": 2
}
