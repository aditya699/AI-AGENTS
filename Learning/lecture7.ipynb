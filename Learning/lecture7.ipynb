{
 "cells": [
  {
   "cell_type": "markdown",
   "metadata": {},
   "source": [
    "# Lecture 7:LLM as a Judge\n",
    "\n"
   ]
  },
  {
   "cell_type": "code",
   "execution_count": 1,
   "metadata": {},
   "outputs": [],
   "source": [
    "from langchain.agents.agent_types import AgentType\n",
    "from langchain_experimental.agents.agent_toolkits import create_csv_agent"
   ]
  },
  {
   "cell_type": "code",
   "execution_count": 2,
   "metadata": {},
   "outputs": [],
   "source": [
    "import os\n",
    "from dotenv import load_dotenv\n",
    "\n",
    "load_dotenv()\n",
    "\n",
    "os.environ[\"GOOGLE_API_KEY\"] = os.getenv(\"GEMINI_API_KEY\")\n",
    "\n",
    "from langchain_google_genai import ChatGoogleGenerativeAI\n",
    "\n",
    "llm = ChatGoogleGenerativeAI(model=\"gemini-1.5-flash-latest\")\n",
    "from datetime import datetime\n",
    "\n"
   ]
  },
  {
   "cell_type": "code",
   "execution_count": 5,
   "metadata": {},
   "outputs": [],
   "source": [
    "agent = create_csv_agent(\n",
    "    llm,\n",
    "    \"titanic.csv\",\n",
    "    verbose=True,\n",
    "    agent_type=AgentType.ZERO_SHOT_REACT_DESCRIPTION,\n",
    "    allow_dangerous_code=True\n",
    ")"
   ]
  },
  {
   "cell_type": "code",
   "execution_count": 6,
   "metadata": {},
   "outputs": [
    {
     "name": "stderr",
     "output_type": "stream",
     "text": [
      "C:\\Users\\aditya\\AppData\\Local\\Temp\\ipykernel_11400\\779840898.py:1: LangChainDeprecationWarning: The method `Chain.run` was deprecated in langchain 0.1.0 and will be removed in 1.0. Use :meth:`~invoke` instead.\n",
      "  agent.run(\"how many rows are there?\")\n"
     ]
    },
    {
     "name": "stdout",
     "output_type": "stream",
     "text": [
      "\n",
      "\n",
      "\u001b[1m> Entering new AgentExecutor chain...\u001b[0m\n",
      "\u001b[32;1m\u001b[1;3mThought: I can use the `.shape` attribute of the pandas DataFrame to get the number of rows and columns.  The first element of the tuple returned by `.shape` will be the number of rows.\n",
      "\n",
      "Action: python_repl_ast\n",
      "Action Input: \n",
      "```python\n",
      "print(df.shape[0])\n",
      "```\u001b[0m\u001b[36;1m\u001b[1;3m891\n",
      "\u001b[0m\u001b[32;1m\u001b[1;3mI now know the final answer.\n",
      "\n",
      "Final Answer: 891\u001b[0m\n",
      "\n",
      "\u001b[1m> Finished chain.\u001b[0m\n"
     ]
    },
    {
     "data": {
      "text/plain": [
       "'891'"
      ]
     },
     "execution_count": 6,
     "metadata": {},
     "output_type": "execute_result"
    }
   ],
   "source": [
    "agent.run(\"how many rows are there?\")\n",
    "\n"
   ]
  },
  {
   "cell_type": "code",
   "execution_count": 15,
   "metadata": {},
   "outputs": [
    {
     "name": "stdout",
     "output_type": "stream",
     "text": [
      "\n",
      "\n",
      "\u001b[1m> Entering new AgentExecutor chain...\u001b[0m\n",
      "\u001b[32;1m\u001b[1;3mThought:The question is not related to the provided dataframe.  I need more information or a question related to the dataframe to proceed.\n",
      "\n",
      "Final Answer: Hi\u001b[0m\n",
      "\n",
      "\u001b[1m> Finished chain.\u001b[0m\n",
      "Hi\n",
      "\n",
      "\n",
      "\u001b[1m> Entering new AgentExecutor chain...\u001b[0m\n",
      "\u001b[32;1m\u001b[1;3mThought: I need to count the number of passengers who did not survive.  This is indicated by a 'Survived' value of 0.\n",
      "Action: python_repl_ast\n",
      "Action Input: \n",
      "```python\n",
      "df['Survived'].value_counts()\n",
      "```\u001b[0m\u001b[36;1m\u001b[1;3m1    3\n",
      "0    2\n",
      "Name: Survived, dtype: int64\u001b[0m\u001b[32;1m\u001b[1;3mThe output shows that there are 2 passengers with a 'Survived' value of 0, meaning they did not survive.\n",
      "Thought: I now know the final answer\n",
      "Final Answer: 2\u001b[0m\n",
      "\n",
      "\u001b[1m> Finished chain.\u001b[0m\n",
      "2\n",
      "['user_message_1 Hi', 'agent_message_1 Hi', 'user_message_2 How many people sinked in?', 'agent_message_2 2', 'user_message_3 end']\n",
      "not helpful\n"
     ]
    }
   ],
   "source": [
    "# LLM as a Judge\n",
    "data_base = []\n",
    "message_counter = 0\n",
    "\n",
    "while True:\n",
    "    user_input = input(\"Enter your question: \")\n",
    "    message_counter += 1\n",
    "    user_message = f\"user_message_{message_counter}\" + \" \" + user_input\n",
    "    data_base.append(user_message)\n",
    "\n",
    "    if user_input == \"end\":\n",
    "        break\n",
    "\n",
    "    result = agent.run(user_input)\n",
    "    agent_message = f\"agent_message_{message_counter}\" + \" \" + result\n",
    "    data_base.append(agent_message)\n",
    "\n",
    "    print(result)\n",
    "\n",
    "llm_as_judge_prompt = f\"\"\"\n",
    "You are a judge .You will output if the conversation is helpful or not based on the conversation and user_experience.\n",
    "return \"helpful\" or \"not helpful\" only no explanation needed.\n",
    "\n",
    "Conversation:\n",
    "{data_base}\n",
    "\"\"\"\n",
    "print(data_base)\n",
    "verdict=llm.invoke(llm_as_judge_prompt)\n",
    "print(verdict.content)\n"
   ]
  }
 ],
 "metadata": {
  "kernelspec": {
   "display_name": "Python 3",
   "language": "python",
   "name": "python3"
  },
  "language_info": {
   "codemirror_mode": {
    "name": "ipython",
    "version": 3
   },
   "file_extension": ".py",
   "mimetype": "text/x-python",
   "name": "python",
   "nbconvert_exporter": "python",
   "pygments_lexer": "ipython3",
   "version": "3.9.5"
  }
 },
 "nbformat": 4,
 "nbformat_minor": 2
}
