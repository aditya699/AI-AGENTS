{
 "cells": [
  {
   "cell_type": "markdown",
   "metadata": {},
   "source": [
    "# Can we code a deep reasearch agent?(Basic Level)\n",
    "# By - Aditya Bhatt\n",
    "\n",
    "# TODO:\n",
    "\n",
    "# 1.Ask the user what exactly they need a research on?(a simple follow up question)\n"
   ]
  },
  {
   "cell_type": "markdown",
   "metadata": {},
   "source": [
    "# Enter the Research Topic"
   ]
  },
  {
   "cell_type": "code",
   "execution_count": 18,
   "metadata": {},
   "outputs": [
    {
     "name": "stdout",
     "output_type": "stream",
     "text": [
      "User has asked for research on  Indian Cricket\n"
     ]
    }
   ],
   "source": [
    "query=\"On what topic you want to do deep research on ?\"\n",
    "n=input(query)\n",
    "print(\"User has asked for research on \",n)"
   ]
  },
  {
   "cell_type": "markdown",
   "metadata": {},
   "source": [
    "# Install the necessary libraries\n"
   ]
  },
  {
   "cell_type": "code",
   "execution_count": 30,
   "metadata": {},
   "outputs": [
    {
     "name": "stdout",
     "output_type": "stream",
     "text": [
      "^C\n",
      "Note: you may need to restart the kernel to use updated packages.\n"
     ]
    }
   ],
   "source": [
    "pip uninstall -q openai pydantic "
   ]
  },
  {
   "cell_type": "code",
   "execution_count": 31,
   "metadata": {},
   "outputs": [
    {
     "name": "stdout",
     "output_type": "stream",
     "text": [
      "Note: you may need to restart the kernel to use updated packages.\n"
     ]
    },
    {
     "name": "stderr",
     "output_type": "stream",
     "text": [
      "WARNING: Ignoring invalid distribution -angchain (c:\\users\\aditya\\appdata\\local\\programs\\python\\python39\\lib\\site-packages)\n",
      "WARNING: Ignoring invalid distribution -angchain-community (c:\\users\\aditya\\appdata\\local\\programs\\python\\python39\\lib\\site-packages)\n",
      "WARNING: Ignoring invalid distribution -angchain (c:\\users\\aditya\\appdata\\local\\programs\\python\\python39\\lib\\site-packages)\n",
      "WARNING: Ignoring invalid distribution -angchain-community (c:\\users\\aditya\\appdata\\local\\programs\\python\\python39\\lib\\site-packages)\n",
      "DEPRECATION: uvicorn 0.14.0 has a non-standard dependency specifier click>=7.*. pip 24.1 will enforce this behaviour change. A possible replacement is to upgrade to a newer version of uvicorn or contact the author to suggest that they release a version with a conforming dependency specifiers. Discussion can be found at https://github.com/pypa/pip/issues/12063\n",
      "\n",
      "[notice] A new release of pip is available: 24.0 -> 25.0.1\n",
      "[notice] To update, run: python.exe -m pip install --upgrade pip\n"
     ]
    }
   ],
   "source": [
    "pip install -q openai pydantic --upgrade"
   ]
  },
  {
   "cell_type": "markdown",
   "metadata": {},
   "source": [
    "# Set the client"
   ]
  },
  {
   "cell_type": "code",
   "execution_count": 12,
   "metadata": {},
   "outputs": [
    {
     "name": "stdout",
     "output_type": "stream",
     "text": [
      "Client created successfully\n"
     ]
    }
   ],
   "source": [
    "import os\n",
    "from openai import AzureOpenAI\n",
    "from dotenv import load_dotenv\n",
    "load_dotenv()\n",
    "try:\n",
    "    client = AzureOpenAI(\n",
    "                        api_key = os.getenv(\"AZURE_OPENAI_API_KEY\"),  \n",
    "                        api_version = \"2024-02-01\",\n",
    "                        azure_endpoint = os.getenv(\"AZURE_OPENAI_ENDPOINT\")\n",
    "                        )\n",
    "    \n",
    "    print(\"Client created successfully\")\n",
    "except Exception as e:\n",
    "    print(e)\n",
    "    print(\"Error in creating the client\")\n"
   ]
  },
  {
   "cell_type": "markdown",
   "metadata": {},
   "source": [
    "# Test the client"
   ]
  },
  {
   "cell_type": "code",
   "execution_count": 13,
   "metadata": {},
   "outputs": [
    {
     "name": "stdout",
     "output_type": "stream",
     "text": [
      "Hello! How can I assist you today?\n"
     ]
    }
   ],
   "source": [
    "try:\n",
    "    response = client.chat.completions.create(\n",
    "        model=\"mini-deployment\", # model = \"deployment_name\".\n",
    "        messages=[\n",
    "        {\"role\": \"system\", \"content\": \"Assistant is a large language model trained by OpenAI.\"},\n",
    "        {\"role\": \"user\", \"content\": \"Hi?\"}\n",
    "    ]\n",
    "    )\n",
    "    print(response.choices[0].message.content)\n",
    "except Exception as e:\n",
    "    print(e)\n",
    "    print(\"Basic API call failed\")\n"
   ]
  },
  {
   "cell_type": "markdown",
   "metadata": {},
   "source": [
    "# Convert the user query into a search query\n",
    "\n",
    "# Concept used :Structured Output and Pydantic way of doing it\n"
   ]
  },
  {
   "cell_type": "code",
   "execution_count": 28,
   "metadata": {},
   "outputs": [
    {
     "name": "stdout",
     "output_type": "stream",
     "text": [
      "You need to convert the user query into a search query (which will be used to search the web) for the user query: Indian Cricket\n"
     ]
    },
    {
     "ename": "ImportError",
     "evalue": "cannot import name 'LazyClassAttribute' from 'pydantic._internal._utils' (c:\\Users\\aditya\\AppData\\Local\\Programs\\Python\\Python39\\lib\\site-packages\\pydantic\\_internal\\_utils.py)",
     "output_type": "error",
     "traceback": [
      "\u001b[1;31m---------------------------------------------------------------------------\u001b[0m",
      "\u001b[1;31mImportError\u001b[0m                               Traceback (most recent call last)",
      "Input \u001b[1;32mIn [28]\u001b[0m, in \u001b[0;36m<module>\u001b[1;34m\u001b[0m\n\u001b[0;32m     11\u001b[0m prompt1 \u001b[38;5;241m=\u001b[39m \u001b[38;5;124mf\u001b[39m\u001b[38;5;124m\"\u001b[39m\u001b[38;5;124mYou need to convert the user query into a search query (which will be used to search the web) for the user query: \u001b[39m\u001b[38;5;132;01m{\u001b[39;00mn\u001b[38;5;132;01m}\u001b[39;00m\u001b[38;5;124m\"\u001b[39m\n\u001b[0;32m     13\u001b[0m \u001b[38;5;28mprint\u001b[39m(prompt1)\n\u001b[1;32m---> 14\u001b[0m completion \u001b[38;5;241m=\u001b[39m \u001b[43mclient\u001b[49m\u001b[38;5;241;43m.\u001b[39;49m\u001b[43mbeta\u001b[49m\u001b[38;5;241;43m.\u001b[39;49m\u001b[43mchat\u001b[49m\u001b[38;5;241;43m.\u001b[39;49m\u001b[43mcompletions\u001b[49m\u001b[38;5;241;43m.\u001b[39;49m\u001b[43mparse\u001b[49m\u001b[43m(\u001b[49m\n\u001b[0;32m     15\u001b[0m \u001b[43m    \u001b[49m\u001b[43mmodel\u001b[49m\u001b[38;5;241;43m=\u001b[39;49m\u001b[38;5;124;43m\"\u001b[39;49m\u001b[38;5;124;43mmini-deployment\u001b[39;49m\u001b[38;5;124;43m\"\u001b[39;49m\u001b[43m,\u001b[49m\u001b[43m  \u001b[49m\u001b[38;5;66;43;03m# replace with the model deployment name of your gpt-4o 2024-08-06 deployment\u001b[39;49;00m\n\u001b[0;32m     16\u001b[0m \u001b[43m    \u001b[49m\u001b[43mmessages\u001b[49m\u001b[38;5;241;43m=\u001b[39;49m\u001b[43m[\u001b[49m\n\u001b[0;32m     17\u001b[0m \u001b[43m        \u001b[49m\u001b[43m{\u001b[49m\u001b[38;5;124;43m\"\u001b[39;49m\u001b[38;5;124;43mrole\u001b[39;49m\u001b[38;5;124;43m\"\u001b[39;49m\u001b[43m:\u001b[49m\u001b[43m \u001b[49m\u001b[38;5;124;43m\"\u001b[39;49m\u001b[38;5;124;43msystem\u001b[39;49m\u001b[38;5;124;43m\"\u001b[39;49m\u001b[43m,\u001b[49m\u001b[43m \u001b[49m\u001b[38;5;124;43m\"\u001b[39;49m\u001b[38;5;124;43mcontent\u001b[39;49m\u001b[38;5;124;43m\"\u001b[39;49m\u001b[43m:\u001b[49m\u001b[43m \u001b[49m\u001b[38;5;124;43m\"\u001b[39;49m\u001b[38;5;124;43mYou are a helpful assistant that converts user queries into search queries.\u001b[39;49m\u001b[38;5;124;43m\"\u001b[39;49m\u001b[43m}\u001b[49m\u001b[43m,\u001b[49m\n\u001b[0;32m     18\u001b[0m \u001b[43m        \u001b[49m\u001b[43m{\u001b[49m\u001b[38;5;124;43m\"\u001b[39;49m\u001b[38;5;124;43mrole\u001b[39;49m\u001b[38;5;124;43m\"\u001b[39;49m\u001b[43m:\u001b[49m\u001b[43m \u001b[49m\u001b[38;5;124;43m\"\u001b[39;49m\u001b[38;5;124;43muser\u001b[39;49m\u001b[38;5;124;43m\"\u001b[39;49m\u001b[43m,\u001b[49m\u001b[43m \u001b[49m\u001b[38;5;124;43m\"\u001b[39;49m\u001b[38;5;124;43mcontent\u001b[39;49m\u001b[38;5;124;43m\"\u001b[39;49m\u001b[43m:\u001b[49m\u001b[43m \u001b[49m\u001b[43mprompt1\u001b[49m\u001b[43m}\u001b[49m\u001b[43m,\u001b[49m\n\u001b[0;32m     19\u001b[0m \u001b[43m    \u001b[49m\u001b[43m]\u001b[49m\u001b[43m,\u001b[49m\n\u001b[0;32m     20\u001b[0m \u001b[43m    \u001b[49m\u001b[43mresponse_format\u001b[49m\u001b[38;5;241;43m=\u001b[39;49m\u001b[43mSearchQuery\u001b[49m\u001b[43m,\u001b[49m\n\u001b[0;32m     21\u001b[0m \u001b[43m)\u001b[49m\n\u001b[0;32m     23\u001b[0m search_query \u001b[38;5;241m=\u001b[39m completion\u001b[38;5;241m.\u001b[39mchoices[\u001b[38;5;241m0\u001b[39m]\u001b[38;5;241m.\u001b[39mmessage\u001b[38;5;241m.\u001b[39mparsed\n\u001b[0;32m     24\u001b[0m \u001b[38;5;28mprint\u001b[39m(search_query)\n",
      "File \u001b[1;32mc:\\Users\\aditya\\AppData\\Local\\Programs\\Python\\Python39\\lib\\site-packages\\openai\\resources\\beta\\chat\\completions.py:181\u001b[0m, in \u001b[0;36mparse\u001b[1;34m(self, messages, model, audio, response_format, frequency_penalty, function_call, functions, logit_bias, logprobs, max_completion_tokens, max_tokens, metadata, modalities, n, parallel_tool_calls, prediction, presence_penalty, reasoning_effort, seed, service_tier, stop, store, stream_options, temperature, tool_choice, tools, top_logprobs, top_p, user, extra_headers, extra_query, extra_body, timeout)\u001b[0m\n\u001b[0;32m    154\u001b[0m \u001b[38;5;28;01mdef\u001b[39;00m \u001b[38;5;21mparser\u001b[39m(raw_completion: ChatCompletion) \u001b[38;5;241m-\u001b[39m\u001b[38;5;241m>\u001b[39m ParsedChatCompletion[ResponseFormatT]:\n\u001b[0;32m    155\u001b[0m     \u001b[38;5;28;01mreturn\u001b[39;00m _parse_chat_completion(\n\u001b[0;32m    156\u001b[0m         response_format\u001b[38;5;241m=\u001b[39mresponse_format,\n\u001b[0;32m    157\u001b[0m         chat_completion\u001b[38;5;241m=\u001b[39mraw_completion,\n\u001b[0;32m    158\u001b[0m         input_tools\u001b[38;5;241m=\u001b[39mtools,\n\u001b[0;32m    159\u001b[0m     )\n\u001b[0;32m    161\u001b[0m \u001b[38;5;28;01mreturn\u001b[39;00m \u001b[38;5;28mself\u001b[39m\u001b[38;5;241m.\u001b[39m_post(\n\u001b[0;32m    162\u001b[0m     \u001b[38;5;124m\"\u001b[39m\u001b[38;5;124m/chat/completions\u001b[39m\u001b[38;5;124m\"\u001b[39m,\n\u001b[0;32m    163\u001b[0m     body\u001b[38;5;241m=\u001b[39mmaybe_transform(\n\u001b[0;32m    164\u001b[0m         {\n\u001b[0;32m    165\u001b[0m             \u001b[38;5;124m\"\u001b[39m\u001b[38;5;124mmessages\u001b[39m\u001b[38;5;124m\"\u001b[39m: messages,\n\u001b[0;32m    166\u001b[0m             \u001b[38;5;124m\"\u001b[39m\u001b[38;5;124mmodel\u001b[39m\u001b[38;5;124m\"\u001b[39m: model,\n\u001b[0;32m    167\u001b[0m             \u001b[38;5;124m\"\u001b[39m\u001b[38;5;124maudio\u001b[39m\u001b[38;5;124m\"\u001b[39m: audio,\n\u001b[0;32m    168\u001b[0m             \u001b[38;5;124m\"\u001b[39m\u001b[38;5;124mfrequency_penalty\u001b[39m\u001b[38;5;124m\"\u001b[39m: frequency_penalty,\n\u001b[0;32m    169\u001b[0m             \u001b[38;5;124m\"\u001b[39m\u001b[38;5;124mfunction_call\u001b[39m\u001b[38;5;124m\"\u001b[39m: function_call,\n\u001b[0;32m    170\u001b[0m             \u001b[38;5;124m\"\u001b[39m\u001b[38;5;124mfunctions\u001b[39m\u001b[38;5;124m\"\u001b[39m: functions,\n\u001b[0;32m    171\u001b[0m             \u001b[38;5;124m\"\u001b[39m\u001b[38;5;124mlogit_bias\u001b[39m\u001b[38;5;124m\"\u001b[39m: logit_bias,\n\u001b[0;32m    172\u001b[0m             \u001b[38;5;124m\"\u001b[39m\u001b[38;5;124mlogprobs\u001b[39m\u001b[38;5;124m\"\u001b[39m: logprobs,\n\u001b[0;32m    173\u001b[0m             \u001b[38;5;124m\"\u001b[39m\u001b[38;5;124mmax_completion_tokens\u001b[39m\u001b[38;5;124m\"\u001b[39m: max_completion_tokens,\n\u001b[0;32m    174\u001b[0m             \u001b[38;5;124m\"\u001b[39m\u001b[38;5;124mmax_tokens\u001b[39m\u001b[38;5;124m\"\u001b[39m: max_tokens,\n\u001b[0;32m    175\u001b[0m             \u001b[38;5;124m\"\u001b[39m\u001b[38;5;124mmetadata\u001b[39m\u001b[38;5;124m\"\u001b[39m: metadata,\n\u001b[0;32m    176\u001b[0m             \u001b[38;5;124m\"\u001b[39m\u001b[38;5;124mmodalities\u001b[39m\u001b[38;5;124m\"\u001b[39m: modalities,\n\u001b[0;32m    177\u001b[0m             \u001b[38;5;124m\"\u001b[39m\u001b[38;5;124mn\u001b[39m\u001b[38;5;124m\"\u001b[39m: n,\n\u001b[0;32m    178\u001b[0m             \u001b[38;5;124m\"\u001b[39m\u001b[38;5;124mparallel_tool_calls\u001b[39m\u001b[38;5;124m\"\u001b[39m: parallel_tool_calls,\n\u001b[0;32m    179\u001b[0m             \u001b[38;5;124m\"\u001b[39m\u001b[38;5;124mprediction\u001b[39m\u001b[38;5;124m\"\u001b[39m: prediction,\n\u001b[0;32m    180\u001b[0m             \u001b[38;5;124m\"\u001b[39m\u001b[38;5;124mpresence_penalty\u001b[39m\u001b[38;5;124m\"\u001b[39m: presence_penalty,\n\u001b[1;32m--> 181\u001b[0m             \u001b[38;5;124m\"\u001b[39m\u001b[38;5;124mreasoning_effort\u001b[39m\u001b[38;5;124m\"\u001b[39m: reasoning_effort,\n\u001b[0;32m    182\u001b[0m             \u001b[38;5;124m\"\u001b[39m\u001b[38;5;124mresponse_format\u001b[39m\u001b[38;5;124m\"\u001b[39m: _type_to_response_format(response_format),\n\u001b[0;32m    183\u001b[0m             \u001b[38;5;124m\"\u001b[39m\u001b[38;5;124mseed\u001b[39m\u001b[38;5;124m\"\u001b[39m: seed,\n\u001b[0;32m    184\u001b[0m             \u001b[38;5;124m\"\u001b[39m\u001b[38;5;124mservice_tier\u001b[39m\u001b[38;5;124m\"\u001b[39m: service_tier,\n\u001b[0;32m    185\u001b[0m             \u001b[38;5;124m\"\u001b[39m\u001b[38;5;124mstop\u001b[39m\u001b[38;5;124m\"\u001b[39m: stop,\n\u001b[0;32m    186\u001b[0m             \u001b[38;5;124m\"\u001b[39m\u001b[38;5;124mstore\u001b[39m\u001b[38;5;124m\"\u001b[39m: store,\n\u001b[0;32m    187\u001b[0m             \u001b[38;5;124m\"\u001b[39m\u001b[38;5;124mstream\u001b[39m\u001b[38;5;124m\"\u001b[39m: \u001b[38;5;28;01mFalse\u001b[39;00m,\n\u001b[0;32m    188\u001b[0m             \u001b[38;5;124m\"\u001b[39m\u001b[38;5;124mstream_options\u001b[39m\u001b[38;5;124m\"\u001b[39m: stream_options,\n\u001b[0;32m    189\u001b[0m             \u001b[38;5;124m\"\u001b[39m\u001b[38;5;124mtemperature\u001b[39m\u001b[38;5;124m\"\u001b[39m: temperature,\n\u001b[0;32m    190\u001b[0m             \u001b[38;5;124m\"\u001b[39m\u001b[38;5;124mtool_choice\u001b[39m\u001b[38;5;124m\"\u001b[39m: tool_choice,\n\u001b[0;32m    191\u001b[0m             \u001b[38;5;124m\"\u001b[39m\u001b[38;5;124mtools\u001b[39m\u001b[38;5;124m\"\u001b[39m: tools,\n\u001b[0;32m    192\u001b[0m             \u001b[38;5;124m\"\u001b[39m\u001b[38;5;124mtop_logprobs\u001b[39m\u001b[38;5;124m\"\u001b[39m: top_logprobs,\n\u001b[0;32m    193\u001b[0m             \u001b[38;5;124m\"\u001b[39m\u001b[38;5;124mtop_p\u001b[39m\u001b[38;5;124m\"\u001b[39m: top_p,\n\u001b[0;32m    194\u001b[0m             \u001b[38;5;124m\"\u001b[39m\u001b[38;5;124muser\u001b[39m\u001b[38;5;124m\"\u001b[39m: user,\n\u001b[0;32m    195\u001b[0m         },\n\u001b[0;32m    196\u001b[0m         completion_create_params\u001b[38;5;241m.\u001b[39mCompletionCreateParams,\n\u001b[0;32m    197\u001b[0m     ),\n\u001b[0;32m    198\u001b[0m     options\u001b[38;5;241m=\u001b[39mmake_request_options(\n\u001b[0;32m    199\u001b[0m         extra_headers\u001b[38;5;241m=\u001b[39mextra_headers,\n\u001b[0;32m    200\u001b[0m         extra_query\u001b[38;5;241m=\u001b[39mextra_query,\n\u001b[0;32m    201\u001b[0m         extra_body\u001b[38;5;241m=\u001b[39mextra_body,\n\u001b[0;32m    202\u001b[0m         timeout\u001b[38;5;241m=\u001b[39mtimeout,\n\u001b[0;32m    203\u001b[0m         post_parser\u001b[38;5;241m=\u001b[39mparser,\n\u001b[0;32m    204\u001b[0m     ),\n\u001b[0;32m    205\u001b[0m     \u001b[38;5;66;03m# we turn the `ChatCompletion` instance into a `ParsedChatCompletion`\u001b[39;00m\n\u001b[0;32m    206\u001b[0m     \u001b[38;5;66;03m# in the `parser` function above\u001b[39;00m\n\u001b[0;32m    207\u001b[0m     cast_to\u001b[38;5;241m=\u001b[39mcast(Type[ParsedChatCompletion[ResponseFormatT]], ChatCompletion),\n\u001b[0;32m    208\u001b[0m     stream\u001b[38;5;241m=\u001b[39m\u001b[38;5;28;01mFalse\u001b[39;00m,\n\u001b[0;32m    209\u001b[0m )\n",
      "File \u001b[1;32mc:\\Users\\aditya\\AppData\\Local\\Programs\\Python\\Python39\\lib\\site-packages\\openai\\lib\\_parsing\\_completions.py:260\u001b[0m, in \u001b[0;36mtype_to_response_format_param\u001b[1;34m(response_format)\u001b[0m\n\u001b[0;32m    254\u001b[0m \u001b[38;5;28;01melse\u001b[39;00m:\n\u001b[0;32m    255\u001b[0m     \u001b[38;5;28;01mraise\u001b[39;00m \u001b[38;5;167;01mTypeError\u001b[39;00m(\u001b[38;5;124mf\u001b[39m\u001b[38;5;124m\"\u001b[39m\u001b[38;5;124mUnsupported response_format type - \u001b[39m\u001b[38;5;132;01m{\u001b[39;00mresponse_format\u001b[38;5;132;01m}\u001b[39;00m\u001b[38;5;124m\"\u001b[39m)\n\u001b[0;32m    257\u001b[0m \u001b[38;5;28;01mreturn\u001b[39;00m {\n\u001b[0;32m    258\u001b[0m     \u001b[38;5;124m\"\u001b[39m\u001b[38;5;124mtype\u001b[39m\u001b[38;5;124m\"\u001b[39m: \u001b[38;5;124m\"\u001b[39m\u001b[38;5;124mjson_schema\u001b[39m\u001b[38;5;124m\"\u001b[39m,\n\u001b[0;32m    259\u001b[0m     \u001b[38;5;124m\"\u001b[39m\u001b[38;5;124mjson_schema\u001b[39m\u001b[38;5;124m\"\u001b[39m: {\n\u001b[1;32m--> 260\u001b[0m         \u001b[38;5;124m\"\u001b[39m\u001b[38;5;124mschema\u001b[39m\u001b[38;5;124m\"\u001b[39m: \u001b[43mto_strict_json_schema\u001b[49m\u001b[43m(\u001b[49m\u001b[43mjson_schema_type\u001b[49m\u001b[43m)\u001b[49m,\n\u001b[0;32m    261\u001b[0m         \u001b[38;5;124m\"\u001b[39m\u001b[38;5;124mname\u001b[39m\u001b[38;5;124m\"\u001b[39m: name,\n\u001b[0;32m    262\u001b[0m         \u001b[38;5;124m\"\u001b[39m\u001b[38;5;124mstrict\u001b[39m\u001b[38;5;124m\"\u001b[39m: \u001b[38;5;28;01mTrue\u001b[39;00m,\n\u001b[0;32m    263\u001b[0m     },\n\u001b[0;32m    264\u001b[0m }\n",
      "File \u001b[1;32mc:\\Users\\aditya\\AppData\\Local\\Programs\\Python\\Python39\\lib\\site-packages\\openai\\lib\\_pydantic.py:18\u001b[0m, in \u001b[0;36mto_strict_json_schema\u001b[1;34m(model)\u001b[0m\n\u001b[0;32m     16\u001b[0m \u001b[38;5;28;01mdef\u001b[39;00m \u001b[38;5;21mto_strict_json_schema\u001b[39m(model: \u001b[38;5;28mtype\u001b[39m[pydantic\u001b[38;5;241m.\u001b[39mBaseModel] \u001b[38;5;241m|\u001b[39m pydantic\u001b[38;5;241m.\u001b[39mTypeAdapter[Any]) \u001b[38;5;241m-\u001b[39m\u001b[38;5;241m>\u001b[39m \u001b[38;5;28mdict\u001b[39m[\u001b[38;5;28mstr\u001b[39m, Any]:\n\u001b[0;32m     17\u001b[0m     \u001b[38;5;28;01mif\u001b[39;00m inspect\u001b[38;5;241m.\u001b[39misclass(model) \u001b[38;5;129;01mand\u001b[39;00m is_basemodel_type(model):\n\u001b[1;32m---> 18\u001b[0m         schema \u001b[38;5;241m=\u001b[39m \u001b[43mmodel_json_schema\u001b[49m\u001b[43m(\u001b[49m\u001b[43mmodel\u001b[49m\u001b[43m)\u001b[49m\n\u001b[0;32m     19\u001b[0m     \u001b[38;5;28;01melif\u001b[39;00m PYDANTIC_V2 \u001b[38;5;129;01mand\u001b[39;00m \u001b[38;5;28misinstance\u001b[39m(model, pydantic\u001b[38;5;241m.\u001b[39mTypeAdapter):\n\u001b[0;32m     20\u001b[0m         schema \u001b[38;5;241m=\u001b[39m model\u001b[38;5;241m.\u001b[39mjson_schema()\n",
      "File \u001b[1;32mc:\\Users\\aditya\\AppData\\Local\\Programs\\Python\\Python39\\lib\\site-packages\\openai\\_compat.py:175\u001b[0m, in \u001b[0;36mmodel_json_schema\u001b[1;34m(model)\u001b[0m\n\u001b[0;32m    173\u001b[0m \u001b[38;5;28;01mdef\u001b[39;00m \u001b[38;5;21mmodel_json_schema\u001b[39m(model: \u001b[38;5;28mtype\u001b[39m[_ModelT]) \u001b[38;5;241m-\u001b[39m\u001b[38;5;241m>\u001b[39m \u001b[38;5;28mdict\u001b[39m[\u001b[38;5;28mstr\u001b[39m, Any]:\n\u001b[0;32m    174\u001b[0m     \u001b[38;5;28;01mif\u001b[39;00m PYDANTIC_V2:\n\u001b[1;32m--> 175\u001b[0m         \u001b[38;5;28;01mreturn\u001b[39;00m \u001b[43mmodel\u001b[49m\u001b[38;5;241;43m.\u001b[39;49m\u001b[43mmodel_json_schema\u001b[49m\u001b[43m(\u001b[49m\u001b[43m)\u001b[49m\n\u001b[0;32m    176\u001b[0m     \u001b[38;5;28;01mreturn\u001b[39;00m model\u001b[38;5;241m.\u001b[39mschema()\n",
      "File \u001b[1;32mc:\\Users\\aditya\\AppData\\Local\\Programs\\Python\\Python39\\lib\\site-packages\\pydantic\\main.py:476\u001b[0m, in \u001b[0;36mmodel_json_schema\u001b[1;34m(cls, by_alias, ref_template, schema_generator, mode)\u001b[0m\n\u001b[0;32m    441\u001b[0m \u001b[38;5;28;01mdef\u001b[39;00m \u001b[38;5;21mmodel_dump_json\u001b[39m(\n\u001b[0;32m    442\u001b[0m     \u001b[38;5;28mself\u001b[39m,\n\u001b[0;32m    443\u001b[0m     \u001b[38;5;241m*\u001b[39m,\n\u001b[1;32m   (...)\u001b[0m\n\u001b[0;32m    454\u001b[0m     serialize_as_any: \u001b[38;5;28mbool\u001b[39m \u001b[38;5;241m=\u001b[39m \u001b[38;5;28;01mFalse\u001b[39;00m,\n\u001b[0;32m    455\u001b[0m ) \u001b[38;5;241m-\u001b[39m\u001b[38;5;241m>\u001b[39m \u001b[38;5;28mstr\u001b[39m:\n\u001b[0;32m    456\u001b[0m \u001b[38;5;250m    \u001b[39m\u001b[38;5;124;03m\"\"\"Usage docs: https://docs.pydantic.dev/2.10/concepts/serialization/#modelmodel_dump_json\u001b[39;00m\n\u001b[0;32m    457\u001b[0m \n\u001b[0;32m    458\u001b[0m \u001b[38;5;124;03m    Generates a JSON representation of the model using Pydantic's `to_json` method.\u001b[39;00m\n\u001b[0;32m    459\u001b[0m \n\u001b[0;32m    460\u001b[0m \u001b[38;5;124;03m    Args:\u001b[39;00m\n\u001b[0;32m    461\u001b[0m \u001b[38;5;124;03m        indent: Indentation to use in the JSON output. If None is passed, the output will be compact.\u001b[39;00m\n\u001b[0;32m    462\u001b[0m \u001b[38;5;124;03m        include: Field(s) to include in the JSON output.\u001b[39;00m\n\u001b[0;32m    463\u001b[0m \u001b[38;5;124;03m        exclude: Field(s) to exclude from the JSON output.\u001b[39;00m\n\u001b[0;32m    464\u001b[0m \u001b[38;5;124;03m        context: Additional context to pass to the serializer.\u001b[39;00m\n\u001b[0;32m    465\u001b[0m \u001b[38;5;124;03m        by_alias: Whether to serialize using field aliases.\u001b[39;00m\n\u001b[0;32m    466\u001b[0m \u001b[38;5;124;03m        exclude_unset: Whether to exclude fields that have not been explicitly set.\u001b[39;00m\n\u001b[0;32m    467\u001b[0m \u001b[38;5;124;03m        exclude_defaults: Whether to exclude fields that are set to their default value.\u001b[39;00m\n\u001b[0;32m    468\u001b[0m \u001b[38;5;124;03m        exclude_none: Whether to exclude fields that have a value of `None`.\u001b[39;00m\n\u001b[0;32m    469\u001b[0m \u001b[38;5;124;03m        round_trip: If True, dumped values should be valid as input for non-idempotent types such as Json[T].\u001b[39;00m\n\u001b[0;32m    470\u001b[0m \u001b[38;5;124;03m        warnings: How to handle serialization errors. False/\"none\" ignores them, True/\"warn\" logs errors,\u001b[39;00m\n\u001b[0;32m    471\u001b[0m \u001b[38;5;124;03m            \"error\" raises a [`PydanticSerializationError`][pydantic_core.PydanticSerializationError].\u001b[39;00m\n\u001b[0;32m    472\u001b[0m \u001b[38;5;124;03m        serialize_as_any: Whether to serialize fields with duck-typing serialization behavior.\u001b[39;00m\n\u001b[0;32m    473\u001b[0m \n\u001b[0;32m    474\u001b[0m \u001b[38;5;124;03m    Returns:\u001b[39;00m\n\u001b[0;32m    475\u001b[0m \u001b[38;5;124;03m        A JSON string representation of the model.\u001b[39;00m\n\u001b[1;32m--> 476\u001b[0m \u001b[38;5;124;03m    \"\"\"\u001b[39;00m\n\u001b[0;32m    477\u001b[0m     \u001b[38;5;28;01mreturn\u001b[39;00m \u001b[38;5;28mself\u001b[39m\u001b[38;5;241m.\u001b[39m__pydantic_serializer__\u001b[38;5;241m.\u001b[39mto_json(\n\u001b[0;32m    478\u001b[0m         \u001b[38;5;28mself\u001b[39m,\n\u001b[0;32m    479\u001b[0m         indent\u001b[38;5;241m=\u001b[39mindent,\n\u001b[1;32m   (...)\u001b[0m\n\u001b[0;32m    489\u001b[0m         serialize_as_any\u001b[38;5;241m=\u001b[39mserialize_as_any,\n\u001b[0;32m    490\u001b[0m     )\u001b[38;5;241m.\u001b[39mdecode()\n",
      "File \u001b[1;32mc:\\Users\\aditya\\AppData\\Local\\Programs\\Python\\Python39\\lib\\site-packages\\pydantic\\json_schema.py:2280\u001b[0m, in \u001b[0;36mmodel_json_schema\u001b[1;34m(cls, by_alias, ref_template, schema_generator, mode)\u001b[0m\n",
      "File \u001b[1;32mc:\\Users\\aditya\\AppData\\Local\\Programs\\Python\\Python39\\lib\\site-packages\\pydantic\\json_schema.py:415\u001b[0m, in \u001b[0;36mgenerate\u001b[1;34m(self, schema, mode)\u001b[0m\n",
      "File \u001b[1;32mc:\\Users\\aditya\\AppData\\Local\\Programs\\Python\\Python39\\lib\\site-packages\\pydantic\\json_schema.py:552\u001b[0m, in \u001b[0;36mgenerate_inner\u001b[1;34m(self, schema)\u001b[0m\n",
      "File \u001b[1;32mc:\\Users\\aditya\\AppData\\Local\\Programs\\Python\\Python39\\lib\\site-packages\\pydantic\\_internal\\_schema_generation_shared.py:37\u001b[0m, in \u001b[0;36m__call__\u001b[1;34m(self, core_schema)\u001b[0m\n\u001b[0;32m     34\u001b[0m     \u001b[38;5;28mself\u001b[39m\u001b[38;5;241m.\u001b[39mhandler \u001b[38;5;241m=\u001b[39m handler_override \u001b[38;5;129;01mor\u001b[39;00m generate_json_schema\u001b[38;5;241m.\u001b[39mgenerate_inner\n\u001b[0;32m     35\u001b[0m     \u001b[38;5;28mself\u001b[39m\u001b[38;5;241m.\u001b[39mmode \u001b[38;5;241m=\u001b[39m generate_json_schema\u001b[38;5;241m.\u001b[39mmode\n\u001b[1;32m---> 37\u001b[0m \u001b[38;5;28;01mdef\u001b[39;00m \u001b[38;5;21m__call__\u001b[39m(\u001b[38;5;28mself\u001b[39m, core_schema: CoreSchemaOrField, \u001b[38;5;241m/\u001b[39m) \u001b[38;5;241m-\u001b[39m\u001b[38;5;241m>\u001b[39m JsonSchemaValue:\n\u001b[0;32m     38\u001b[0m     \u001b[38;5;28;01mreturn\u001b[39;00m \u001b[38;5;28mself\u001b[39m\u001b[38;5;241m.\u001b[39mhandler(core_schema)\n\u001b[0;32m     40\u001b[0m \u001b[38;5;28;01mdef\u001b[39;00m \u001b[38;5;21mresolve_ref_schema\u001b[39m(\u001b[38;5;28mself\u001b[39m, maybe_ref_json_schema: JsonSchemaValue) \u001b[38;5;241m-\u001b[39m\u001b[38;5;241m>\u001b[39m JsonSchemaValue:\n",
      "File \u001b[1;32mc:\\Users\\aditya\\AppData\\Local\\Programs\\Python\\Python39\\lib\\site-packages\\pydantic\\json_schema.py:527\u001b[0m, in \u001b[0;36mnew_handler_func\u001b[1;34m(schema_or_field, current_handler, js_modify_function)\u001b[0m\n",
      "File \u001b[1;32mc:\\Users\\aditya\\AppData\\Local\\Programs\\Python\\Python39\\lib\\site-packages\\pydantic\\main.py:697\u001b[0m, in \u001b[0;36m__get_pydantic_json_schema__\u001b[1;34m(cls, core_schema, handler)\u001b[0m\n",
      "File \u001b[1;32mc:\\Users\\aditya\\AppData\\Local\\Programs\\Python\\Python39\\lib\\site-packages\\pydantic\\_internal\\_schema_generation_shared.py:37\u001b[0m, in \u001b[0;36m__call__\u001b[1;34m(self, core_schema)\u001b[0m\n\u001b[0;32m     34\u001b[0m     \u001b[38;5;28mself\u001b[39m\u001b[38;5;241m.\u001b[39mhandler \u001b[38;5;241m=\u001b[39m handler_override \u001b[38;5;129;01mor\u001b[39;00m generate_json_schema\u001b[38;5;241m.\u001b[39mgenerate_inner\n\u001b[0;32m     35\u001b[0m     \u001b[38;5;28mself\u001b[39m\u001b[38;5;241m.\u001b[39mmode \u001b[38;5;241m=\u001b[39m generate_json_schema\u001b[38;5;241m.\u001b[39mmode\n\u001b[1;32m---> 37\u001b[0m \u001b[38;5;28;01mdef\u001b[39;00m \u001b[38;5;21m__call__\u001b[39m(\u001b[38;5;28mself\u001b[39m, core_schema: CoreSchemaOrField, \u001b[38;5;241m/\u001b[39m) \u001b[38;5;241m-\u001b[39m\u001b[38;5;241m>\u001b[39m JsonSchemaValue:\n\u001b[0;32m     38\u001b[0m     \u001b[38;5;28;01mreturn\u001b[39;00m \u001b[38;5;28mself\u001b[39m\u001b[38;5;241m.\u001b[39mhandler(core_schema)\n\u001b[0;32m     40\u001b[0m \u001b[38;5;28;01mdef\u001b[39;00m \u001b[38;5;21mresolve_ref_schema\u001b[39m(\u001b[38;5;28mself\u001b[39m, maybe_ref_json_schema: JsonSchemaValue) \u001b[38;5;241m-\u001b[39m\u001b[38;5;241m>\u001b[39m JsonSchemaValue:\n",
      "File \u001b[1;32mc:\\Users\\aditya\\AppData\\Local\\Programs\\Python\\Python39\\lib\\site-packages\\pydantic\\json_schema.py:527\u001b[0m, in \u001b[0;36mnew_handler_func\u001b[1;34m(schema_or_field, current_handler, js_modify_function)\u001b[0m\n",
      "File \u001b[1;32mc:\\Users\\aditya\\AppData\\Local\\Programs\\Python\\Python39\\lib\\site-packages\\pydantic\\_internal\\_generate_schema.py:266\u001b[0m, in \u001b[0;36mmodify_model_json_schema\u001b[1;34m(schema_or_field, handler, cls, title)\u001b[0m\n\u001b[0;32m    259\u001b[0m \u001b[38;5;28;01mdef\u001b[39;00m \u001b[38;5;21m_extract_json_schema_info_from_field_info\u001b[39m(\n\u001b[0;32m    260\u001b[0m     info: FieldInfo \u001b[38;5;241m|\u001b[39m ComputedFieldInfo,\n\u001b[0;32m    261\u001b[0m ) \u001b[38;5;241m-\u001b[39m\u001b[38;5;241m>\u001b[39m \u001b[38;5;28mtuple\u001b[39m[JsonDict \u001b[38;5;241m|\u001b[39m \u001b[38;5;28;01mNone\u001b[39;00m, JsonDict \u001b[38;5;241m|\u001b[39m JsonSchemaExtraCallable \u001b[38;5;241m|\u001b[39m \u001b[38;5;28;01mNone\u001b[39;00m]:\n\u001b[0;32m    262\u001b[0m     json_schema_updates \u001b[38;5;241m=\u001b[39m {\n\u001b[0;32m    263\u001b[0m         \u001b[38;5;124m'\u001b[39m\u001b[38;5;124mtitle\u001b[39m\u001b[38;5;124m'\u001b[39m: info\u001b[38;5;241m.\u001b[39mtitle,\n\u001b[0;32m    264\u001b[0m         \u001b[38;5;124m'\u001b[39m\u001b[38;5;124mdescription\u001b[39m\u001b[38;5;124m'\u001b[39m: info\u001b[38;5;241m.\u001b[39mdescription,\n\u001b[0;32m    265\u001b[0m         \u001b[38;5;124m'\u001b[39m\u001b[38;5;124mdeprecated\u001b[39m\u001b[38;5;124m'\u001b[39m: \u001b[38;5;28mbool\u001b[39m(info\u001b[38;5;241m.\u001b[39mdeprecated) \u001b[38;5;129;01mor\u001b[39;00m info\u001b[38;5;241m.\u001b[39mdeprecated \u001b[38;5;241m==\u001b[39m \u001b[38;5;124m'\u001b[39m\u001b[38;5;124m'\u001b[39m \u001b[38;5;129;01mor\u001b[39;00m \u001b[38;5;28;01mNone\u001b[39;00m,\n\u001b[1;32m--> 266\u001b[0m         \u001b[38;5;124m'\u001b[39m\u001b[38;5;124mexamples\u001b[39m\u001b[38;5;124m'\u001b[39m: to_jsonable_python(info\u001b[38;5;241m.\u001b[39mexamples),\n\u001b[0;32m    267\u001b[0m     }\n\u001b[0;32m    268\u001b[0m     json_schema_updates \u001b[38;5;241m=\u001b[39m {k: v \u001b[38;5;28;01mfor\u001b[39;00m k, v \u001b[38;5;129;01min\u001b[39;00m json_schema_updates\u001b[38;5;241m.\u001b[39mitems() \u001b[38;5;28;01mif\u001b[39;00m v \u001b[38;5;129;01mis\u001b[39;00m \u001b[38;5;129;01mnot\u001b[39;00m \u001b[38;5;28;01mNone\u001b[39;00m}\n\u001b[0;32m    269\u001b[0m     \u001b[38;5;28;01mreturn\u001b[39;00m (json_schema_updates \u001b[38;5;129;01mor\u001b[39;00m \u001b[38;5;28;01mNone\u001b[39;00m, info\u001b[38;5;241m.\u001b[39mjson_schema_extra)\n",
      "File \u001b[1;32mc:\\Users\\aditya\\AppData\\Local\\Programs\\Python\\Python39\\lib\\site-packages\\pydantic\\dataclasses.py:14\u001b[0m, in \u001b[0;36m<module>\u001b[1;34m\u001b[0m\n\u001b[0;32m     11\u001b[0m \u001b[38;5;28;01mfrom\u001b[39;00m \u001b[38;5;21;01mtyping_extensions\u001b[39;00m \u001b[38;5;28;01mimport\u001b[39;00m Literal, TypeGuard, dataclass_transform\n\u001b[0;32m     13\u001b[0m \u001b[38;5;28;01mfrom\u001b[39;00m \u001b[38;5;21;01m.\u001b[39;00m\u001b[38;5;21;01m_internal\u001b[39;00m \u001b[38;5;28;01mimport\u001b[39;00m _config, _decorators, _namespace_utils, _typing_extra\n\u001b[1;32m---> 14\u001b[0m \u001b[38;5;28;01mfrom\u001b[39;00m \u001b[38;5;21;01m.\u001b[39;00m\u001b[38;5;21;01m_internal\u001b[39;00m \u001b[38;5;28;01mimport\u001b[39;00m _dataclasses \u001b[38;5;28;01mas\u001b[39;00m _pydantic_dataclasses\n\u001b[0;32m     15\u001b[0m \u001b[38;5;28;01mfrom\u001b[39;00m \u001b[38;5;21;01m.\u001b[39;00m\u001b[38;5;21;01m_migration\u001b[39;00m \u001b[38;5;28;01mimport\u001b[39;00m getattr_migration\n\u001b[0;32m     16\u001b[0m \u001b[38;5;28;01mfrom\u001b[39;00m \u001b[38;5;21;01m.\u001b[39;00m\u001b[38;5;21;01mconfig\u001b[39;00m \u001b[38;5;28;01mimport\u001b[39;00m ConfigDict\n",
      "File \u001b[1;32mc:\\Users\\aditya\\AppData\\Local\\Programs\\Python\\Python39\\lib\\site-packages\\pydantic\\_internal\\_dataclasses.py:30\u001b[0m, in \u001b[0;36m<module>\u001b[1;34m\u001b[0m\n\u001b[0;32m     28\u001b[0m \u001b[38;5;28;01mfrom\u001b[39;00m \u001b[38;5;21;01m.\u001b[39;00m\u001b[38;5;21;01m_schema_generation_shared\u001b[39;00m \u001b[38;5;28;01mimport\u001b[39;00m CallbackGetCoreSchemaHandler\n\u001b[0;32m     29\u001b[0m \u001b[38;5;28;01mfrom\u001b[39;00m \u001b[38;5;21;01m.\u001b[39;00m\u001b[38;5;21;01m_signature\u001b[39;00m \u001b[38;5;28;01mimport\u001b[39;00m generate_pydantic_signature\n\u001b[1;32m---> 30\u001b[0m \u001b[38;5;28;01mfrom\u001b[39;00m \u001b[38;5;21;01m.\u001b[39;00m\u001b[38;5;21;01m_utils\u001b[39;00m \u001b[38;5;28;01mimport\u001b[39;00m LazyClassAttribute\n\u001b[0;32m     32\u001b[0m \u001b[38;5;28;01mif\u001b[39;00m typing\u001b[38;5;241m.\u001b[39mTYPE_CHECKING:\n\u001b[0;32m     33\u001b[0m     \u001b[38;5;28;01mfrom\u001b[39;00m \u001b[38;5;21;01m_typeshed\u001b[39;00m \u001b[38;5;28;01mimport\u001b[39;00m DataclassInstance \u001b[38;5;28;01mas\u001b[39;00m StandardDataclass\n",
      "\u001b[1;31mImportError\u001b[0m: cannot import name 'LazyClassAttribute' from 'pydantic._internal._utils' (c:\\Users\\aditya\\AppData\\Local\\Programs\\Python\\Python39\\lib\\site-packages\\pydantic\\_internal\\_utils.py)"
     ]
    }
   ],
   "source": [
    "from pydantic import BaseModel\n",
    "from openai import AzureOpenAI\n",
    "\n",
    "\n",
    "class SearchQuery(BaseModel):\n",
    "    \"\"\"\n",
    "    This is the search query that will be used to search the web\n",
    "    \"\"\"\n",
    "    query: str\n",
    "\n",
    "prompt1 = f\"You need to convert the user query into a search query (which will be used to search the web) for the user query: {n}\"\n",
    "\n",
    "print(prompt1)\n",
    "completion = client.beta.chat.completions.parse(\n",
    "    model=\"mini-deployment\",  # replace with the model deployment name of your gpt-4o 2024-08-06 deployment\n",
    "    messages=[\n",
    "        {\"role\": \"system\", \"content\": \"You are a helpful assistant that converts user queries into search queries.\"},\n",
    "        {\"role\": \"user\", \"content\": prompt1},\n",
    "    ],\n",
    "    response_format=SearchQuery,\n",
    ")\n",
    "\n",
    "search_query = completion.choices[0].message.parsed\n",
    "print(search_query)\n",
    "print(completion.model_dump_json(indent=2))\n"
   ]
  },
  {
   "cell_type": "markdown",
   "metadata": {},
   "source": [
    "# Once we have the search query , we need a plan to break down the query into smaller pieces which will be used to define a report"
   ]
  },
  {
   "cell_type": "code",
   "execution_count": 22,
   "metadata": {},
   "outputs": [
    {
     "name": "stdout",
     "output_type": "stream",
     "text": [
      "\n",
      "As a research assistant, your task is to thoroughly break down the user query into detailed, manageable topics that will serve as the foundation for a comprehensive report. Ensure that each topic is relevant and contributes to a well-structured analysis.\n",
      "\n",
      "Example: User query: {Indian Food}\n",
      "\n",
      "Return the following topics: [Overview of Indian cuisine, Historical influences on Indian food, Regional variations in Indian cuisine, Cultural significance of Indian food, Contemporary trends in Indian dining, Health aspects of Indian food]\n",
      "\n"
     ]
    }
   ],
   "source": [
    "class Plan(BaseModel):\n",
    "    \"\"\"\n",
    "    This will breakdown the query into smaller pieces which will be used to define a report (word file, or pdf file (not sure yet))\n",
    "    \"\"\"\n",
    "    items: list[str]  # A list of items separated by commas\n",
    "\n",
    "prompt2 = '''\n",
    "As a research assistant, your task is to thoroughly break down the user query into detailed, manageable topics that will serve as the foundation for a comprehensive report. Ensure that each topic is relevant and contributes to a well-structured analysis.\n",
    "\n",
    "Example: User query: {Indian Food}\\n\\nReturn the following topics: [Overview of Indian cuisine, Historical influences on Indian food, Regional variations in Indian cuisine, Cultural significance of Indian food, Contemporary trends in Indian dining, Health aspects of Indian food]\n",
    "'''\n",
    "print(prompt2)\n",
    "\n",
    "completion = client.chat.completions.create(\n",
    "    model=\"mini-deployment\",  \n",
    "    messages=[\n",
    "        {\"role\": \"system\", \"content\": \"You are a research assistant that breaks down user queries into detailed, manageable topics.\"},\n",
    "        {\"role\": \"user\", \"content\": prompt2},\n",
    "    ],\n",
    "    response_model=Plan,\n",
    ")\n",
    "\n",
    "\n",
    "\n",
    "\n"
   ]
  },
  {
   "cell_type": "code",
   "execution_count": null,
   "metadata": {},
   "outputs": [],
   "source": []
  },
  {
   "cell_type": "code",
   "execution_count": null,
   "metadata": {},
   "outputs": [],
   "source": []
  }
 ],
 "metadata": {
  "kernelspec": {
   "display_name": ".venv",
   "language": "python",
   "name": "python3"
  },
  "language_info": {
   "codemirror_mode": {
    "name": "ipython",
    "version": 3
   },
   "file_extension": ".py",
   "mimetype": "text/x-python",
   "name": "python",
   "nbconvert_exporter": "python",
   "pygments_lexer": "ipython3",
   "version": "3.11.0"
  }
 },
 "nbformat": 4,
 "nbformat_minor": 2
}
