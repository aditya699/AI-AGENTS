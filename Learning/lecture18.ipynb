{
 "cells": [
  {
   "cell_type": "markdown",
   "metadata": {},
   "source": [
    "# Can we code a deep reasearch agent?(Basic Level)\n",
    "# By - Aditya Bhatt\n",
    "\n",
    "# TODO:\n",
    "\n",
    "# 1.Ask the user what exactly they need a research on?(a simple follow up question)\n",
    "# 2.Getting a lot of bugs on environment level will need to migate to proper py script\n"
   ]
  },
  {
   "cell_type": "markdown",
   "metadata": {},
   "source": [
    "# Enter the Research Topic"
   ]
  },
  {
   "cell_type": "code",
   "execution_count": 1,
   "metadata": {},
   "outputs": [
    {
     "name": "stdout",
     "output_type": "stream",
     "text": [
      "User has asked for research on Indian Food\n"
     ]
    }
   ],
   "source": [
    "query=\"On what topic you want to do deep research on ?\"\n",
    "# n=input(query)\n",
    "n=\"Indian Food\"\n",
    "print(\"User has asked for research on\",n)"
   ]
  },
  {
   "cell_type": "markdown",
   "metadata": {},
   "source": [
    "# Install the necessary libraries\n"
   ]
  },
  {
   "cell_type": "code",
   "execution_count": 7,
   "metadata": {},
   "outputs": [
    {
     "name": "stdout",
     "output_type": "stream",
     "text": [
      "^C\n",
      "Note: you may need to restart the kernel to use updated packages.\n"
     ]
    }
   ],
   "source": [
    "pip uninstall -q openai pydantic "
   ]
  },
  {
   "cell_type": "code",
   "execution_count": null,
   "metadata": {},
   "outputs": [],
   "source": [
    "! pip install google-search-results"
   ]
  },
  {
   "cell_type": "markdown",
   "metadata": {},
   "source": [
    "# openai 1.42.0 and pydantic 2.8.2"
   ]
  },
  {
   "cell_type": "code",
   "execution_count": 8,
   "metadata": {},
   "outputs": [
    {
     "name": "stdout",
     "output_type": "stream",
     "text": [
      "Note: you may need to restart the kernel to use updated packages.\n"
     ]
    },
    {
     "name": "stderr",
     "output_type": "stream",
     "text": [
      "  WARNING: Failed to remove contents in a temporary directory 'C:\\Users\\aditya\\Desktop\\AI AGENTS\\AI-AGENTS\\.venv\\Lib\\site-packages\\~ydantic_core'.\n",
      "  You can safely remove it manually.\n"
     ]
    }
   ],
   "source": [
    "pip install -q openai pydantic --upgrade\n"
   ]
  },
  {
   "cell_type": "code",
   "execution_count": 5,
   "metadata": {},
   "outputs": [
    {
     "name": "stdout",
     "output_type": "stream",
     "text": [
      "Collecting python-dotenvNote: you may need to restart the kernel to use updated packages.\n",
      "\n",
      "  Using cached python_dotenv-1.0.1-py3-none-any.whl.metadata (23 kB)\n",
      "Using cached python_dotenv-1.0.1-py3-none-any.whl (19 kB)\n",
      "Installing collected packages: python-dotenv\n",
      "Successfully installed python-dotenv-1.0.1\n"
     ]
    }
   ],
   "source": [
    "pip install python-dotenv"
   ]
  },
  {
   "cell_type": "markdown",
   "metadata": {},
   "source": [
    "# Set the client"
   ]
  },
  {
   "cell_type": "code",
   "execution_count": 11,
   "metadata": {},
   "outputs": [
    {
     "name": "stdout",
     "output_type": "stream",
     "text": [
      "Client.__init__() got an unexpected keyword argument 'proxies'\n",
      "Error in creating the client\n"
     ]
    }
   ],
   "source": [
    "import os\n",
    "from openai import AzureOpenAI\n",
    "from dotenv import load_dotenv\n",
    "load_dotenv()\n",
    "try:\n",
    "    client = AzureOpenAI(\n",
    "                        api_key = os.getenv(\"AZURE_OPENAI_API_KEY\"),  \n",
    "                        api_version = \"2024-10-21\",\n",
    "                        azure_endpoint = os.getenv(\"AZURE_OPENAI_ENDPOINT\") or \"default\"\n",
    "                        )\n",
    "    \n",
    "    print(\"Client created successfully\")\n",
    "except Exception as e:\n",
    "    print(e)\n",
    "    print(\"Error in creating the client\")\n"
   ]
  },
  {
   "cell_type": "markdown",
   "metadata": {},
   "source": [
    "# Test the client"
   ]
  },
  {
   "cell_type": "code",
   "execution_count": 18,
   "metadata": {},
   "outputs": [
    {
     "name": "stdout",
     "output_type": "stream",
     "text": [
      "Hello! How can I assist you today?\n",
      "Basic API call successful\n"
     ]
    }
   ],
   "source": [
    "try:\n",
    "    response = client.chat.completions.create(\n",
    "        model=\"mini-deployment\", # model = \"deployment_name\".\n",
    "        messages=[\n",
    "        {\"role\": \"system\", \"content\": \"Assistant is a large language model trained by OpenAI.\"},\n",
    "        {\"role\": \"user\", \"content\": \"Hi?\"}\n",
    "    ]\n",
    "    )\n",
    "\n",
    "    print(response.choices[0].message.content)\n",
    "    print(\"Basic API call successful\")\n",
    "except Exception as e:\n",
    "    print(e)\n",
    "    print(\"Basic API call failed\")\n"
   ]
  },
  {
   "cell_type": "markdown",
   "metadata": {},
   "source": [
    "# Convert the user query into a search query\n",
    "\n",
    "# Concept used :Structured Output and Pydantic way of doing it\n"
   ]
  },
  {
   "cell_type": "code",
   "execution_count": 31,
   "metadata": {},
   "outputs": [
    {
     "name": "stdout",
     "output_type": "stream",
     "text": [
      "You need to convert the user query into a search query (which will be used to search the web) for the user query: Indian Food\n",
      "Indian Food recipes, dishes, and cuisine\n"
     ]
    }
   ],
   "source": [
    "from pydantic import BaseModel\n",
    "from openai import AzureOpenAI\n",
    "\n",
    "\n",
    "class SearchQuery(BaseModel):\n",
    "    \"\"\"\n",
    "    This is the search query that will be used to search the web\n",
    "    \"\"\"\n",
    "    query: str\n",
    "\n",
    "prompt1 = f\"You need to convert the user query into a search query (which will be used to search the web) for the user query: {n}\"\n",
    "\n",
    "print(prompt1)\n",
    "completion = client.beta.chat.completions.parse(\n",
    "    model=\"mini-deployment\",  # replace with the model deployment name of your gpt-4o 2024-08-06 deployment\n",
    "    messages=[\n",
    "        {\"role\": \"system\", \"content\": \"You are a helpful assistant that converts user queries into search queries.\"},\n",
    "        {\"role\": \"user\", \"content\": prompt1},\n",
    "    ],\n",
    "    response_format=SearchQuery,\n",
    ")\n",
    "\n",
    "search_query = completion.choices[0].message.parsed\n",
    "query = search_query.query\n",
    "print(search_query.query)"
   ]
  },
  {
   "cell_type": "markdown",
   "metadata": {},
   "source": [
    "# Once we have the search query , we need a plan to break down the query into smaller pieces which will be used to define a report"
   ]
  },
  {
   "cell_type": "code",
   "execution_count": 34,
   "metadata": {},
   "outputs": [
    {
     "name": "stdout",
     "output_type": "stream",
     "text": [
      "\n",
      "As a research assistant, your task is to thoroughly break down the user query into detailed, manageable topics that will serve as the foundation for a comprehensive report. Ensure that each topic is relevant and contributes to a well-structured analysis.\n",
      "\n",
      "Example: User query: Indian Food\n",
      "\n",
      "Return the following topics: [Overview of Indian cuisine, Historical influences on Indian food, Regional variations in Indian cuisine, Cultural significance of Indian food, Contemporary trends in Indian dining, Health aspects of Indian food]\n",
      "\n",
      "User query: Indian Food\n",
      "\n"
     ]
    }
   ],
   "source": [
    "class Plan(BaseModel):\n",
    "    \"\"\"\n",
    "    This will breakdown the query into smaller pieces which will be used to define a report (word file, or pdf file (not sure yet))\n",
    "    \"\"\"\n",
    "    items: list[str]  # A list of items separated by commas\n",
    "\n",
    "prompt2 = f'''\n",
    "As a research assistant, your task is to thoroughly break down the user query into detailed, manageable topics that will serve as the foundation for a comprehensive report. Ensure that each topic is relevant and contributes to a well-structured analysis.\n",
    "\n",
    "Example: User query: Indian Food\\n\\nReturn the following topics: [Overview of Indian cuisine, Historical influences on Indian food, Regional variations in Indian cuisine, Cultural significance of Indian food, Contemporary trends in Indian dining, Health aspects of Indian food]\n",
    "\n",
    "User query: {n}\n",
    "'''\n",
    "print(prompt2)\n",
    "\n",
    "completion = client.beta.chat.completions.parse(\n",
    "    model=\"mini-deployment\",  \n",
    "    messages=[\n",
    "        {\"role\": \"system\", \"content\": \"You are a research assistant that breaks down user queries into detailed, manageable topics.\"},\n",
    "        {\"role\": \"user\", \"content\": prompt2},\n",
    "    ],\n",
    "    response_format=Plan,\n",
    ")\n",
    "list_of_topics = completion.choices[0].message.parsed.items\n"
   ]
  },
  {
   "cell_type": "code",
   "execution_count": 35,
   "metadata": {},
   "outputs": [
    {
     "name": "stdout",
     "output_type": "stream",
     "text": [
      "This is the topic: Overview of Indian cuisine\n",
      "This is the topic: Historical influences on Indian food\n",
      "This is the topic: Regional variations in Indian cuisine\n",
      "This is the topic: Common ingredients used in Indian cooking\n",
      "This is the topic: Popular Indian dishes and their significance\n",
      "This is the topic: Cultural significance of Indian food\n",
      "This is the topic: Religious and dietary restrictions related to Indian cuisine\n",
      "This is the topic: Contemporary trends in Indian dining\n",
      "This is the topic: Influence of globalization on Indian food\n",
      "This is the topic: Health aspects of Indian food\n",
      "This is the topic: Indian food in the diaspora\n",
      "This is the topic: Cooking methods and techniques in Indian cuisine\n"
     ]
    }
   ],
   "source": [
    "for i in list_of_topics:\n",
    "    print(\"This is the topic:\",i)"
   ]
  },
  {
   "cell_type": "markdown",
   "metadata": {},
   "source": [
    "# Once we have the list of topics, we can use these topics to search the web and get the relevant information."
   ]
  },
  {
   "cell_type": "code",
   "execution_count": 36,
   "metadata": {},
   "outputs": [
    {
     "data": {
      "text/plain": [
       "['Overview of Indian cuisine',\n",
       " 'Historical influences on Indian food',\n",
       " 'Regional variations in Indian cuisine',\n",
       " 'Common ingredients used in Indian cooking',\n",
       " 'Popular Indian dishes and their significance',\n",
       " 'Cultural significance of Indian food',\n",
       " 'Religious and dietary restrictions related to Indian cuisine',\n",
       " 'Contemporary trends in Indian dining',\n",
       " 'Influence of globalization on Indian food',\n",
       " 'Health aspects of Indian food',\n",
       " 'Indian food in the diaspora',\n",
       " 'Cooking methods and techniques in Indian cuisine']"
      ]
     },
     "execution_count": 36,
     "metadata": {},
     "output_type": "execute_result"
    }
   ],
   "source": [
    "list_of_topics"
   ]
  },
  {
   "cell_type": "code",
   "execution_count": 57,
   "metadata": {},
   "outputs": [],
   "source": [
    "import ssl\n",
    "import certifi\n",
    "\n",
    "ssl_context = ssl.create_default_context(cafile=certifi.where())\n"
   ]
  },
  {
   "cell_type": "code",
   "execution_count": 13,
   "metadata": {},
   "outputs": [
    {
     "ename": "NameError",
     "evalue": "name 'list_of_topics' is not defined",
     "output_type": "error",
     "traceback": [
      "\u001b[1;31m---------------------------------------------------------------------------\u001b[0m",
      "\u001b[1;31mNameError\u001b[0m                                 Traceback (most recent call last)",
      "Cell \u001b[1;32mIn[13], line 53\u001b[0m\n\u001b[0;32m     50\u001b[0m api_key \u001b[38;5;241m=\u001b[39m \u001b[38;5;124m\"\u001b[39m\u001b[38;5;124m4040378d372e7d863af3811b19de34149fad33254c776cc2bff1b6071a8a87f9\u001b[39m\u001b[38;5;124m\"\u001b[39m\n\u001b[0;32m     52\u001b[0m \u001b[38;5;66;03m# Get the URLs\u001b[39;00m\n\u001b[1;32m---> 53\u001b[0m urls \u001b[38;5;241m=\u001b[39m get_google_urls(\u001b[43mlist_of_topics\u001b[49m[\u001b[38;5;241m0\u001b[39m], api_key)\n\u001b[0;32m     55\u001b[0m \u001b[38;5;66;03m# Print the URLs\u001b[39;00m\n\u001b[0;32m     56\u001b[0m \u001b[38;5;28mprint\u001b[39m(urls)\n",
      "\u001b[1;31mNameError\u001b[0m: name 'list_of_topics' is not defined"
     ]
    }
   ],
   "source": [
    "import os\n",
    "import ssl\n",
    "import requests\n",
    "from urllib3.exceptions import InsecureRequestWarning\n",
    "\n",
    "# Suppress only the single InsecureRequestWarning\n",
    "requests.packages.urllib3.disable_warnings(category=InsecureRequestWarning)\n",
    "\n",
    "# Multiple SSL bypass methods\n",
    "ssl._create_default_https_context = ssl._create_unverified_context\n",
    "\n",
    "def get_google_urls(query, api_key, num_urls=5):\n",
    "    base_url = \"https://serpapi.com/search.json\"\n",
    "    \n",
    "    params = {\n",
    "        \"engine\": \"google\",\n",
    "        \"q\": query,\n",
    "        \"google_domain\": \"google.com\",\n",
    "        \"gl\": \"us\",\n",
    "        \"hl\": \"en\",\n",
    "        \"api_key\": api_key,\n",
    "        \"num\": 10,  # Request more results to ensure we get enough\n",
    "        \"start\": 0  # Start from the first result\n",
    "    }\n",
    "    \n",
    "    try:\n",
    "        response = requests.get(base_url, params=params, verify=False)\n",
    "        response.raise_for_status()\n",
    "        results = response.json()\n",
    "        \n",
    "        urls = []\n",
    "        if \"organic_results\" in results:\n",
    "            urls = [result['link'] for result in results[\"organic_results\"]]\n",
    "            \n",
    "            # If we still don't have enough results, make another request\n",
    "            if len(urls) < num_urls:\n",
    "                params[\"start\"] = len(urls)  # Start from where we left off\n",
    "                response = requests.get(base_url, params=params, verify=False)\n",
    "                more_results = response.json()\n",
    "                if \"organic_results\" in more_results:\n",
    "                    urls.extend([result['link'] for result in more_results[\"organic_results\"]])\n",
    "            \n",
    "            return urls[:num_urls]  # Return exactly num_urls links\n",
    "            \n",
    "    except Exception as e:\n",
    "        print(f\"Error: {e}\")\n",
    "        return []\n",
    "\n",
    "# Your API key\n",
    "api_key = \"4040378d372e7d863af3811b19de34149fad33254c776cc2bff1b6071a8a87f9\"\n",
    "\n",
    "# Get the URLs\n",
    "urls = get_google_urls(list_of_topics[0], api_key)\n",
    "\n",
    "# Print the URLs\n",
    "print(urls)"
   ]
  },
  {
   "cell_type": "code",
   "execution_count": 12,
   "metadata": {},
   "outputs": [
    {
     "name": "stdout",
     "output_type": "stream",
     "text": [
      "https://sloanreview.mit.edu/article/five-trends-in-ai-and-data-science-for-2025/\n",
      "https://www.techtarget.com/searchenterpriseai/tip/9-top-AI-and-machine-learning-trends\n",
      "https://news.microsoft.com/source/features/ai/6-ai-trends-youll-see-more-of-in-2025/\n",
      "https://www.digitalocean.com/resources/articles/ai-trends\n",
      "https://www.newark.com/latest-trends-in-artificial-intelligence\n"
     ]
    }
   ],
   "source": [
    "for i in urls:\n",
    "    print(i)"
   ]
  },
  {
   "cell_type": "code",
   "execution_count": null,
   "metadata": {},
   "outputs": [],
   "source": []
  }
 ],
 "metadata": {
  "kernelspec": {
   "display_name": ".venv",
   "language": "python",
   "name": "python3"
  },
  "language_info": {
   "codemirror_mode": {
    "name": "ipython",
    "version": 3
   },
   "file_extension": ".py",
   "mimetype": "text/x-python",
   "name": "python",
   "nbconvert_exporter": "python",
   "pygments_lexer": "ipython3",
   "version": "3.11.0"
  }
 },
 "nbformat": 4,
 "nbformat_minor": 2
}
