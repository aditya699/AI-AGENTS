{
 "cells": [
  {
   "cell_type": "markdown",
   "metadata": {},
   "source": [
    "# Parallelization: Distributes independent subtasks across multiple LLMs for concurrent processing"
   ]
  },
  {
   "cell_type": "code",
   "execution_count": null,
   "metadata": {},
   "outputs": [],
   "source": [
    "%pip install -qU langchain-google-genai"
   ]
  },
  {
   "cell_type": "code",
   "execution_count": 2,
   "metadata": {},
   "outputs": [],
   "source": [
    "import os\n",
    "from dotenv import load_dotenv\n",
    "\n",
    "load_dotenv()\n",
    "\n",
    "os.environ[\"GOOGLE_API_KEY\"] = os.getenv(\"GEMINI_API_KEY\")\n",
    "\n",
    "from langchain_google_genai import ChatGoogleGenerativeAI\n",
    "\n",
    "llm = ChatGoogleGenerativeAI(model=\"gemini-1.5-flash-latest\")\n",
    "\n"
   ]
  },
  {
   "cell_type": "code",
   "execution_count": 35,
   "metadata": {},
   "outputs": [
    {
     "name": "stdout",
     "output_type": "stream",
     "text": [
      "नमस्ते रमन, कैसे हो?\n",
      "मैं ठीक हूँ भाई, तुम्हारी बहुत याद आई।\n",
      "तुम पिछली बार से बहुत अच्छे लग रहे हो।\n"
     ]
    }
   ],
   "source": [
    "from concurrent.futures import ThreadPoolExecutor#This is abstract representation of a pool of threads which can be used to execute tasks in parallel\n",
    "\n",
    "# List of messages to translate\n",
    "a = [\"hi raman how are you?\",\n",
    "     \"I am good bro missed you so much\",\n",
    "     \"You are so looking good from last time\"]\n",
    "\n",
    "# Function to process a single message\n",
    "def process_message(message):\n",
    "    \"\"\"\n",
    "    This function takes a message and translates it to Hindi using the LLM.\n",
    "    \"\"\"\n",
    "    return llm.invoke(f\"Translate this to Hindi:\\n{message}.Only give me the translation no explanation or any other text\")\n",
    "\n",
    "# Using ThreadPoolExecutor for parallel processing\n",
    "with ThreadPoolExecutor(max_workers=3) as executor:\n",
    "    results = list(executor.map(process_message, a))\n",
    "\n",
    "# Printing results\n",
    "for result in results:\n",
    "    print(result.content)\n"
   ]
  },
  {
   "cell_type": "markdown",
   "metadata": {},
   "source": [
    "# Homework:Try to add context to the messages and see if the results are better or not for translation\n",
    "# Note- This is a just a demo to show how parallelization works.Python has some considerations for parallelization.(will be covered in future lectures)\n"
   ]
  },
  {
   "cell_type": "markdown",
   "metadata": {},
   "source": [
    "# Routing: Dynamically selects specialized LLM paths based on input characteristics\n"
   ]
  },
  {
   "cell_type": "code",
   "execution_count": 36,
   "metadata": {},
   "outputs": [
    {
     "name": "stdout",
     "output_type": "stream",
     "text": [
      "[\" 'Life Insurance'\", \"'Health Insurance'\", \"'Car Insurance'\", \"'Home Insurance'\", \"'General Consultation' \"]\n"
     ]
    }
   ],
   "source": [
    "options=\"\"\" 'Life Insurance','Health Insurance','Car Insurance','Home Insurance','General Consultation' \"\"\"\n",
    "print(options.split(\",\"))\n",
    "input_question=\"My car is damaged and I want to buy a car insurance policy?\"\n",
    "\n",
    "selection_prompt=f\"\"\"\n",
    "user query: {input_question}\n",
    "Analyze the user query and select the most relevant option from the list of options {options.split(\",\")}.\n",
    "First explain your reasoning and then give me the answer in this XML format:\n",
    "\n",
    "<reasoning>\n",
    "Explain your reasoning here\n",
    "</reasoning> \n",
    "<answer>\n",
    "Answer here\n",
    "</answer>\n",
    "\"\"\"\n",
    "\n",
    "result=llm.invoke(selection_prompt)\n",
    "\n"
   ]
  },
  {
   "cell_type": "code",
   "execution_count": 37,
   "metadata": {},
   "outputs": [
    {
     "name": "stdout",
     "output_type": "stream",
     "text": [
      "'Car Insurance'\n",
      "The user explicitly states that their car is damaged and they want to buy a car insurance policy.  The query directly relates to car insurance.  The other options are irrelevant; life insurance covers death, health insurance covers medical expenses, home insurance covers damage to a home, and general consultation is a broad term not applicable to this specific situation.\n"
     ]
    }
   ],
   "source": [
    "def extract_option(result):\n",
    "    return result.content.split(\"<answer>\")[1].split(\"</answer>\")[0].strip()\n",
    "\n",
    "def extract_reasoning(result):\n",
    "    return result.content.split(\"<reasoning>\")[1].split(\"</reasoning>\")[0].strip()\n",
    "\n",
    "option=extract_option(result)\n",
    "reasoning=extract_reasoning(result)\n",
    "print(option)\n",
    "print(reasoning)\n",
    "\n"
   ]
  },
  {
   "cell_type": "code",
   "execution_count": 31,
   "metadata": {},
   "outputs": [
    {
     "data": {
      "text/plain": [
       "\"'Car Insurance'\""
      ]
     },
     "execution_count": 31,
     "metadata": {},
     "output_type": "execute_result"
    }
   ],
   "source": [
    "option"
   ]
  },
  {
   "cell_type": "code",
   "execution_count": 33,
   "metadata": {},
   "outputs": [
    {
     "name": "stdout",
     "output_type": "stream",
     "text": [
      "Car Insurance tool free number is 1800-180-1961\n"
     ]
    }
   ],
   "source": [
    "#Based on the option selected, print the tool free number(or any custom response which is powered by business logic)\n",
    "if option==\"'Car Insurance'\":\n",
    "    print(\"Car Insurance tool free number is 1800-180-1961\")\n",
    "elif option==\"'Health Insurance'\":\n",
    "    print(\"Health Insurance tool free number is 1800-180-1961\")\n",
    "elif option==\"'Life Insurance'\":\n",
    "    print(\"Life Insurance tool free number is 1800-180-1961\")\n",
    "elif option==\"'Home Insurance'\":\n",
    "    print(\"Home Insurance tool free number is 1800-180-1961\")\n",
    "else:\n",
    "    print(\"General Consultation tool free number is 1800-180-1961\")\n"
   ]
  }
 ],
 "metadata": {
  "kernelspec": {
   "display_name": "Python 3",
   "language": "python",
   "name": "python3"
  },
  "language_info": {
   "codemirror_mode": {
    "name": "ipython",
    "version": 3
   },
   "file_extension": ".py",
   "mimetype": "text/x-python",
   "name": "python",
   "nbconvert_exporter": "python",
   "pygments_lexer": "ipython3",
   "version": "3.9.5"
  }
 },
 "nbformat": 4,
 "nbformat_minor": 2
}
