{
 "cells": [
  {
   "cell_type": "markdown",
   "metadata": {},
   "source": [
    "# Lecture 4\n",
    "\n",
    "# Tool Calling, function calling\n",
    "\n",
    "# Note : This is one of the most concept that is as of today you can add business logic with just a python function and let llm use it.\n",
    "\n",
    "Refer this https://python.langchain.com/v0.1/docs/modules/model_io/chat/function_calling/"
   ]
  },
  {
   "cell_type": "code",
   "execution_count": 1,
   "metadata": {},
   "outputs": [
    {
     "name": "stdout",
     "output_type": "stream",
     "text": [
      "Note: you may need to restart the kernel to use updated packages.\n"
     ]
    },
    {
     "name": "stderr",
     "output_type": "stream",
     "text": [
      "WARNING: Ignoring invalid distribution -angchain (c:\\users\\aditya\\appdata\\local\\programs\\python\\python39\\lib\\site-packages)\n",
      "WARNING: Ignoring invalid distribution -angchain-community (c:\\users\\aditya\\appdata\\local\\programs\\python\\python39\\lib\\site-packages)\n",
      "WARNING: Ignoring invalid distribution -angchain (c:\\users\\aditya\\appdata\\local\\programs\\python\\python39\\lib\\site-packages)\n",
      "WARNING: Ignoring invalid distribution -angchain-community (c:\\users\\aditya\\appdata\\local\\programs\\python\\python39\\lib\\site-packages)\n",
      "DEPRECATION: uvicorn 0.14.0 has a non-standard dependency specifier click>=7.*. pip 24.1 will enforce this behaviour change. A possible replacement is to upgrade to a newer version of uvicorn or contact the author to suggest that they release a version with a conforming dependency specifiers. Discussion can be found at https://github.com/pypa/pip/issues/12063\n",
      "\n",
      "[notice] A new release of pip is available: 24.0 -> 24.3.1\n",
      "[notice] To update, run: python.exe -m pip install --upgrade pip\n"
     ]
    }
   ],
   "source": [
    "%pip install -qU langchain-google-genai"
   ]
  },
  {
   "cell_type": "code",
   "execution_count": 2,
   "metadata": {},
   "outputs": [],
   "source": [
    "import os\n",
    "from dotenv import load_dotenv\n",
    "\n",
    "load_dotenv()\n",
    "\n",
    "os.environ[\"GOOGLE_API_KEY\"] = os.getenv(\"GEMINI_API_KEY\")\n",
    "\n",
    "from langchain_google_genai import ChatGoogleGenerativeAI\n",
    "\n",
    "llm = ChatGoogleGenerativeAI(model=\"gemini-1.5-flash-latest\")\n",
    "\n"
   ]
  },
  {
   "cell_type": "markdown",
   "metadata": {},
   "source": [
    "# Understanding Tool Calling\n",
    "\n"
   ]
  },
  {
   "cell_type": "markdown",
   "metadata": {},
   "source": [
    "Import Libraries"
   ]
  },
  {
   "cell_type": "code",
   "execution_count": 65,
   "metadata": {},
   "outputs": [],
   "source": [
    "\n",
    "from langchain_core.messages import HumanMessage,ToolMessage\n",
    "from langchain_core.tools import tool\n"
   ]
  },
  {
   "cell_type": "markdown",
   "metadata": {},
   "source": [
    "Define Tool\n"
   ]
  },
  {
   "cell_type": "code",
   "execution_count": 66,
   "metadata": {},
   "outputs": [],
   "source": [
    "@tool\n",
    "def bmi_calculator(weight: float, height: float) -> str:\n",
    "    \"\"\"\n",
    "    Calculate the BMI of a person given their weight and height.\n",
    "    \"\"\"\n",
    "    bmi=weight/(height**2)\n",
    "    if bmi < 18.5:\n",
    "        return \"Underweight\"\n",
    "    elif bmi >= 18.5 and bmi < 24.9:\n",
    "        return \"Normal weight\"\n",
    "    elif bmi >= 24.9 and bmi < 29.9:\n",
    "        return \"Overweight\"\n",
    "    else:\n",
    "        return \"Obesity\"\n",
    "\n",
    "tools = [bmi_calculator]\n"
   ]
  },
  {
   "cell_type": "markdown",
   "metadata": {},
   "source": [
    "Bind your llm with tools\n"
   ]
  },
  {
   "cell_type": "code",
   "execution_count": 67,
   "metadata": {},
   "outputs": [],
   "source": [
    "llm_with_tool = llm.bind_tools(tools)\n"
   ]
  },
  {
   "cell_type": "code",
   "execution_count": 76,
   "metadata": {},
   "outputs": [],
   "source": [
    "query = \"What is the BMI of a person who is 100kg and 1.75m tall?\"\n"
   ]
  },
  {
   "cell_type": "code",
   "execution_count": 77,
   "metadata": {},
   "outputs": [
    {
     "data": {
      "text/plain": [
       "[HumanMessage(content='What is the BMI of a person who is 100kg and 1.75m tall?', additional_kwargs={}, response_metadata={})]"
      ]
     },
     "execution_count": 77,
     "metadata": {},
     "output_type": "execute_result"
    }
   ],
   "source": [
    "message = [HumanMessage(content=query)]\n",
    "\n",
    "ai_message = llm_with_tool.invoke(message)\n",
    "\n",
    "message\n",
    "\n"
   ]
  },
  {
   "cell_type": "code",
   "execution_count": 78,
   "metadata": {},
   "outputs": [
    {
     "data": {
      "text/plain": [
       "AIMessage(content='', additional_kwargs={'function_call': {'name': 'bmi_calculator', 'arguments': '{\"height\": 1.75, \"weight\": 100.0}'}}, response_metadata={'prompt_feedback': {'block_reason': 0, 'safety_ratings': []}, 'finish_reason': 'STOP', 'safety_ratings': []}, id='run-41480096-b34c-469c-8720-9bdc3a6abb08-0', tool_calls=[{'name': 'bmi_calculator', 'args': {'height': 1.75, 'weight': 100.0}, 'id': 'bee2adbd-f987-44e3-9d36-cf837e63fedb', 'type': 'tool_call'}], usage_metadata={'input_tokens': 79, 'output_tokens': 5, 'total_tokens': 84, 'input_token_details': {'cache_read': 0}})"
      ]
     },
     "execution_count": 78,
     "metadata": {},
     "output_type": "execute_result"
    }
   ],
   "source": [
    "ai_message\n"
   ]
  },
  {
   "cell_type": "code",
   "execution_count": 79,
   "metadata": {},
   "outputs": [
    {
     "name": "stdout",
     "output_type": "stream",
     "text": [
      "[HumanMessage(content='What is the BMI of a person who is 100kg and 1.75m tall?', additional_kwargs={}, response_metadata={}), AIMessage(content='', additional_kwargs={'function_call': {'name': 'bmi_calculator', 'arguments': '{\"height\": 1.75, \"weight\": 100.0}'}}, response_metadata={'prompt_feedback': {'block_reason': 0, 'safety_ratings': []}, 'finish_reason': 'STOP', 'safety_ratings': []}, id='run-41480096-b34c-469c-8720-9bdc3a6abb08-0', tool_calls=[{'name': 'bmi_calculator', 'args': {'height': 1.75, 'weight': 100.0}, 'id': 'bee2adbd-f987-44e3-9d36-cf837e63fedb', 'type': 'tool_call'}], usage_metadata={'input_tokens': 79, 'output_tokens': 5, 'total_tokens': 84, 'input_token_details': {'cache_read': 0}})]\n"
     ]
    }
   ],
   "source": [
    "message.append(ai_message)\n",
    "\n",
    "print(message)"
   ]
  },
  {
   "cell_type": "code",
   "execution_count": 80,
   "metadata": {},
   "outputs": [
    {
     "name": "stdout",
     "output_type": "stream",
     "text": [
      "{'name': 'bmi_calculator', 'args': {'height': 1.75, 'weight': 100.0}, 'id': 'bee2adbd-f987-44e3-9d36-cf837e63fedb', 'type': 'tool_call'}\n"
     ]
    }
   ],
   "source": [
    "for i in ai_message.tool_calls:\n",
    "    print(i)\n",
    "\n"
   ]
  },
  {
   "cell_type": "code",
   "execution_count": 81,
   "metadata": {},
   "outputs": [
    {
     "name": "stdout",
     "output_type": "stream",
     "text": [
      "name='bmi_calculator' description='Calculate the BMI of a person given their weight and height.' args_schema=<class 'langchain_core.utils.pydantic.bmi_calculator'> func=<function bmi_calculator at 0x000002401AB5E8B0>\n"
     ]
    }
   ],
   "source": [
    "for i in ai_message.tool_calls:\n",
    "    selected_tool = {\"bmi_calculator\": bmi_calculator}[i['name'].lower()]\n",
    "    print(selected_tool)\n",
    "\n",
    "\n"
   ]
  },
  {
   "cell_type": "code",
   "execution_count": 82,
   "metadata": {},
   "outputs": [
    {
     "name": "stdout",
     "output_type": "stream",
     "text": [
      "name='bmi_calculator' description='Calculate the BMI of a person given their weight and height.' args_schema=<class 'langchain_core.utils.pydantic.bmi_calculator'> func=<function bmi_calculator at 0x000002401AB5E8B0>\n",
      "Obesity\n",
      "[HumanMessage(content='What is the BMI of a person who is 100kg and 1.75m tall?', additional_kwargs={}, response_metadata={}), AIMessage(content='', additional_kwargs={'function_call': {'name': 'bmi_calculator', 'arguments': '{\"height\": 1.75, \"weight\": 100.0}'}}, response_metadata={'prompt_feedback': {'block_reason': 0, 'safety_ratings': []}, 'finish_reason': 'STOP', 'safety_ratings': []}, id='run-41480096-b34c-469c-8720-9bdc3a6abb08-0', tool_calls=[{'name': 'bmi_calculator', 'args': {'height': 1.75, 'weight': 100.0}, 'id': 'bee2adbd-f987-44e3-9d36-cf837e63fedb', 'type': 'tool_call'}], usage_metadata={'input_tokens': 79, 'output_tokens': 5, 'total_tokens': 84, 'input_token_details': {'cache_read': 0}}), ToolMessage(content='Obesity', tool_call_id='bee2adbd-f987-44e3-9d36-cf837e63fedb')]\n"
     ]
    }
   ],
   "source": [
    "for i in ai_message.tool_calls:\n",
    "    selected_tool = {\"bmi_calculator\": bmi_calculator}[i['name'].lower()]\n",
    "    print(selected_tool)\n",
    "    tool_output = selected_tool.invoke(i['args'])\n",
    "    print(tool_output)\n",
    "    message.append(ToolMessage(content=tool_output, tool_call_id=i['id']))\n",
    "\n",
    "\n",
    "print(message)\n",
    "\n",
    "\n"
   ]
  },
  {
   "cell_type": "code",
   "execution_count": 83,
   "metadata": {},
   "outputs": [
    {
     "data": {
      "text/plain": [
       "'The BMI is in the Obesity range.'"
      ]
     },
     "execution_count": 83,
     "metadata": {},
     "output_type": "execute_result"
    }
   ],
   "source": [
    "llm_with_tool.invoke(message).content\n"
   ]
  }
 ],
 "metadata": {
  "kernelspec": {
   "display_name": "Python 3",
   "language": "python",
   "name": "python3"
  },
  "language_info": {
   "codemirror_mode": {
    "name": "ipython",
    "version": 3
   },
   "file_extension": ".py",
   "mimetype": "text/x-python",
   "name": "python",
   "nbconvert_exporter": "python",
   "pygments_lexer": "ipython3",
   "version": "3.9.5"
  }
 },
 "nbformat": 4,
 "nbformat_minor": 2
}
