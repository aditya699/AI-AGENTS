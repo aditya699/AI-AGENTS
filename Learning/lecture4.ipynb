{
 "cells": [
  {
   "cell_type": "markdown",
   "metadata": {},
   "source": [
    "# Lecture 4\n",
    "\n",
    "# Tool Calling, function calling\n",
    "\n",
    "# Note : This is one of the most concept that is as of today you can add business logic with just a python function and let llm use it.\n",
    "\n",
    "Refer this https://python.langchain.com/v0.1/docs/modules/model_io/chat/function_calling/"
   ]
  },
  {
   "cell_type": "code",
   "execution_count": 1,
   "metadata": {},
   "outputs": [
    {
     "name": "stdout",
     "output_type": "stream",
     "text": [
      "Requirement already satisfied: langchain-google-genai in c:\\users\\aditya\\appdata\\local\\programs\\python\\python39\\lib\\site-packages (2.0.7)\n",
      "Requirement already satisfied: filetype<2.0.0,>=1.2.0 in c:\\users\\aditya\\appdata\\local\\programs\\python\\python39\\lib\\site-packages (from langchain-google-genai) (1.2.0)\n",
      "Requirement already satisfied: google-generativeai<0.9.0,>=0.8.0 in c:\\users\\aditya\\appdata\\local\\programs\\python\\python39\\lib\\site-packages (from langchain-google-genai) (0.8.3)\n",
      "Requirement already satisfied: langchain-core<0.4,>=0.3.15 in c:\\users\\aditya\\appdata\\local\\programs\\python\\python39\\lib\\site-packages (from langchain-google-genai) (0.3.30)\n",
      "Requirement already satisfied: pydantic<3,>=2 in c:\\users\\aditya\\appdata\\local\\programs\\python\\python39\\lib\\site-packages (from langchain-google-genai) (2.9.2)\n",
      "Requirement already satisfied: google-ai-generativelanguage==0.6.10 in c:\\users\\aditya\\appdata\\local\\programs\\python\\python39\\lib\\site-packages (from google-generativeai<0.9.0,>=0.8.0->langchain-google-genai) (0.6.10)\n",
      "Requirement already satisfied: google-api-core in c:\\users\\aditya\\appdata\\local\\programs\\python\\python39\\lib\\site-packages (from google-generativeai<0.9.0,>=0.8.0->langchain-google-genai) (2.19.0)\n",
      "Requirement already satisfied: google-api-python-client in c:\\users\\aditya\\appdata\\local\\programs\\python\\python39\\lib\\site-packages (from google-generativeai<0.9.0,>=0.8.0->langchain-google-genai) (2.131.0)\n",
      "Requirement already satisfied: google-auth>=2.15.0 in c:\\users\\aditya\\appdata\\local\\programs\\python\\python39\\lib\\site-packages (from google-generativeai<0.9.0,>=0.8.0->langchain-google-genai) (2.29.0)\n",
      "Requirement already satisfied: protobuf in c:\\users\\aditya\\appdata\\local\\programs\\python\\python39\\lib\\site-packages (from google-generativeai<0.9.0,>=0.8.0->langchain-google-genai) (4.25.4)\n",
      "Requirement already satisfied: tqdm in c:\\users\\aditya\\appdata\\local\\programs\\python\\python39\\lib\\site-packages (from google-generativeai<0.9.0,>=0.8.0->langchain-google-genai) (4.66.5)\n",
      "Requirement already satisfied: typing-extensions in c:\\users\\aditya\\appdata\\local\\programs\\python\\python39\\lib\\site-packages (from google-generativeai<0.9.0,>=0.8.0->langchain-google-genai) (4.12.0)\n",
      "Requirement already satisfied: proto-plus<2.0.0dev,>=1.22.3 in c:\\users\\aditya\\appdata\\local\\programs\\python\\python39\\lib\\site-packages (from google-ai-generativelanguage==0.6.10->google-generativeai<0.9.0,>=0.8.0->langchain-google-genai) (1.23.0)\n",
      "Requirement already satisfied: PyYAML>=5.3 in c:\\users\\aditya\\appdata\\local\\programs\\python\\python39\\lib\\site-packages (from langchain-core<0.4,>=0.3.15->langchain-google-genai) (6.0)\n",
      "Requirement already satisfied: jsonpatch<2.0,>=1.33 in c:\\users\\aditya\\appdata\\local\\programs\\python\\python39\\lib\\site-packages (from langchain-core<0.4,>=0.3.15->langchain-google-genai) (1.33)\n",
      "Requirement already satisfied: langsmith<0.3,>=0.1.125 in c:\\users\\aditya\\appdata\\local\\programs\\python\\python39\\lib\\site-packages (from langchain-core<0.4,>=0.3.15->langchain-google-genai) (0.1.129)\n",
      "Requirement already satisfied: packaging<25,>=23.2 in c:\\users\\aditya\\appdata\\local\\programs\\python\\python39\\lib\\site-packages (from langchain-core<0.4,>=0.3.15->langchain-google-genai) (23.2)\n",
      "Requirement already satisfied: tenacity!=8.4.0,<10.0.0,>=8.1.0 in c:\\users\\aditya\\appdata\\local\\programs\\python\\python39\\lib\\site-packages (from langchain-core<0.4,>=0.3.15->langchain-google-genai) (8.2.2)\n",
      "Requirement already satisfied: annotated-types>=0.6.0 in c:\\users\\aditya\\appdata\\local\\programs\\python\\python39\\lib\\site-packages (from pydantic<3,>=2->langchain-google-genai) (0.7.0)\n",
      "Requirement already satisfied: pydantic-core==2.23.4 in c:\\users\\aditya\\appdata\\local\\programs\\python\\python39\\lib\\site-packages (from pydantic<3,>=2->langchain-google-genai) (2.23.4)\n",
      "Requirement already satisfied: googleapis-common-protos<2.0.dev0,>=1.56.2 in c:\\users\\aditya\\appdata\\local\\programs\\python\\python39\\lib\\site-packages (from google-api-core->google-generativeai<0.9.0,>=0.8.0->langchain-google-genai) (1.63.0)\n",
      "Requirement already satisfied: requests<3.0.0.dev0,>=2.18.0 in c:\\users\\aditya\\appdata\\local\\programs\\python\\python39\\lib\\site-packages (from google-api-core->google-generativeai<0.9.0,>=0.8.0->langchain-google-genai) (2.32.3)\n",
      "Requirement already satisfied: cachetools<6.0,>=2.0.0 in c:\\users\\aditya\\appdata\\local\\programs\\python\\python39\\lib\\site-packages (from google-auth>=2.15.0->google-generativeai<0.9.0,>=0.8.0->langchain-google-genai) (4.2.2)\n",
      "Requirement already satisfied: pyasn1-modules>=0.2.1 in c:\\users\\aditya\\appdata\\local\\programs\\python\\python39\\lib\\site-packages (from google-auth>=2.15.0->google-generativeai<0.9.0,>=0.8.0->langchain-google-genai) (0.2.8)\n",
      "Requirement already satisfied: rsa<5,>=3.1.4 in c:\\users\\aditya\\appdata\\local\\programs\\python\\python39\\lib\\site-packages (from google-auth>=2.15.0->google-generativeai<0.9.0,>=0.8.0->langchain-google-genai) (4.7.2)\n",
      "Requirement already satisfied: jsonpointer>=1.9 in c:\\users\\aditya\\appdata\\local\\programs\\python\\python39\\lib\\site-packages (from jsonpatch<2.0,>=1.33->langchain-core<0.4,>=0.3.15->langchain-google-genai) (2.4)\n",
      "Requirement already satisfied: httpx<1,>=0.23.0 in c:\\users\\aditya\\appdata\\local\\programs\\python\\python39\\lib\\site-packages (from langsmith<0.3,>=0.1.125->langchain-core<0.4,>=0.3.15->langchain-google-genai) (0.27.0)\n",
      "Requirement already satisfied: orjson<4.0.0,>=3.9.14 in c:\\users\\aditya\\appdata\\local\\programs\\python\\python39\\lib\\site-packages (from langsmith<0.3,>=0.1.125->langchain-core<0.4,>=0.3.15->langchain-google-genai) (3.10.3)\n",
      "Requirement already satisfied: httplib2<1.dev0,>=0.19.0 in c:\\users\\aditya\\appdata\\local\\programs\\python\\python39\\lib\\site-packages (from google-api-python-client->google-generativeai<0.9.0,>=0.8.0->langchain-google-genai) (0.22.0)\n",
      "Requirement already satisfied: google-auth-httplib2<1.0.0,>=0.2.0 in c:\\users\\aditya\\appdata\\local\\programs\\python\\python39\\lib\\site-packages (from google-api-python-client->google-generativeai<0.9.0,>=0.8.0->langchain-google-genai) (0.2.0)\n",
      "Requirement already satisfied: uritemplate<5,>=3.0.1 in c:\\users\\aditya\\appdata\\local\\programs\\python\\python39\\lib\\site-packages (from google-api-python-client->google-generativeai<0.9.0,>=0.8.0->langchain-google-genai) (4.1.1)\n",
      "Requirement already satisfied: colorama in c:\\users\\aditya\\appdata\\local\\programs\\python\\python39\\lib\\site-packages (from tqdm->google-generativeai<0.9.0,>=0.8.0->langchain-google-genai) (0.4.4)\n",
      "Requirement already satisfied: grpcio<2.0dev,>=1.33.2 in c:\\users\\aditya\\appdata\\local\\programs\\python\\python39\\lib\\site-packages (from google-api-core[grpc]!=2.0.*,!=2.1.*,!=2.10.*,!=2.2.*,!=2.3.*,!=2.4.*,!=2.5.*,!=2.6.*,!=2.7.*,!=2.8.*,!=2.9.*,<3.0.0dev,>=1.34.1->google-ai-generativelanguage==0.6.10->google-generativeai<0.9.0,>=0.8.0->langchain-google-genai) (1.64.0)\n",
      "Requirement already satisfied: grpcio-status<2.0.dev0,>=1.33.2 in c:\\users\\aditya\\appdata\\local\\programs\\python\\python39\\lib\\site-packages (from google-api-core[grpc]!=2.0.*,!=2.1.*,!=2.10.*,!=2.2.*,!=2.3.*,!=2.4.*,!=2.5.*,!=2.6.*,!=2.7.*,!=2.8.*,!=2.9.*,<3.0.0dev,>=1.34.1->google-ai-generativelanguage==0.6.10->google-generativeai<0.9.0,>=0.8.0->langchain-google-genai) (1.62.2)\n",
      "Requirement already satisfied: pyparsing!=3.0.0,!=3.0.1,!=3.0.2,!=3.0.3,<4,>=2.4.2 in c:\\users\\aditya\\appdata\\local\\programs\\python\\python39\\lib\\site-packages (from httplib2<1.dev0,>=0.19.0->google-api-python-client->google-generativeai<0.9.0,>=0.8.0->langchain-google-genai) (2.4.7)\n",
      "Requirement already satisfied: anyio in c:\\users\\aditya\\appdata\\local\\programs\\python\\python39\\lib\\site-packages (from httpx<1,>=0.23.0->langsmith<0.3,>=0.1.125->langchain-core<0.4,>=0.3.15->langchain-google-genai) (4.4.0)\n",
      "Requirement already satisfied: certifi in c:\\users\\aditya\\appdata\\local\\programs\\python\\python39\\lib\\site-packages (from httpx<1,>=0.23.0->langsmith<0.3,>=0.1.125->langchain-core<0.4,>=0.3.15->langchain-google-genai) (2024.7.4)\n",
      "Requirement already satisfied: httpcore==1.* in c:\\users\\aditya\\appdata\\local\\programs\\python\\python39\\lib\\site-packages (from httpx<1,>=0.23.0->langsmith<0.3,>=0.1.125->langchain-core<0.4,>=0.3.15->langchain-google-genai) (1.0.5)\n",
      "Requirement already satisfied: idna in c:\\users\\aditya\\appdata\\local\\programs\\python\\python39\\lib\\site-packages (from httpx<1,>=0.23.0->langsmith<0.3,>=0.1.125->langchain-core<0.4,>=0.3.15->langchain-google-genai) (2.10)\n",
      "Requirement already satisfied: sniffio in c:\\users\\aditya\\appdata\\local\\programs\\python\\python39\\lib\\site-packages (from httpx<1,>=0.23.0->langsmith<0.3,>=0.1.125->langchain-core<0.4,>=0.3.15->langchain-google-genai) (1.3.1)\n",
      "Requirement already satisfied: h11<0.15,>=0.13 in c:\\users\\aditya\\appdata\\local\\programs\\python\\python39\\lib\\site-packages (from httpcore==1.*->httpx<1,>=0.23.0->langsmith<0.3,>=0.1.125->langchain-core<0.4,>=0.3.15->langchain-google-genai) (0.14.0)\n",
      "Requirement already satisfied: pyasn1<0.5.0,>=0.4.6 in c:\\users\\aditya\\appdata\\local\\programs\\python\\python39\\lib\\site-packages (from pyasn1-modules>=0.2.1->google-auth>=2.15.0->google-generativeai<0.9.0,>=0.8.0->langchain-google-genai) (0.4.8)\n",
      "Requirement already satisfied: charset-normalizer<4,>=2 in c:\\users\\aditya\\appdata\\local\\programs\\python\\python39\\lib\\site-packages (from requests<3.0.0.dev0,>=2.18.0->google-api-core->google-generativeai<0.9.0,>=0.8.0->langchain-google-genai) (2.0.11)\n",
      "Requirement already satisfied: urllib3<3,>=1.21.1 in c:\\users\\aditya\\appdata\\local\\programs\\python\\python39\\lib\\site-packages (from requests<3.0.0.dev0,>=2.18.0->google-api-core->google-generativeai<0.9.0,>=0.8.0->langchain-google-genai) (1.26.5)\n",
      "Requirement already satisfied: exceptiongroup>=1.0.2 in c:\\users\\aditya\\appdata\\local\\programs\\python\\python39\\lib\\site-packages (from anyio->httpx<1,>=0.23.0->langsmith<0.3,>=0.1.125->langchain-core<0.4,>=0.3.15->langchain-google-genai) (1.2.1)\n",
      "Note: you may need to restart the kernel to use updated packages.\n"
     ]
    },
    {
     "name": "stderr",
     "output_type": "stream",
     "text": [
      "WARNING: Ignoring invalid distribution -angchain (c:\\users\\aditya\\appdata\\local\\programs\\python\\python39\\lib\\site-packages)\n",
      "WARNING: Ignoring invalid distribution -angchain-community (c:\\users\\aditya\\appdata\\local\\programs\\python\\python39\\lib\\site-packages)\n",
      "WARNING: Ignoring invalid distribution -angchain (c:\\users\\aditya\\appdata\\local\\programs\\python\\python39\\lib\\site-packages)\n",
      "WARNING: Ignoring invalid distribution -angchain-community (c:\\users\\aditya\\appdata\\local\\programs\\python\\python39\\lib\\site-packages)\n",
      "DEPRECATION: uvicorn 0.14.0 has a non-standard dependency specifier click>=7.*. pip 24.1 will enforce this behaviour change. A possible replacement is to upgrade to a newer version of uvicorn or contact the author to suggest that they release a version with a conforming dependency specifiers. Discussion can be found at https://github.com/pypa/pip/issues/12063\n",
      "\n",
      "[notice] A new release of pip is available: 24.0 -> 24.3.1\n",
      "[notice] To update, run: python.exe -m pip install --upgrade pip\n"
     ]
    }
   ],
   "source": [
    "%pip install langchain-google-genai"
   ]
  },
  {
   "cell_type": "code",
   "execution_count": 2,
   "metadata": {},
   "outputs": [],
   "source": [
    "import os\n",
    "from dotenv import load_dotenv\n",
    "\n",
    "load_dotenv()\n",
    "\n",
    "os.environ[\"GOOGLE_API_KEY\"] = os.getenv(\"GEMINI_API_KEY\")\n",
    "\n",
    "from langchain_google_genai import ChatGoogleGenerativeAI\n",
    "\n",
    "llm = ChatGoogleGenerativeAI(model=\"gemini-1.5-flash\")\n",
    "\n"
   ]
  },
  {
   "cell_type": "markdown",
   "metadata": {},
   "source": [
    "# Understanding Tool Calling\n",
    "\n"
   ]
  },
  {
   "cell_type": "markdown",
   "metadata": {},
   "source": [
    "Import Libraries"
   ]
  },
  {
   "cell_type": "code",
   "execution_count": 3,
   "metadata": {},
   "outputs": [],
   "source": [
    "\n",
    "from langchain_core.messages import HumanMessage,ToolMessage\n",
    "from langchain_core.tools import tool\n"
   ]
  },
  {
   "cell_type": "markdown",
   "metadata": {},
   "source": [
    "Define Tool\n"
   ]
  },
  {
   "cell_type": "code",
   "execution_count": 4,
   "metadata": {},
   "outputs": [],
   "source": [
    "@tool\n",
    "def bmi_calculator(weight: float, height: float) -> str:\n",
    "    \"\"\"\n",
    "    Calculate the BMI category of a person given their weight and height.\n",
    "    \"\"\"\n",
    "    bmi=weight/(height**2)\n",
    "    if bmi < 18.5:\n",
    "        return \"Underweight\"\n",
    "    elif bmi >= 18.5 and bmi < 24.9:\n",
    "        return \"Normal weight\"\n",
    "    elif bmi >= 24.9 and bmi < 29.9:\n",
    "        return \"Overweight\"\n",
    "    else:\n",
    "        return \"Obesity\"\n",
    "\n",
    "tools = [bmi_calculator]\n"
   ]
  },
  {
   "cell_type": "markdown",
   "metadata": {},
   "source": [
    "Bind your llm with tools\n"
   ]
  },
  {
   "cell_type": "code",
   "execution_count": 5,
   "metadata": {},
   "outputs": [],
   "source": [
    "llm_with_tool = llm.bind_tools(tools)\n"
   ]
  },
  {
   "cell_type": "code",
   "execution_count": 6,
   "metadata": {},
   "outputs": [],
   "source": [
    "query = \"What is the BMI of a person who is 100kg and 1.75m tall?\"\n"
   ]
  },
  {
   "cell_type": "code",
   "execution_count": 7,
   "metadata": {},
   "outputs": [
    {
     "data": {
      "text/plain": [
       "[HumanMessage(content='What is the BMI of a person who is 100kg and 1.75m tall?', additional_kwargs={}, response_metadata={})]"
      ]
     },
     "execution_count": 7,
     "metadata": {},
     "output_type": "execute_result"
    }
   ],
   "source": [
    "message = [HumanMessage(content=query)]\n",
    "\n",
    "ai_message = llm_with_tool.invoke(message)\n",
    "\n",
    "message\n",
    "\n"
   ]
  },
  {
   "cell_type": "code",
   "execution_count": 8,
   "metadata": {},
   "outputs": [
    {
     "data": {
      "text/plain": [
       "AIMessage(content='', additional_kwargs={'function_call': {'name': 'bmi_calculator', 'arguments': '{\"height\": 1.75, \"weight\": 100.0}'}}, response_metadata={'prompt_feedback': {'block_reason': 0, 'safety_ratings': []}, 'finish_reason': 'STOP', 'safety_ratings': []}, id='run-dc39ca67-b781-4c95-b5c4-abd6b6370c2e-0', tool_calls=[{'name': 'bmi_calculator', 'args': {'height': 1.75, 'weight': 100.0}, 'id': 'bb71ff38-52d3-410b-8c48-56397fabf887', 'type': 'tool_call'}], usage_metadata={'input_tokens': 80, 'output_tokens': 5, 'total_tokens': 85, 'input_token_details': {'cache_read': 0}})"
      ]
     },
     "execution_count": 8,
     "metadata": {},
     "output_type": "execute_result"
    }
   ],
   "source": [
    "ai_message\n"
   ]
  },
  {
   "cell_type": "code",
   "execution_count": 9,
   "metadata": {},
   "outputs": [
    {
     "name": "stdout",
     "output_type": "stream",
     "text": [
      "[HumanMessage(content='What is the BMI of a person who is 100kg and 1.75m tall?', additional_kwargs={}, response_metadata={}), AIMessage(content='', additional_kwargs={'function_call': {'name': 'bmi_calculator', 'arguments': '{\"height\": 1.75, \"weight\": 100.0}'}}, response_metadata={'prompt_feedback': {'block_reason': 0, 'safety_ratings': []}, 'finish_reason': 'STOP', 'safety_ratings': []}, id='run-dc39ca67-b781-4c95-b5c4-abd6b6370c2e-0', tool_calls=[{'name': 'bmi_calculator', 'args': {'height': 1.75, 'weight': 100.0}, 'id': 'bb71ff38-52d3-410b-8c48-56397fabf887', 'type': 'tool_call'}], usage_metadata={'input_tokens': 80, 'output_tokens': 5, 'total_tokens': 85, 'input_token_details': {'cache_read': 0}})]\n"
     ]
    }
   ],
   "source": [
    "message.append(ai_message)\n",
    "\n",
    "print(message)"
   ]
  },
  {
   "cell_type": "code",
   "execution_count": 10,
   "metadata": {},
   "outputs": [
    {
     "name": "stdout",
     "output_type": "stream",
     "text": [
      "{'name': 'bmi_calculator', 'args': {'height': 1.75, 'weight': 100.0}, 'id': 'bb71ff38-52d3-410b-8c48-56397fabf887', 'type': 'tool_call'}\n"
     ]
    }
   ],
   "source": [
    "for i in ai_message.tool_calls:\n",
    "    print(i)\n",
    "\n"
   ]
  },
  {
   "cell_type": "code",
   "execution_count": 11,
   "metadata": {},
   "outputs": [
    {
     "name": "stdout",
     "output_type": "stream",
     "text": [
      "name='bmi_calculator' description='Calculate the BMI category of a person given their weight and height.' args_schema=<class 'langchain_core.utils.pydantic.bmi_calculator'> func=<function bmi_calculator at 0x0000015072029E50>\n"
     ]
    }
   ],
   "source": [
    "for i in ai_message.tool_calls:\n",
    "    selected_tool = {\"bmi_calculator\": bmi_calculator}[i['name'].lower()]\n",
    "    print(selected_tool)\n",
    "\n",
    "\n"
   ]
  },
  {
   "cell_type": "code",
   "execution_count": 12,
   "metadata": {},
   "outputs": [
    {
     "name": "stdout",
     "output_type": "stream",
     "text": [
      "name='bmi_calculator' description='Calculate the BMI category of a person given their weight and height.' args_schema=<class 'langchain_core.utils.pydantic.bmi_calculator'> func=<function bmi_calculator at 0x0000015072029E50>\n",
      "Obesity\n",
      "[HumanMessage(content='What is the BMI of a person who is 100kg and 1.75m tall?', additional_kwargs={}, response_metadata={}), AIMessage(content='', additional_kwargs={'function_call': {'name': 'bmi_calculator', 'arguments': '{\"height\": 1.75, \"weight\": 100.0}'}}, response_metadata={'prompt_feedback': {'block_reason': 0, 'safety_ratings': []}, 'finish_reason': 'STOP', 'safety_ratings': []}, id='run-dc39ca67-b781-4c95-b5c4-abd6b6370c2e-0', tool_calls=[{'name': 'bmi_calculator', 'args': {'height': 1.75, 'weight': 100.0}, 'id': 'bb71ff38-52d3-410b-8c48-56397fabf887', 'type': 'tool_call'}], usage_metadata={'input_tokens': 80, 'output_tokens': 5, 'total_tokens': 85, 'input_token_details': {'cache_read': 0}}), ToolMessage(content='Obesity', tool_call_id='bb71ff38-52d3-410b-8c48-56397fabf887')]\n"
     ]
    }
   ],
   "source": [
    "for i in ai_message.tool_calls:\n",
    "    selected_tool = {\"bmi_calculator\": bmi_calculator}[i['name'].lower()]\n",
    "    print(selected_tool)\n",
    "    tool_output = selected_tool.invoke(i['args'])\n",
    "    print(tool_output)\n",
    "    message.append(ToolMessage(content=tool_output, tool_call_id=i['id']))\n",
    "\n",
    "\n",
    "print(message)\n",
    "\n",
    "\n"
   ]
  },
  {
   "cell_type": "code",
   "execution_count": 13,
   "metadata": {},
   "outputs": [
    {
     "data": {
      "text/plain": [
       "AIMessage(content=\"The BMI category for a person who is 100kg and 1.75m tall is Obesity.  I don't have the actual BMI number, only the category.\\n\", additional_kwargs={}, response_metadata={'prompt_feedback': {'block_reason': 0, 'safety_ratings': []}, 'finish_reason': 'STOP', 'safety_ratings': []}, id='run-d6802d5c-fc19-4d0a-a46b-0b44b4bb19c1-0', usage_metadata={'input_tokens': 122, 'output_tokens': 40, 'total_tokens': 162, 'input_token_details': {'cache_read': 0}})"
      ]
     },
     "execution_count": 13,
     "metadata": {},
     "output_type": "execute_result"
    }
   ],
   "source": [
    "llm_with_tool.invoke(message)\n"
   ]
  },
  {
   "cell_type": "code",
   "execution_count": null,
   "metadata": {},
   "outputs": [],
   "source": []
  }
 ],
 "metadata": {
  "kernelspec": {
   "display_name": "Python 3",
   "language": "python",
   "name": "python3"
  },
  "language_info": {
   "codemirror_mode": {
    "name": "ipython",
    "version": 3
   },
   "file_extension": ".py",
   "mimetype": "text/x-python",
   "name": "python",
   "nbconvert_exporter": "python",
   "pygments_lexer": "ipython3",
   "version": "3.9.5"
  }
 },
 "nbformat": 4,
 "nbformat_minor": 2
}
