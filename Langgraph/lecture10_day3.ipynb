{
 "cells": [
  {
   "cell_type": "markdown",
   "metadata": {},
   "source": [
    "# Step 1 : Set up llm code\n"
   ]
  },
  {
   "cell_type": "code",
   "execution_count": 2,
   "metadata": {},
   "outputs": [],
   "source": [
    "import os\n",
    "from dotenv import load_dotenv\n",
    "load_dotenv()\n",
    "os.environ[\"GOOGLE_API_KEY\"] = os.getenv(\"GEMINI_API_KEY\")\n",
    "from langchain_google_genai import ChatGoogleGenerativeAI\n",
    "llm = ChatGoogleGenerativeAI(model=\"gemini-1.5-flash-latest\")\n"
   ]
  },
  {
   "cell_type": "markdown",
   "metadata": {},
   "source": [
    "# Step 2: Start by creating a StateGraph. A StateGraph object defines the structure of our chatbot as a \"state machine\". We'll add nodes to represent the llm and functions our chatbot can call and edges to specify how the bot should transition between these functions.When defining a graph, the first step is to define its State. The State includes the graph's schema and reducer functions that handle state updates. In our example, State is a TypedDict with one key: messages. The add_messages reducer function is used to append new messages to the list instead of overwriting it. Keys without a reducer annotation will overwrite previous values"
   ]
  },
  {
   "cell_type": "code",
   "execution_count": 3,
   "metadata": {},
   "outputs": [],
   "source": [
    "from typing import Annotated\n",
    "\n",
    "from typing_extensions import TypedDict\n",
    "\n",
    "from langgraph.graph import StateGraph, START, END\n",
    "from langgraph.graph.message import add_messages\n",
    "\n",
    "\n",
    "class State(TypedDict):\n",
    "    # Messages have the type \"list\". The `add_messages` function\n",
    "    # in the annotation defines how this state key should be updated\n",
    "    # (in this case, it appends messages to the list, rather than overwriting them)\n",
    "    messages: Annotated[list, add_messages]\n",
    "\n",
    "\n",
    "graph_builder = StateGraph(State)"
   ]
  },
  {
   "cell_type": "markdown",
   "metadata": {},
   "source": [
    "# Step 3: Define nodes Nodes represent units of work. They are typically regular python functions."
   ]
  },
  {
   "cell_type": "code",
   "execution_count": 4,
   "metadata": {},
   "outputs": [],
   "source": [
    "# Step 2: Define a tool\n",
    "\n",
    "from langchain_community.tools import WikipediaQueryRun\n",
    "from langchain_community.utilities import WikipediaAPIWrapper\n",
    "from tavily import TavilyClient\n",
    "\n",
    "wikipedia = WikipediaQueryRun(api_wrapper=WikipediaAPIWrapper(doc_content_chars_max = 10000000))\n",
    "tavily_client = TavilyClient(api_key=os.getenv(\"TAVILY_API_KEY\"))\n",
    "\n",
    "# print(wikipedia.run(\"India\"))\n",
    "\n",
    "def wikipedia_tool(query: str)->str:\n",
    "    \"\"\"Goes to wikipedia and searches for the query\n",
    "    Args:\n",
    "        query (str): The query to search for\n",
    "    Returns:\n",
    "        str: The result of the search\n",
    "    \"\"\"\n",
    "    wikipedia = WikipediaQueryRun(api_wrapper=WikipediaAPIWrapper(doc_content_chars_max = 10000000))\n",
    "    return wikipedia.run(query)\n",
    "\n",
    "def tavily_tool(query: str)->str:\n",
    "    \"\"\"Goes to tavily search and searches for the  query and gives the detailed content\n",
    "    Args:\n",
    "        query (str): The query to search for\n",
    "    Returns:\n",
    "        str: The result of the search\n",
    "    \"\"\"\n",
    "    response = tavily_client.search(query)\n",
    "    content = \"\"\n",
    "    for i in response['results']:\n",
    "        content += i['content']\n",
    "    return content\n",
    "\n",
    "llm_with_wikipedia_tool = llm.bind_tools([wikipedia_tool])\n",
    "\n",
    "llm_with_tavily_tool = llm.bind_tools([tavily_tool])\n",
    "\n",
    "from langchain_core.messages import SystemMessage\n",
    "\n",
    "sys_message_wikipedia = SystemMessage(content=\"You are a helpful assistant that breaks down the query into a key word and searches wikipedia for the key word\")\n",
    "sys_message_tavily = SystemMessage(content=\"You are a helpful assistant that breaks down the quert into a key word and searches tavily for the key word\")\n",
    "#Define nodes\n",
    "def wikipedia_llm(state: State):\n",
    "    return {'messages': [llm_with_wikipedia_tool.invoke([sys_message_wikipedia] + state[\"messages\"] )]}\n",
    "sys_message_summarize = SystemMessage(content=\"You are a helpful assistant that summarizes the content given to you\")\n",
    "def summarize_llm(state: State):\n",
    "    \"\"\"Summarizes the wikipedia content\"\"\"\n",
    "    return {'messages': [llm.invoke([sys_message_summarize] + state[\"messages\"] )]}\n",
    "\n",
    "# def tavily_llm(state: State):\n",
    "#     return {'messages': [llm_with_tavily_tool.invoke([sys_message_tavily] + state[\"messages\"] )]}\n"
   ]
  },
  {
   "cell_type": "markdown",
   "metadata": {},
   "source": [
    "# Define Graph"
   ]
  },
  {
   "cell_type": "code",
   "execution_count": 5,
   "metadata": {},
   "outputs": [
    {
     "data": {
      "image/png": "[encoded data removed]",
      "text/plain": [
       "<IPython.core.display.Image object>"
      ]
     },
     "metadata": {},
     "output_type": "display_data"
    }
   ],
   "source": [
    "from IPython.display import Image, display\n",
    "from langgraph.graph import StateGraph, START, END\n",
    "from langgraph.prebuilt import ToolNode\n",
    "\n",
    "graph_builder = StateGraph(State)\n",
    "graph_builder.add_node(\"wikipedia_tool_calling_llm\", wikipedia_llm)\n",
    "graph_builder.add_node(\"wiki_tool\",ToolNode([wikipedia_tool]))\n",
    "graph_builder.add_node(\"summarize_llm\", summarize_llm)\n",
    "# graph_builder.add_node(\"tavily_tool_calling_llm\", tavily_llm)  \n",
    "# graph_builder.add_node(\"tavily_tool\",ToolNode([tavily_tool]))\n",
    "\n",
    "graph_builder.add_edge(START, \"wikipedia_tool_calling_llm\")\n",
    "# graph_builder.add_edge(START, \"tavily_tool_calling_llm\")\n",
    "# graph_builder.add_edge(\"tavily_tool_calling_llm\", \"tavily_tool\")\n",
    "graph_builder.add_edge(\"wikipedia_tool_calling_llm\", \"wiki_tool\")\n",
    "\n",
    "graph_builder.add_edge(\"wiki_tool\", \"summarize_llm\")\n",
    "# graph_builder.add_edge(\"tavily_tool\", \"summarize_llm\")\n",
    "graph_builder.add_edge(\"summarize_llm\", END)\n",
    "\n",
    "graph = graph_builder.compile()\n",
    "\n",
    "display(Image(graph.get_graph().draw_mermaid_png()))"
   ]
  },
  {
   "cell_type": "markdown",
   "metadata": {},
   "source": [
    "# Check the graph"
   ]
  },
  {
   "cell_type": "code",
   "execution_count": 6,
   "metadata": {},
   "outputs": [],
   "source": [
    "from langchain_core.messages import HumanMessage\n",
    "messages = graph.invoke({\"messages\": [HumanMessage(content=\"Indian Food\")]})"
   ]
  },
  {
   "cell_type": "code",
   "execution_count": 70,
   "metadata": {},
   "outputs": [
    {
     "data": {
      "text/plain": [
       "{'messages': [HumanMessage(content='Indian Food', additional_kwargs={}, response_metadata={}, id='238d1a95-f1d9-4a0c-a454-86eb71ae2965'),\n",
       "  AIMessage(content='', additional_kwargs={'function_call': {'name': 'wikipedia_tool', 'arguments': '{\"query\": \"Indian Food\"}'}}, response_metadata={'prompt_feedback': {'block_reason': 0, 'safety_ratings': []}, 'finish_reason': 'STOP', 'safety_ratings': []}, id='run-4c008d6e-2f22-4905-8e9d-af86ed549e5f-0', tool_calls=[{'name': 'wikipedia_tool', 'args': {'query': 'Indian Food'}, 'id': '59bd8423-76e3-4ce1-8138-1c6bccba4f0c', 'type': 'tool_call'}], usage_metadata={'input_tokens': 91, 'output_tokens': 6, 'total_tokens': 97, 'input_token_details': {'cache_read': 0}}),\n",
       "  ToolMessage(content=\"Page: Indian cuisine\\nSummary: Indian cuisine consists of a variety of regional and traditional cuisines native to the Indian subcontinent. Given the diversity in soil, climate, culture, ethnic groups, and occupations, these cuisines vary substantially and use locally available spices, herbs, vegetables, and fruits.\\nIndian food is also heavily influenced by religion, in particular Hinduism and Islam, cultural choices and traditions. Historical events such as invasions, trade relations, and colonialism have played a role in introducing certain foods to India. The Columbian discovery of the New World brought a number of new vegetables and fruits. A number of these such as potatoes, tomatoes, chillies, peanuts, and guava have become staples in many regions of India.\\nIndian cuisine has shaped the history of international relations; the spice trade between India and Europe was the primary catalyst for Europe's Age of Discovery. Spices were bought from India and traded around Europe and Asia. Indian cuisine has influenced other cuisines across the world, especially those from Europe (Britain in particular), the Middle East, Southern African, East Africa, Southeast Asia, North America, Mauritius, Fiji, Oceania, and the Caribbean.\\nWorld Wildlife Fund (WWF)’s Living Planet Report released on 10 October 2024 emphasized India’s food consumption pattern as the most sustainable among the big economies (G20 countries).\\n\\nPage: Origins of North Indian and Pakistani foods\\nSummary: Most of the food items which define modern North Indian and Subcontinental cooking have origins inside the Indian subcontinent though many foods that are now a part of them are based on fruits and vegetables that originated outside the Indian subcontinent.\\n\\n\\n\\nPage: List of Indian dishes\\nSummary: This is a list of Indian dishes. Many of the dishes on this list are made all across India. Indian cuisine encompasses a wide variety of regional cuisine native to India. Given the range of diversity in soil type, climate and occupations, these cuisines vary significantly from each other and use locally available ingredients such as: herbs, vegetables and fruits. The dishes are then served according to taste in either mild, medium or hot. Indian food is also heavily influenced by religious and cultural choices. Some Indian dishes are common in more than one region of India, with many vegetarian and vegan dishes. Some ingredients commonly found in Indian dishes include: rice, wheat, ginger, garlic, green chillies and spices.\", name='wikipedia_tool', id='bb767262-df24-4135-ab23-4b8812f7ec95', tool_call_id='59bd8423-76e3-4ce1-8138-1c6bccba4f0c'),\n",
       "  AIMessage(content=\"Indian cuisine is incredibly diverse, varying regionally due to differences in climate, soil, culture, and ethnic groups.  It utilizes locally available spices, herbs, vegetables, and fruits.  Religious and cultural influences, as well as historical events like trade and colonization (introducing ingredients like potatoes and tomatoes), have significantly shaped its development.  Indian food has had a global impact, influencing cuisines worldwide, and its spice trade historically drove European exploration.  Recently, India's food consumption patterns have been highlighted as among the most sustainable among major economies.  While many staple ingredients originated within the Indian subcontinent, others arrived through trade and exchange.  The cuisine boasts a wide array of dishes, many of which are vegetarian or vegan and utilize common ingredients like rice, wheat, ginger, garlic, chilies, and various spices.\", additional_kwargs={}, response_metadata={'prompt_feedback': {'block_reason': 0, 'safety_ratings': []}, 'finish_reason': 'STOP', 'safety_ratings': []}, id='run-cec44471-bbd6-4d46-9e99-469c43a6749e-0', usage_metadata={'input_tokens': 537, 'output_tokens': 165, 'total_tokens': 702, 'input_token_details': {'cache_read': 0}})]}"
      ]
     },
     "execution_count": 70,
     "metadata": {},
     "output_type": "execute_result"
    }
   ],
   "source": [
    "messages\n"
   ]
  },
  {
   "cell_type": "code",
   "execution_count": 7,
   "metadata": {},
   "outputs": [
    {
     "name": "stdout",
     "output_type": "stream",
     "text": [
      "================================\u001b[1m Human Message \u001b[0m=================================\n",
      "\n",
      "Indian Food\n",
      "==================================\u001b[1m Ai Message \u001b[0m==================================\n",
      "Tool Calls:\n",
      "  wikipedia_tool (aaa5f538-612b-41da-b040-cef49ed5605a)\n",
      " Call ID: aaa5f538-612b-41da-b040-cef49ed5605a\n",
      "  Args:\n",
      "    query: Indian Food\n",
      "=================================\u001b[1m Tool Message \u001b[0m=================================\n",
      "Name: wikipedia_tool\n",
      "\n",
      "Page: Indian cuisine\n",
      "Summary: Indian cuisine consists of a variety of regional and traditional cuisines native to the Indian subcontinent. Given the diversity in soil, climate, culture, ethnic groups, and occupations, these cuisines vary substantially and use locally available spices, herbs, vegetables, and fruits.\n",
      "Indian food is also heavily influenced by religion, in particular Hinduism and Islam, cultural choices and traditions. Historical events such as invasions, trade relations, and colonialism have played a role in introducing certain foods to India. The Columbian discovery of the New World brought a number of new vegetables and fruits. A number of these such as potatoes, tomatoes, chillies, peanuts, and guava have become staples in many regions of India.\n",
      "Indian cuisine has shaped the history of international relations; the spice trade between India and Europe was the primary catalyst for Europe's Age of Discovery. Spices were bought from India and traded around Europe and Asia. Indian cuisine has influenced other cuisines across the world, especially those from Europe (Britain in particular), the Middle East, Southern African, East Africa, Southeast Asia, North America, Mauritius, Fiji, Oceania, and the Caribbean.\n",
      "World Wildlife Fund (WWF)’s Living Planet Report released on 10 October 2024 emphasized India’s food consumption pattern as the most sustainable among the big economies (G20 countries).\n",
      "\n",
      "Page: Origins of North Indian and Pakistani foods\n",
      "Summary: Most of the food items which define modern North Indian and Subcontinental cooking have origins inside the Indian subcontinent though many foods that are now a part of them are based on fruits and vegetables that originated outside the Indian subcontinent.\n",
      "\n",
      "\n",
      "\n",
      "Page: List of Indian dishes\n",
      "Summary: This is a list of Indian dishes. Many of the dishes on this list are made all across India. Indian cuisine encompasses a wide variety of regional cuisine native to India. Given the range of diversity in soil type, climate and occupations, these cuisines vary significantly from each other and use locally available ingredients such as: herbs, vegetables and fruits. The dishes are then served according to taste in either mild, medium or hot. Indian food is also heavily influenced by religious and cultural choices. Some Indian dishes are common in more than one region of India, with many vegetarian and vegan dishes. Some ingredients commonly found in Indian dishes include: rice, wheat, ginger, garlic, green chillies and spices.\n",
      "==================================\u001b[1m Ai Message \u001b[0m==================================\n",
      "\n",
      "Indian cuisine is incredibly diverse, varying regionally due to differences in climate, soil, culture, and ethnicity.  It utilizes locally available spices, herbs, vegetables, and fruits.  Religious and cultural influences, as well as historical events like trade and colonization, have significantly shaped its development.  Many staple ingredients, such as potatoes, tomatoes, and chilies, were introduced from the New World.  Indian cuisine has had a global impact, influencing cuisines worldwide, and its spice trade historically played a crucial role in European exploration.  A recent report highlighted India's relatively sustainable food consumption patterns compared to other G20 nations.  The cuisine features a wide array of dishes, many of which are vegetarian or vegan, and use common ingredients like rice, wheat, ginger, garlic, green chilies, and various spices.\n"
     ]
    }
   ],
   "source": [
    "for m in messages['messages']:\n",
    "    m.pretty_print()"
   ]
  },
  {
   "cell_type": "code",
   "execution_count": null,
   "metadata": {},
   "outputs": [],
   "source": []
  }
 ],
 "metadata": {
  "kernelspec": {
   "display_name": "Python 3",
   "language": "python",
   "name": "python3"
  },
  "language_info": {
   "codemirror_mode": {
    "name": "ipython",
    "version": 3
   },
   "file_extension": ".py",
   "mimetype": "text/x-python",
   "name": "python",
   "nbconvert_exporter": "python",
   "pygments_lexer": "ipython3",
   "version": "3.9.5"
  }
 },
 "nbformat": 4,
 "nbformat_minor": 2
}
