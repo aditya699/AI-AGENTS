{
 "cells": [
  {
   "cell_type": "markdown",
   "metadata": {},
   "source": [
    "# Lecture 11 Simple tool call with Langgraph must for stable tasks"
   ]
  },
  {
   "cell_type": "code",
   "execution_count": 2,
   "metadata": {},
   "outputs": [],
   "source": [
    "import os\n",
    "from dotenv import load_dotenv\n",
    "load_dotenv()\n",
    "os.environ[\"GOOGLE_API_KEY\"] = os.getenv(\"GEMINI_API_KEY\")\n",
    "from langchain_google_genai import ChatGoogleGenerativeAI\n",
    "\n",
    "llm = ChatGoogleGenerativeAI(model=\"gemini-1.5-flash-latest\")"
   ]
  },
  {
   "cell_type": "code",
   "execution_count": 3,
   "metadata": {},
   "outputs": [],
   "source": [
    "from langchain_community.tools import WikipediaQueryRun\n",
    "from langchain_community.utilities import WikipediaAPIWrapper\n",
    "from tavily import TavilyClient\n",
    "import os\n",
    "\n",
    "wikipedia = WikipediaQueryRun(api_wrapper=WikipediaAPIWrapper(doc_content_chars_max = 1000000000))\n",
    "tavily_client = TavilyClient(api_key=os.getenv(\"TAVILY_API_KEY\"))"
   ]
  },
  {
   "cell_type": "code",
   "execution_count": 1,
   "metadata": {},
   "outputs": [],
   "source": [
    "query=\"Indian Food\""
   ]
  },
  {
   "cell_type": "code",
   "execution_count": 5,
   "metadata": {},
   "outputs": [],
   "source": [
    "from langchain_core.messages import AIMessage\n",
    "from langchain_core.tools import tool\n",
    "\n",
    "from langgraph.prebuilt import ToolNode"
   ]
  },
  {
   "cell_type": "code",
   "execution_count": 6,
   "metadata": {},
   "outputs": [],
   "source": [
    "@tool\n",
    "def get_wikipedia_result(query:str):\n",
    "    \"Call to get wikipedia result\"\n",
    "    wikipedia = WikipediaQueryRun(api_wrapper=WikipediaAPIWrapper(doc_content_chars_max = 10000000))\n",
    "    return wikipedia.run(query)\n",
    "\n",
    "@tool\n",
    "def get_tavily_results(query:str):\n",
    "    \"Call to get tavily results\"\n",
    "    tavily_client = TavilyClient(api_key=os.getenv(\"TAVILY_API_KEY\"))\n",
    "    response = tavily_client.search(query,max_results=10)\n",
    "    content = \"\"\n",
    "    for i in response['results']:\n",
    "        content += i['content']\n",
    "    return content\n",
    "\n",
    "    "
   ]
  },
  {
   "cell_type": "code",
   "execution_count": 7,
   "metadata": {},
   "outputs": [],
   "source": [
    "tool1=[get_wikipedia_result]\n",
    "tool2=[get_tavily_results]\n",
    "tool_node_1=ToolNode(tool1)\n",
    "tool_node_2=ToolNode(tool2)\n"
   ]
  },
  {
   "cell_type": "code",
   "execution_count": 8,
   "metadata": {},
   "outputs": [],
   "source": [
    "message_with_single_tool_call_wiki = AIMessage(\n",
    "    content=\"\",\n",
    "    tool_calls=[\n",
    "        {\n",
    "            \"name\": \"get_wikipedia_result\",\n",
    "            \"args\": {\"query\": query},\n",
    "            \"id\": \"tool_call_id\",\n",
    "            \"type\": \"tool_call\",\n",
    "        }\n",
    "    ],\n",
    ")\n",
    "\n",
    "response_tool_1=tool_node_1.invoke({\"messages\": [message_with_single_tool_call_wiki]})"
   ]
  },
  {
   "cell_type": "code",
   "execution_count": 9,
   "metadata": {},
   "outputs": [
    {
     "name": "stdout",
     "output_type": "stream",
     "text": [
      "=================================\u001b[1m Tool Message \u001b[0m=================================\n",
      "Name: get_wikipedia_result\n",
      "\n",
      "Page: Indian cuisine\n",
      "Summary: Indian cuisine consists of a variety of regional and traditional cuisines native to the Indian subcontinent. Given the diversity in soil, climate, culture, ethnic groups, and occupations, these cuisines vary substantially and use locally available spices, herbs, vegetables, and fruits.\n",
      "Indian food is also heavily influenced by religion, in particular Hinduism and Islam, cultural choices and traditions. Historical events such as invasions, trade relations, and colonialism have played a role in introducing certain foods to India. The Columbian discovery of the New World brought a number of new vegetables and fruits. A number of these such as potatoes, tomatoes, chillies, peanuts, and guava have become staples in many regions of India.\n",
      "Indian cuisine has shaped the history of international relations; the spice trade between India and Europe was the primary catalyst for Europe's Age of Discovery. Spices were bought from India and traded around Europe and Asia. Indian cuisine has influenced other cuisines across the world, especially those from Europe (Britain in particular), the Middle East, Southern African, East Africa, Southeast Asia, North America, Mauritius, Fiji, Oceania, and the Caribbean.\n",
      "World Wildlife Fund (WWF)’s Living Planet Report released on 10 October 2024 emphasized India’s food consumption pattern as the most sustainable among the big economies (G20 countries).\n",
      "\n",
      "Page: Origins of North Indian and Pakistani foods\n",
      "Summary: Most of the food items which define modern North Indian and Subcontinental cooking have origins inside the Indian subcontinent though many foods that are now a part of them are based on fruits and vegetables that originated outside the Indian subcontinent.\n",
      "\n",
      "\n",
      "\n",
      "Page: List of Indian dishes\n",
      "Summary: This is a list of Indian dishes. Many of the dishes on this list are made all across India. Indian cuisine encompasses a wide variety of regional cuisine native to India. Given the range of diversity in soil type, climate and occupations, these cuisines vary significantly from each other and use locally available ingredients such as: herbs, vegetables and fruits. The dishes are then served according to taste in either mild, medium or hot. Indian food is also heavily influenced by religious and cultural choices. Some Indian dishes are common in more than one region of India, with many vegetarian and vegan dishes. Some ingredients commonly found in Indian dishes include: rice, wheat, ginger, garlic, green chillies and spices.\n"
     ]
    }
   ],
   "source": [
    "for m in response_tool_1['messages']:\n",
    "     m.pretty_print()"
   ]
  },
  {
   "cell_type": "code",
   "execution_count": 10,
   "metadata": {},
   "outputs": [],
   "source": [
    "message_with_single_tool_call_tavily=AIMessage(\n",
    "    content=\"\",\n",
    "        tool_calls=[\n",
    "        {\n",
    "            \"name\": \"get_tavily_results\",\n",
    "            \"args\": {\"query\": query},\n",
    "            \"id\": \"tool_call_id\",\n",
    "            \"type\": \"tool_call\",\n",
    "        }\n",
    "    ],\n",
    ")\n",
    "response_tool_2=tool_node_2.invoke({\"messages\": [message_with_single_tool_call_tavily]})\n"
   ]
  },
  {
   "cell_type": "code",
   "execution_count": 11,
   "metadata": {},
   "outputs": [
    {
     "name": "stdout",
     "output_type": "stream",
     "text": [
      "=================================\u001b[1m Tool Message \u001b[0m=================================\n",
      "Name: get_tavily_results\n",
      "\n",
      "Indian cuisine consists of a diverse range of curries, rice dishes, meats, vegetables and breads, all flavored with a traditional range of spices. Whilst delicacies vary by region and state, there are many similarities in terms of spices and flavors, regardless of the geographical region.Indian Food: 43 Traditional Dishes to Try in 2024 Dairy products such as yogurt, ghee, and paneer (Indian-style cheese) are commonly used in Indian cuisine and add richness and flavor to dishes. This bread can go with many other main dishes, so you will have many chances to try it whenever it comes to Indian foods. This South India-style rice dish is usually flavored with various Indian signature blended spices like oil-cooked jaggery, fried curry leaves, lentils, and peanuts. Considered one of the best starters from Asian cuisine, Indian tomato soup is a simple dish that will take you by surprise due to its fascinating flavor complexity. South Indian dishes often use a blend of spices that includes mustard seeds, curry leaves, asafoetida, and tamarind, resulting in tangy and flavorful dishes.Indian food, with its rich tapestry of flavors, aromas, and textures, provides a gourmet experience unlike any other. From spicy curries in the south to aromatic biryanis in the north, and sweet delights in the east to savory treats in the west, India's gastronomic heritage reflects its cultural diversity.Indian cuisine is one of the most popular in the world because of its unique spices, which give dishes like curry and biryani their rich flavors. The careful mix of spices and fresh herbs gives Indian cuisine its unique and aromatic taste, making every dish full of flavor. Vegan Indian Cuisine offers a variety of flavorful, plant-based dishes that are both nutritious and delicious. Vegan Indian Curry is a simple and flavorful plant-based dish, combining fresh vegetables and aromatic spices in a creamy coconut milk sauce. Known for its rich variety of authentic Indian dishes, the book covers everything from flavorful curries to fragrant biryanis, making it perfect for anyone looking to explore Indian food and spices.Parotta is a traditional Southern Indian flatbread, usually sold as street food. It is also popular in Malaysia and Sri Lanka. It is made with oil or ghee, water, refined wheat flour known as maida (unlike parathas, which are made with regular wheat), and occasionally eggs.. The resulting dough is pan-fried and served with various vegetable or meat curries.About Us Editorial Guidelines Anti-Racism Pledge Newsletters Contact Us Indian Cooking Basics Exploring Indian Food Indian Appetizers Indian Dinner Recipes Indian Sides Indian Pickles & Chutneys Indian Desserts Samosa Recipe 50 mins Ratings Kulfi Recipe 15 mins Ratings Tandoori Chicken Recipe 35 mins Ratings Classic Chicken Vindaloo Curry 60 mins Ratings Milk-Based Indian Sweets and Desserts Biryani With Goat Meat 2 hrs Ratings Savory Dosas Recipe (South Indian Pancakes) 82 mins Ratings Mughlai Biryani Indian Recipe 2 hrs Ratings Easy Fish Curry 35 mins Ratings Punjabi Eggplant (Baingan Bharta) 45 mins Ratings Egg Curry (Andey Ki Curry) 40 mins Ratings Easy Red Lentil Dahl 45 mins Ratings Indian Kofta Curry 65 mins Ratings Chaat Masala 20 mins Ratings Indian Chicken Kabab (Murg Malai) 2 hrs Ratings Indian-Style Stuffed Roast Chicken 4 hrs Ratings Kadhai Gosht 3 hrs Ratings How to Get Started Cooking Indian Food Gulab Jamun (Indian Milk Doughnuts) Recipe 50 mins Ratings South Indian Lemon Rice 10 mins Ratings Indian Roast Leg of Lamb (Masala Raan) Recipe 30 hrs Ratings Dine Like an Indian!One Comment\n",
      "Hide Comments\n",
      "Looking delicious\n",
      "Add Your Comment Cancel reply\n",
      "Comment *\n",
      "Name *\n",
      "Email *\n",
      "Website\n",
      "Best Gift Ideas For Chefs\n",
      "Best 23 Grilling Gifts for BBQ Fanatics\n",
      "2023 © Chef's Pencil\n",
      "Privacy Policy & Terms of Service  Contact us\n",
      "Chef's Pencil is part of the Amazon Associate Program and earns from qualifying purchases. It has a unique sweet and savory taste owing to the addition of cane sugar.\n",
      "12. Appam and Stew\n",
      "A popular breakfast dish from the southern state of Kerala, it comprises rice hoppers (pancakes) with a thin crispy outer and soft spongy thick center. Originally inspired by the Persian roots of the Mughal Empire, today it is a beloved dish that can be found in any part of the country and is the highlight of the most lavish Indian meals. The dish is a form of chaat (a small plate of sweet and savory snacks served on the streets of India) and originates from the city of Mumbai.\n",
      " It’s easy to prepare steamed on the stovetop or even in an Instant Pot.\n",
      "26. Pav Bhaji\n",
      "Pav Bhaji is a quick and popular fast-food dish comprising a thick vegetable curry (referred to as bhaji) served with a soft bread roll (pav).\n",
      "Gallery\n",
      "Aloo Tikki\n",
      "Daulat Chaat in Old Delhi\n",
      "Butter Chicken & Butter Naan\n",
      "Kashmiri Pulav\n",
      "Laal Maans\n",
      "Mughlai Dum Biryani\n",
      "Locho and Idada\n",
      "Zunka\n",
      "Puran Modak\n",
      "Chhole Upma\n",
      "Tandoori Lemonfish fry\n",
      "Plantain Dumplings\n",
      "Luchi Alur Torkari\n",
      "Bamboo steam rice\n",
      "Tamul Paan\n",
      "Prosad Thali\n",
      "Tan Ngang\n",
      "Khotto\n",
      "Idli Vada\n",
      "Dosa\n",
      "Tirunelveli Halwa\n",
      "Prawn Biryani\n",
      "Hindu fasting cuisine\n",
      "Hindu people fast on days such as Ekadashi, in honour of Lord Vishnu or his Avatars, Chaturthi in honour of Ganesh, Mondays in honour of Shiva, or Saturdays in honour of Hanuman or Saturn.[202]\n",
      "Only certain kinds of foods are allowed to be eaten. The international appeal of curry has been compared to that of pizza.[234] Indian tandoor dishes such as chicken tikka also enjoy widespread popularity.[235]\n",
      "Australia\n",
      "A Roy Morgan Research survey taken between 2013 and 2018 found that Indian cuisine was the top-rated international food among 51% of Australians, behind Chinese, Italian, and Thai.[236]\n",
      "Canada\n",
      "As in the United Kingdom and the United States, Indian cuisine is widely available in Canada, especially in the cities of Toronto,[237] Vancouver,[238] and Ottawa where the majority of Canadians of South Asian heritage live.\n",
      " Fish and beef consumption are prevalent in some parts of India, but they are not widely consumed except for coastal areas, as well as the north east.[citation needed]\n",
      "The most important and frequently used spices and flavourings in Indian cuisine are whole or powdered chilli pepper (mirch, introduced by the Portuguese from Mexico in the 16th century), black mustard seed (sarso), cardamom (elaichi), cumin (jeera), turmeric (haldi), asafoetida (hing), ginger (adrak), coriander (dhania), and garlic (lasoon).[34]\n",
      "One popular spice mix is garam masala, a powder that typically includes seven dried spices in a particular ratio, including black cardamom, cinnamon (dalchini), clove (laung), cumin (jeera), black peppercorns, coriander seeds and anise star.[35][self-published source?]. Thukpa is a kind of noodle soup common among the Monpa tribe of the region.[42]\n",
      "Lettuce is the most common vegetable, usually prepared by boiling with ginger, coriander, and green chillies.[43]\n",
      "Apong or rice beer made from fermented rice or millet is a popular beverage in Arunachal Pradesh and is consumed as a refreshing drink.[44]\n",
      "Assam\n",
      "Assamese cuisine is a mixture of different indigenous styles, with considerable regional variation and some external influences. Bengali cuisine is the only traditionally developed multi-course tradition from the Indian subcontinent that is analogous in structure to the modern service à la russe style of French cuisine, with food served course-wise rather than all at once.[51]\n",
      "Bengali cuisine differs according to regional tastes, such as the emphasis on the use of chilli pepper in the Chittagong district of Bangladesh[52] However, across all its varieties, there is predominant use of mustard oil along with large amounts of spices.\n",
      "[…]\n",
      "Where To Stay In India: The Best Hotels & Vacation Spots\n",
      "From sprawling former royal palaces to glamorous tented camps, the best hotels in India provide welcoming home bases from which to explore the country’s abundant cultural riches, precious wildlife, and so very […]\n",
      "19 Best Adventure Activities & Fun Things To Do In India\n",
      "From the mighty Himalayas to the great Thar desert, to the tropical Islands of the Andamans, and everywhere in between, there’s something for everyone when it comes to adventure activities in India. Festivals & Weather By Month\n",
      "From the majestic peaks of the Himalayas to the saturated backwaters of Kerala to the parched deserts of Rajasthan and Gujarat, India tours cover an astonishing diversity of terrain, and the weather […]\n",
      "On the Lookout for Expert Advice & Offers?\n",
      "Join over 20,000 discerning travelers and be the first to receive our monthly exclusive discounts, inspiring travel content and expert tips, straight to your inbox. India is a land of festivals, and it is said that over a thousand take place every year – some celebrated religion-wide, some at a state level, others just within a local […]\n",
      "Top 10 Tourist Attractions In India You Have To See\n",
      "With more than 30,000 years of history, and the birthplace of numerous cultures and religions, India is an incredible destination with more than a thousand tourist attractions including several World Heritage Sites. Chana massala is probably the most popular vegetarian dish in India, and arguably the most healthy, with chickpeas coming loaded with folate, iron, fiber, and vitamin B, and a tomato-and-onion sauce filled with garlic, ginger, chilis, and good-for-you spices.\n",
      " It is believed that Mumtaz Mahal – Emperor Shah Jahan’s queen for whom the Taj Mahal was built as a tomb for – inspired the dish in the 1600s.\n",
      "Originally named Samsa, the samosa – India’s favorite street food – has medieval Middle Eastern origins, its name deriving from the Persian word sanbosag, for “triangular pastry”.\n",
      "46 Best Indian Foods & Recipes | Popular Indian Cuisine | Recipes, Dinners and Easy Meal Ideas | Food Network Recipes on TV Recipes Recipes See All Recipes Breakfast Recipes Lunch Recipes Dinner Recipes Selena + Chef: Home for the Holidays Recipes 46 Delicious Indian Recipes Everyone Should Master From hearty curries and homemade breads to deep-fried dishes and one-of-a-kind desserts, these recipes celebrate flavor, home-cooked goodness and the diversity of Indian cuisine. get the recipe get the recipe get the recipe Aarti says, \"Paneer is very easy to make at home, and my recipe is quick, easy, and delicious. get the recipe Indian Rice Pudding Recipe Saag Paneer Recipe Aloo Gobi Recipe 46 Delicious Indian Recipes Everyone Should Master\n"
     ]
    }
   ],
   "source": [
    "for i in response_tool_2['messages']:\n",
    "    i.pretty_print()"
   ]
  },
  {
   "cell_type": "code",
   "execution_count": 12,
   "metadata": {},
   "outputs": [],
   "source": [
    "sys_message_summarize=f'''You are expert at a giving a detailed summary of the content.\n",
    "User Query:{query}\n",
    "\n",
    "Wikipedia Results:{response_tool_1['messages']}\n",
    "\n",
    "Tavily Results:{response_tool_2['messages']}\n",
    "\n",
    "Always attribute responses to sources (Wikipedia and Tavily)\n",
    "\n",
    "'''"
   ]
  },
  {
   "cell_type": "code",
   "execution_count": 13,
   "metadata": {},
   "outputs": [],
   "source": [
    "final_summary=llm.invoke(sys_message_summarize)"
   ]
  },
  {
   "cell_type": "code",
   "execution_count": 14,
   "metadata": {},
   "outputs": [
    {
     "name": "stdout",
     "output_type": "stream",
     "text": [
      "Indian cuisine is incredibly diverse, varying significantly across its many regions due to differences in climate, soil, culture, and available ingredients (Wikipedia, Tavily).  This diversity is reflected in the wide array of spices, herbs, vegetables, and fruits used, leading to a vast range of flavors and textures (Wikipedia, Tavily).  Religious and cultural practices, particularly Hinduism and Islam, also significantly influence food choices and preparation (Wikipedia).\n",
      "\n",
      "Historical events, including invasions, trade, and colonialism, have shaped Indian cuisine, introducing new ingredients like potatoes, tomatoes, chilies, peanuts, and guava (Wikipedia).  In fact, the spice trade between India and Europe was a major driver of the Age of Discovery (Wikipedia).  Indian cuisine's global impact is evident in its influence on cuisines worldwide, including those of Europe (especially Britain), the Middle East, Africa, Southeast Asia, North America, and the Caribbean (Wikipedia).  The WWF's Living Planet Report even highlighted India's food consumption patterns as the most sustainable among G20 nations (Wikipedia).\n",
      "\n",
      "While many dishes defining modern North Indian and Pakistani cuisine originated within the Indian subcontinent, many incorporate fruits and vegetables from elsewhere (Wikipedia).  Common ingredients across India include rice, wheat, ginger, garlic, green chilies, and a wide variety of spices (Wikipedia).  Dairy products like yogurt, ghee, and paneer are frequently used, adding richness and flavor (Tavily).\n",
      "\n",
      "Tavily's response highlights specific dishes and regional variations.  It mentions curries, rice dishes, meats, vegetables, and breads as staples, noting the common use of signature spice blends that vary regionally but maintain overall similarities.  Examples of dishes mentioned include:  biryani, various curries (including chicken vindaloo and kofta), samosas, pav bhaji, appam and stew, dosa, idli vada, and various sweets like kulfi and gulab jamun.  The text also emphasizes the popularity of Indian food globally, citing its unique spice blends and the widespread appeal of dishes like curry and tandoori chicken.  Vegetarian and vegan options are also abundant (Tavily).  Specific regional cuisines, such as Assamese and Bengali, are briefly touched upon, highlighting their unique characteristics and influences (Tavily).  The Tavily response also includes a list of recipes and cooking tips.\n"
     ]
    }
   ],
   "source": [
    "print(final_summary.content)"
   ]
  },
  {
   "cell_type": "code",
   "execution_count": 15,
   "metadata": {},
   "outputs": [],
   "source": [
    "with open(\"results.txt\", \"w\") as file:\n",
    "    file.write(final_summary.content)"
   ]
  }
 ],
 "metadata": {
  "kernelspec": {
   "display_name": "Python 3",
   "language": "python",
   "name": "python3"
  },
  "language_info": {
   "codemirror_mode": {
    "name": "ipython",
    "version": 3
   },
   "file_extension": ".py",
   "mimetype": "text/x-python",
   "name": "python",
   "nbconvert_exporter": "python",
   "pygments_lexer": "ipython3",
   "version": "3.9.5"
  }
 },
 "nbformat": 4,
 "nbformat_minor": 2
}
