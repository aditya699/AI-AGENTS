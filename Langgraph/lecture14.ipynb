{
 "cells": [
  {
   "cell_type": "markdown",
   "metadata": {},
   "source": [
    "# Lecture 14: Trimming and Filtering in Langgraph"
   ]
  },
  {
   "cell_type": "markdown",
   "metadata": {},
   "source": [
    "# Setup the llm\n",
    "\n"
   ]
  },
  {
   "cell_type": "code",
   "execution_count": 6,
   "metadata": {},
   "outputs": [],
   "source": [
    "import os\n",
    "\n",
    "from dotenv import load_dotenv\n",
    "\n",
    "load_dotenv()\n",
    "\n",
    "os.environ[\"GOOGLE_API_KEY\"] = os.getenv(\"GEMINI_API_KEY\")\n",
    "\n",
    "from langchain_google_genai import ChatGoogleGenerativeAI\n",
    "\n",
    "llm = ChatGoogleGenerativeAI(model=\"gemini-1.5-flash-latest\")\n",
    "\n"
   ]
  },
  {
   "cell_type": "code",
   "execution_count": 8,
   "metadata": {},
   "outputs": [
    {
     "name": "stdout",
     "output_type": "stream",
     "text": [
      "Artificial intelligence (AI) is a broad field encompassing the theory and development of computer systems able to perform tasks that normally require human intelligence.  These tasks include things like:\n",
      "\n",
      "* **Learning:** Acquiring information and rules for using the information.\n",
      "* **Reasoning:** Using rules to reach approximate or definite conclusions.\n",
      "* **Problem-solving:** Finding solutions to complex situations.\n",
      "* **Perception:** Interpreting sensory information like images, sound, and text.\n",
      "* **Language understanding:** Processing and generating human language.\n",
      "\n",
      "AI systems achieve these capabilities through various techniques, including:\n",
      "\n",
      "* **Machine learning (ML):** Algorithms that allow systems to learn from data without explicit programming.  This includes subfields like deep learning (using artificial neural networks with many layers) and reinforcement learning (learning through trial and error).\n",
      "* **Natural language processing (NLP):**  Enabling computers to understand, interpret, and generate human language.\n",
      "* **Computer vision:** Enabling computers to \"see\" and interpret images and videos.\n",
      "* **Robotics:** Combining AI with physical robots to perform tasks in the real world.\n",
      "\n",
      "It's important to note that AI is not a single technology, but rather a collection of techniques and approaches.  Furthermore, the term \"AI\" is often used loosely, and what constitutes \"intelligence\" is itself a complex and debated topic.  Many systems described as \"AI\" are actually narrow or weak AI, meaning they are designed for specific tasks and lack the general intelligence of humans.  The pursuit of artificial general intelligence (AGI), which would possess human-level intelligence across a wide range of tasks, remains a long-term goal.\n"
     ]
    }
   ],
   "source": [
    "print(llm.invoke(\"What is AI?\").content)"
   ]
  },
  {
   "cell_type": "code",
   "execution_count": 9,
   "metadata": {},
   "outputs": [
    {
     "name": "stdout",
     "output_type": "stream",
     "text": [
      "==================================\u001b[1m Ai Message \u001b[0m==================================\n",
      "Name: Bot\n",
      "\n",
      "So you like AI?\n",
      "================================\u001b[1m Human Message \u001b[0m=================================\n",
      "Name: Aditya\n",
      "\n",
      "Yes I love AI , but how to learn more about it,please give me a roadmap?\n"
     ]
    }
   ],
   "source": [
    "from pprint import pprint\n",
    "from langchain_core.messages import AIMessage, HumanMessage\n",
    "messages = [AIMessage(f\"So you like AI?\", name=\"Bot\")]\n",
    "messages.append(HumanMessage(f\"Yes I love AI , but how to learn more about it,please give me a roadmap?\", name=\"Aditya\"))\n",
    "\n",
    "for m in messages:\n",
    "    m.pretty_print()"
   ]
  },
  {
   "cell_type": "code",
   "execution_count": 10,
   "metadata": {},
   "outputs": [
    {
     "name": "stdout",
     "output_type": "stream",
     "text": [
      "('Learning about AI is a journey, not a sprint!  The best roadmap depends on '\n",
      " \"your background and goals.  Here's a structured approach catering to \"\n",
      " 'different levels:\\n'\n",
      " '\\n'\n",
      " '**I. Foundational Knowledge (For everyone starting out):**\\n'\n",
      " '\\n'\n",
      " '1. **Mathematics:**\\n'\n",
      " '    * **Linear Algebra:**  Essential for understanding vectors, matrices, '\n",
      " 'and transformations – crucial for many AI algorithms.  Khan Academy, '\n",
      " '3Blue1Brown (YouTube), and MIT OpenCourseware are excellent resources.\\n'\n",
      " '    * **Calculus:**  Understanding derivatives and gradients is vital for '\n",
      " 'optimization algorithms (how AI models learn).  Again, Khan Academy, '\n",
      " '3Blue1Brown, and MIT OpenCourseware are great.\\n'\n",
      " '    * **Probability and Statistics:**  AI deals with uncertainty; '\n",
      " 'understanding probability distributions, hypothesis testing, and statistical '\n",
      " 'significance is crucial.  Resources are similar to above.  Focus on Bayesian '\n",
      " 'statistics if you plan to go deeper.\\n'\n",
      " '\\n'\n",
      " '2. **Programming:**\\n'\n",
      " '    * **Python:**  The dominant language in AI.  Learn the basics '\n",
      " '(variables, data structures, loops, functions) and object-oriented '\n",
      " 'programming.  Codecademy, DataCamp, and freeCodeCamp are good starting '\n",
      " 'points.\\n'\n",
      " '    * **Libraries:**  Familiarize yourself with NumPy (numerical '\n",
      " 'computation), Pandas (data manipulation), and Matplotlib (data '\n",
      " 'visualization).\\n'\n",
      " '\\n'\n",
      " '3. **Introduction to AI Concepts:**\\n'\n",
      " '    * **Online Courses:**  Coursera, edX, Udacity, and fast.ai offer '\n",
      " 'excellent introductory courses on AI, machine learning, and deep learning.  '\n",
      " 'Look for courses with good reviews and focus on practical application.\\n'\n",
      " '    * **Books:**  \"Artificial Intelligence: A Modern Approach\" (Russell & '\n",
      " 'Norvig) is a classic but dense textbook.  For a gentler introduction, '\n",
      " 'consider \"Hands-On Machine Learning with Scikit-Learn, Keras & TensorFlow\" '\n",
      " '(Aurélien Géron).\\n'\n",
      " '\\n'\n",
      " '**II.  Specialization (Choose one or more based on interest):**\\n'\n",
      " '\\n'\n",
      " '1. **Machine Learning:**\\n'\n",
      " '    * **Supervised Learning:** Regression (predicting continuous values), '\n",
      " 'classification (predicting categories).\\n'\n",
      " '    * **Unsupervised Learning:** Clustering (grouping similar data points), '\n",
      " 'dimensionality reduction (reducing the number of features).\\n'\n",
      " '    * **Reinforcement Learning:**  Training agents to interact with an '\n",
      " 'environment and learn optimal actions.\\n'\n",
      " '\\n'\n",
      " '2. **Deep Learning:**\\n'\n",
      " '    * **Neural Networks:**  Understand the architecture (layers, neurons, '\n",
      " 'activation functions), backpropagation (how models learn), and different '\n",
      " 'network types (CNNs for images, RNNs for sequences).\\n'\n",
      " '    * **TensorFlow/Keras or PyTorch:**  Master one of these deep learning '\n",
      " 'frameworks.  Many tutorials and online courses are available.\\n'\n",
      " '\\n'\n",
      " '3. **Natural Language Processing (NLP):**\\n'\n",
      " '    * **Text preprocessing:**  Cleaning and preparing text data for '\n",
      " 'analysis.\\n'\n",
      " '    * **Word embeddings:**  Representing words as vectors.\\n'\n",
      " '    * **Language models:**  Predicting the next word in a sequence.\\n'\n",
      " '\\n'\n",
      " '4. **Computer Vision:**\\n'\n",
      " '    * **Image processing:**  Techniques for manipulating and analyzing '\n",
      " 'images.\\n'\n",
      " '    * **Object detection:** Identifying and locating objects in images.\\n'\n",
      " '    * **Image segmentation:**  Partitioning an image into meaningful '\n",
      " 'regions.\\n'\n",
      " '\\n'\n",
      " '**III.  Advanced Topics (After gaining solid foundations):**\\n'\n",
      " '\\n'\n",
      " '* **Advanced optimization algorithms:**  Gradient descent variants, Adam, '\n",
      " 'etc.\\n'\n",
      " '* **Model selection and evaluation:**  Cross-validation, hyperparameter '\n",
      " 'tuning.\\n'\n",
      " '* **Explainable AI (XAI):**  Understanding how AI models make decisions.\\n'\n",
      " '* **Ethical considerations in AI:**  Bias, fairness, and societal impact.\\n'\n",
      " '* **Research papers:**  Start reading and understanding research papers in '\n",
      " 'your area of interest.  arXiv is a good resource.\\n'\n",
      " '\\n'\n",
      " '\\n'\n",
      " '**IV.  Practice, Practice, Practice:**\\n'\n",
      " '\\n'\n",
      " \"* **Personal Projects:**  Work on your own projects to apply what you've \"\n",
      " 'learned.  This is crucial for solidifying your understanding.  Start with '\n",
      " 'simple projects and gradually increase complexity.\\n'\n",
      " '* **Kaggle Competitions:**  Participate in Kaggle competitions to test your '\n",
      " 'skills against others and learn from the best.\\n'\n",
      " '* **Contribute to Open Source:**  Contribute to open-source AI projects to '\n",
      " 'gain experience and collaborate with others.\\n'\n",
      " '\\n'\n",
      " '\\n'\n",
      " 'This roadmap is a guideline.  Adjust it based on your learning style and '\n",
      " 'interests.  Remember to be patient, persistent, and have fun!  The AI field '\n",
      " 'is constantly evolving, so continuous learning is key.')\n"
     ]
    }
   ],
   "source": [
    "response = llm.invoke(messages)\n",
    "pprint(response.content)\n",
    "\n"
   ]
  },
  {
   "cell_type": "code",
   "execution_count": 15,
   "metadata": {},
   "outputs": [
    {
     "data": {
      "image/png": "[encoded data removed]",
      "text/plain": [
       "<IPython.core.display.Image object>"
      ]
     },
     "metadata": {},
     "output_type": "display_data"
    }
   ],
   "source": [
    "from IPython.display import Image, display\n",
    "from langgraph.graph import MessagesState\n",
    "from langgraph.graph import StateGraph, START, END\n",
    "\n",
    "# Nodes are units of work that can be executed in a graph(python functions)\n",
    "\n",
    "# Always start by defining a state\n",
    "def chat_model_node(state: MessagesState):\n",
    "    return {\"messages\": llm.invoke(state[\"messages\"])}\n",
    "\n",
    "\n",
    "# Edge is a connection between nodes\n",
    "# Build graph\n",
    "builder = StateGraph(MessagesState)\n",
    "builder.add_node(\"chat_model\", chat_model_node)\n",
    "builder.add_edge(START, \"chat_model\")\n",
    "builder.add_edge(\"chat_model\", END)\n",
    "graph = builder.compile()\n",
    "\n",
    "# View\n",
    "display(Image(graph.get_graph().draw_mermaid_png()))"
   ]
  },
  {
   "cell_type": "code",
   "execution_count": 16,
   "metadata": {},
   "outputs": [
    {
     "name": "stdout",
     "output_type": "stream",
     "text": [
      "==================================\u001b[1m Ai Message \u001b[0m==================================\n",
      "Name: Bot\n",
      "\n",
      "So you like AI?\n",
      "================================\u001b[1m Human Message \u001b[0m=================================\n",
      "Name: Aditya\n",
      "\n",
      "Yes I love AI , but how to learn more about it,please give me a roadmap?\n",
      "==================================\u001b[1m Ai Message \u001b[0m==================================\n",
      "\n",
      "Learning AI is a journey, not a sprint.  Here's a roadmap, broken down into stages, catering to different learning styles and goals:\n",
      "\n",
      "**Stage 1: Foundational Knowledge (1-3 months)**\n",
      "\n",
      "* **Mathematics:**\n",
      "    * **Linear Algebra:** Vectors, matrices, operations, eigenvalues, eigenvectors.  Crucial for understanding neural networks and many algorithms. Resources: Khan Academy, 3Blue1Brown (YouTube).\n",
      "    * **Calculus:** Derivatives, gradients, integrals.  Essential for optimization algorithms used in training AI models. Resources: Khan Academy, MIT OpenCourseware.\n",
      "    * **Probability and Statistics:** Probability distributions, hypothesis testing, Bayesian inference.  Fundamental for understanding uncertainty and model evaluation. Resources: Khan Academy, edX.\n",
      "* **Programming:**\n",
      "    * **Python:** The dominant language in AI. Learn basic syntax, data structures (lists, dictionaries), control flow, and object-oriented programming. Resources: Codecademy, DataCamp, freeCodeCamp.\n",
      "    * **Libraries:**  Familiarize yourself with NumPy (numerical computation), Pandas (data manipulation), and Matplotlib (visualization).\n",
      "\n",
      "**Stage 2: Core AI Concepts (3-6 months)**\n",
      "\n",
      "* **Machine Learning:**\n",
      "    * **Supervised Learning:** Regression (linear, logistic), classification (decision trees, support vector machines, naive Bayes).  Learn about model evaluation metrics (accuracy, precision, recall, F1-score). Resources: Andrew Ng's Machine Learning course (Coursera),  Elements of Statistical Learning (book).\n",
      "    * **Unsupervised Learning:** Clustering (k-means, hierarchical), dimensionality reduction (PCA).  Learn about techniques for exploring and understanding data without labeled examples. Resources: Stanford's CS229 notes.\n",
      "    * **Reinforcement Learning:**  Learn about agents, environments, rewards, and policies.  This area is more advanced but increasingly important. Resources: David Silver's Reinforcement Learning course (UCL).\n",
      "* **Deep Learning:**\n",
      "    * **Neural Networks:** Understand the basic architecture of neural networks, including perceptrons, multi-layer perceptrons (MLPs), and activation functions. Resources:  Deep Learning Specialization (Coursera).\n",
      "    * **Convolutional Neural Networks (CNNs):** For image processing and computer vision.\n",
      "    * **Recurrent Neural Networks (RNNs):** For sequential data like text and time series.\n",
      "    * **Other Architectures:**  Transformers, autoencoders, generative adversarial networks (GANs).  Explore these as you become more comfortable with the fundamentals.\n",
      "\n",
      "**Stage 3: Specialization and Projects (Ongoing)**\n",
      "\n",
      "* **Choose a Specialization:**  Natural Language Processing (NLP), Computer Vision, Robotics, Time Series Analysis, etc.  Focus your learning on a specific area that interests you.\n",
      "* **Build Projects:**  The best way to solidify your understanding is by building projects.  Start with simple projects and gradually increase complexity.  Examples: image classifier, sentiment analysis tool, chatbot.  Use platforms like Kaggle for datasets and competitions.\n",
      "* **Contribute to Open Source:**  Contribute to open-source projects to gain experience and collaborate with other AI enthusiasts.\n",
      "* **Read Research Papers:**  Stay up-to-date with the latest advancements in AI by reading research papers.  Start with survey papers to get an overview of a topic before diving into more specialized papers.\n",
      "\n",
      "\n",
      "**Resources:**\n",
      "\n",
      "* **Online Courses:** Coursera, edX, Udacity, fast.ai, DeepLearning.AI\n",
      "* **Books:** \"Hands-On Machine Learning with Scikit-Learn, Keras & TensorFlow\" by Aurélien Géron, \"Deep Learning\" by Goodfellow, Bengio, and Courville.\n",
      "* **YouTube Channels:** 3Blue1Brown, Two Minute Papers, Lex Fridman.\n",
      "* **Communities:** Kaggle, Stack Overflow, Reddit (r/MachineLearning, r/artificialintelligence).\n",
      "\n",
      "\n",
      "**Tips for Success:**\n",
      "\n",
      "* **Start small:** Don't try to learn everything at once. Focus on one concept at a time.\n",
      "* **Practice regularly:**  Consistency is key.  Set aside time each day or week to work on your learning.\n",
      "* **Build projects:**  The best way to learn is by doing.\n",
      "* **Join a community:**  Connect with other learners and experts to get support and feedback.\n",
      "* **Be patient:**  Learning AI takes time and effort. Don't get discouraged if you don't understand everything immediately.\n",
      "\n",
      "\n",
      "This roadmap is a guideline.  Adjust it to your own pace and interests.  The most important thing is to stay curious and keep learning!\n"
     ]
    }
   ],
   "source": [
    "output = graph.invoke({'messages': messages})\n",
    "for m in output['messages']:\n",
    "    m.pretty_print()"
   ]
  },
  {
   "cell_type": "markdown",
   "metadata": {},
   "source": [
    "Points if we pass the entire conversation\n",
    "\n",
    "1.High cost\n",
    "\n",
    "2.High latency\n",
    "\n",
    "3.High token usage\n",
    "\n"
   ]
  },
  {
   "cell_type": "markdown",
   "metadata": {},
   "source": [
    "# Filtering the messages"
   ]
  },
  {
   "cell_type": "code",
   "execution_count": 17,
   "metadata": {},
   "outputs": [
    {
     "data": {
      "image/png": "[encoded data removed]",
      "text/plain": [
       "<IPython.core.display.Image object>"
      ]
     },
     "metadata": {},
     "output_type": "display_data"
    }
   ],
   "source": [
    "from langchain_core.messages import RemoveMessage\n",
    "\n",
    "# Nodes\n",
    "def filter_messages(state: MessagesState):\n",
    "    # Delete all but the 2 most recent messages\n",
    "    #This function takes the current state of messages and creates a list of RemoveMessage objects for all messages except the last two.\n",
    "\n",
    "    delete_messages = [RemoveMessage(id=m.id) for m in state[\"messages\"][:-2]]\n",
    "    return {\"messages\": delete_messages}\n",
    "\n",
    "def chat_model_node(state: MessagesState):    \n",
    "    return {\"messages\": [llm.invoke(state[\"messages\"])]}\n",
    "\n",
    "# Build graph\n",
    "builder = StateGraph(MessagesState)\n",
    "builder.add_node(\"filter\", filter_messages)\n",
    "builder.add_node(\"chat_model\", chat_model_node)\n",
    "builder.add_edge(START, \"filter\")\n",
    "builder.add_edge(\"filter\", \"chat_model\")\n",
    "builder.add_edge(\"chat_model\", END)\n",
    "graph = builder.compile()\n",
    "\n",
    "# View\n",
    "display(Image(graph.get_graph().draw_mermaid_png()))"
   ]
  },
  {
   "cell_type": "code",
   "execution_count": 19,
   "metadata": {},
   "outputs": [
    {
     "name": "stdout",
     "output_type": "stream",
     "text": [
      "==================================\u001b[1m Ai Message \u001b[0m==================================\n",
      "Name: Bot\n",
      "\n",
      "So you said you were researching about AI?\n",
      "================================\u001b[1m Human Message \u001b[0m=================================\n",
      "Name: Lance\n",
      "\n",
      "Yes, I know about AI. But what other topics should I learn about?\n",
      "==================================\u001b[1m Ai Message \u001b[0m==================================\n",
      "\n",
      "That depends heavily on *why* you're researching AI.  To give you the best recommendations, I need some more context.  For example:\n",
      "\n",
      "* **What is your current level of AI knowledge?** (Beginner, intermediate, advanced?)\n",
      "* **What are your goals for learning about AI?** (For a job, a hobby, general knowledge, a specific project?)\n",
      "* **What aspects of AI are you most interested in?** (Machine learning, natural language processing, computer vision, robotics, ethics of AI, etc.?)\n",
      "\n",
      "Once I have a better understanding of your background and goals, I can suggest relevant topics.\n",
      "\n",
      "However, here are some general areas that complement an understanding of AI, regardless of your specific focus:\n",
      "\n",
      "**Foundational Topics:**\n",
      "\n",
      "* **Mathematics:** Linear algebra, calculus, probability, statistics. These are crucial for understanding the underlying algorithms.\n",
      "* **Computer Science:** Data structures and algorithms, programming (Python is particularly popular in AI), databases.  You need to be able to implement and work with AI models.\n",
      "* **Data Analysis and Visualization:**  Understanding how to clean, prepare, and analyze data is vital for any AI project.  Tools like Pandas and visualization libraries are helpful.\n",
      "\n",
      "\n",
      "**Related AI Fields:**\n",
      "\n",
      "* **Machine Learning (ML):**  Supervised learning, unsupervised learning, reinforcement learning, deep learning.  This is a core component of AI.\n",
      "* **Deep Learning (DL):** Convolutional Neural Networks (CNNs), Recurrent Neural Networks (RNNs), Transformers.  A powerful subset of ML.\n",
      "* **Natural Language Processing (NLP):**  Working with text data, sentiment analysis, language translation, chatbots.\n",
      "* **Computer Vision:**  Image recognition, object detection, image segmentation.\n",
      "* **Robotics:**  Integrating AI with physical robots.\n",
      "* **Explainable AI (XAI):** Understanding how AI models make decisions and building trust.\n",
      "* **AI Ethics and Safety:**  Addressing the societal implications of AI, bias, fairness, and accountability.\n",
      "\n",
      "\n",
      "**Advanced Topics (depending on your goals):**\n",
      "\n",
      "* **Reinforcement Learning (RL):**  Training agents to make decisions in an environment.\n",
      "* **Generative Adversarial Networks (GANs):**  Creating new data samples that resemble real data.\n",
      "* **Transfer Learning:**  Applying knowledge learned from one task to another.\n",
      "* **Meta-learning:**  Learning to learn.\n",
      "\n",
      "\n",
      "Provide me with more information about your interests and goals, and I can give you a more tailored and helpful list of topics to explore.\n"
     ]
    }
   ],
   "source": [
    "# Message list with a preamble\n",
    "messages = [AIMessage(\"Hi.\", name=\"Bot\", id=\"1\")]\n",
    "messages.append(HumanMessage(\"Hi.\", name=\"Lance\", id=\"2\"))\n",
    "messages.append(AIMessage(\"So you said you were researching about AI?\", name=\"Bot\", id=\"3\"))\n",
    "messages.append(HumanMessage(\"Yes, I know about AI. But what other topics should I learn about?\", name=\"Lance\", id=\"4\"))\n",
    "\n",
    "# Invoke\n",
    "output = graph.invoke({'messages': messages})\n",
    "for m in output['messages']:\n",
    "    m.pretty_print()"
   ]
  },
  {
   "cell_type": "markdown",
   "metadata": {},
   "source": [
    "# Trimming the messages\n",
    "\n",
    "# Trimming happens at tokens level\n"
   ]
  },
  {
   "cell_type": "code",
   "execution_count": 21,
   "metadata": {},
   "outputs": [
    {
     "data": {
      "image/png": "[encoded data removed]",
      "text/plain": [
       "<IPython.core.display.Image object>"
      ]
     },
     "metadata": {},
     "output_type": "display_data"
    }
   ],
   "source": [
    "from langchain_core.messages import trim_messages\n",
    "\n",
    "# Node\n",
    "def chat_model_node(state: MessagesState):\n",
    "    messages = trim_messages(\n",
    "            state[\"messages\"],\n",
    "            max_tokens=100,\n",
    "            strategy=\"last\",\n",
    "            token_counter=llm,\n",
    "            allow_partial=False,\n",
    "        )\n",
    "    return {\"messages\": [llm.invoke(messages)]}\n",
    "\n",
    "# Build graph\n",
    "builder = StateGraph(MessagesState)\n",
    "builder.add_node(\"chat_model\", chat_model_node)\n",
    "builder.add_edge(START, \"chat_model\")\n",
    "builder.add_edge(\"chat_model\", END)\n",
    "graph = builder.compile()\n",
    "\n",
    "# View\n",
    "display(Image(graph.get_graph().draw_mermaid_png()))"
   ]
  },
  {
   "cell_type": "code",
   "execution_count": 22,
   "metadata": {},
   "outputs": [
    {
     "name": "stdout",
     "output_type": "stream",
     "text": [
      "==================================\u001b[1m Ai Message \u001b[0m==================================\n",
      "Name: Bot\n",
      "\n",
      "Hi.\n",
      "================================\u001b[1m Human Message \u001b[0m=================================\n",
      "Name: Lance\n",
      "\n",
      "Hi.\n",
      "==================================\u001b[1m Ai Message \u001b[0m==================================\n",
      "Name: Bot\n",
      "\n",
      "So you said you were researching about AI?\n",
      "================================\u001b[1m Human Message \u001b[0m=================================\n",
      "Name: Lance\n",
      "\n",
      "Yes, I know about AI. But what other topics should I learn about?\n",
      "==================================\u001b[1m Ai Message \u001b[0m==================================\n",
      "\n",
      "That depends heavily on *why* you're researching AI.  To give you the best recommendations, I need some more context.  For example:\n",
      "\n",
      "* **What is your current level of AI knowledge?** (Beginner, intermediate, advanced?)\n",
      "* **What are your goals for learning about AI?** (For a job, a hobby, general knowledge, a specific project?)\n",
      "* **What aspects of AI are you most interested in?** (Machine learning, natural language processing, computer vision, robotics, ethics of AI, etc.?)\n",
      "\n",
      "Once I have a better understanding of your background and goals, I can suggest relevant topics.\n",
      "\n",
      "However, here are some general areas that complement an understanding of AI, regardless of your specific focus:\n",
      "\n",
      "**Foundational Topics:**\n",
      "\n",
      "* **Mathematics:** Linear algebra, calculus, probability, statistics. These are crucial for understanding the underlying algorithms.\n",
      "* **Computer Science:** Data structures and algorithms, programming (Python is particularly popular in AI), databases.  You need to be able to implement and work with AI models.\n",
      "* **Data Analysis and Visualization:**  Understanding how to clean, prepare, and analyze data is vital for any AI project.  Tools like Pandas and visualization libraries are helpful.\n",
      "\n",
      "\n",
      "**Related AI Fields:**\n",
      "\n",
      "* **Machine Learning (ML):**  Supervised learning, unsupervised learning, reinforcement learning, deep learning.  This is a core component of AI.\n",
      "* **Deep Learning (DL):** Convolutional Neural Networks (CNNs), Recurrent Neural Networks (RNNs), Transformers.  A powerful subset of ML.\n",
      "* **Natural Language Processing (NLP):**  Working with text data, sentiment analysis, language translation, chatbots.\n",
      "* **Computer Vision:**  Image recognition, object detection, image segmentation.\n",
      "* **Robotics:**  Integrating AI with physical robots.\n",
      "* **Explainable AI (XAI):** Understanding how AI models make decisions and building trust.\n",
      "* **AI Ethics and Safety:**  Addressing the societal implications of AI, bias, fairness, and accountability.\n",
      "\n",
      "\n",
      "**Advanced Topics (depending on your goals):**\n",
      "\n",
      "* **Reinforcement Learning (RL):**  Training agents to make decisions in an environment.\n",
      "* **Generative Adversarial Networks (GANs):**  Creating new data samples that resemble real data.\n",
      "* **Transfer Learning:**  Applying knowledge learned from one task to another.\n",
      "* **Meta-learning:**  Learning to learn.\n",
      "\n",
      "\n",
      "Provide me with more information about your interests and goals, and I can give you a more tailored and helpful list of topics to explore.\n",
      "================================\u001b[1m Human Message \u001b[0m=================================\n",
      "Name: Lance\n",
      "\n",
      "Tell me where Orcas live!\n",
      "==================================\u001b[1m Ai Message \u001b[0m==================================\n",
      "\n",
      "Orcas, also known as killer whales, are found in all oceans of the world.  However, different populations inhabit specific regions and have distinct behaviors and social structures.  You won't find them uniformly distributed; their presence depends on prey availability.\n"
     ]
    }
   ],
   "source": [
    "messages.append(output['messages'][-1])\n",
    "messages.append(HumanMessage(f\"Tell me where Orcas live!\", name=\"Lance\"))\n",
    "\n",
    "# Invoke\n",
    "output = graph.invoke({'messages': messages})\n",
    "for m in output['messages']:\n",
    "    m.pretty_print()"
   ]
  },
  {
   "cell_type": "code",
   "execution_count": 23,
   "metadata": {},
   "outputs": [],
   "source": [
    "list_of_messages=[\n",
    "    (\"user\", \"Hi, I'm Aditya\"),\n",
    "    (\"bot\", \"Hi Aditya, I'm a chatbot. How can I help you today?\"),\n",
    "    (\"user\", \"I'm looking for a job. Can you help me find one?\"),\n",
    "    (\"bot\", \"Sure, I can help you with that. What kind of job are you looking for?\"),\n",
    "    (\"user\", \"I'm looking for a job in the tech industry.\"),\n",
    "    (\"bot\", \"Great! What kind of tech industry are you interested in?\"),\n",
    "    (\"user\", \"I'm interested in the AI industry.\"),\n",
    "    (\"bot\", \"Awesome! What kind of AI are you interested in?\"),\n",
    "    (\"user\", \"I'm interested in AI agents.\"),\n",
    "    (\"bot\", \"That's great! What kind of AI agents are you interested in?\"),\n",
    "]\n",
    "\n"
   ]
  },
  {
   "cell_type": "code",
   "execution_count": 24,
   "metadata": {},
   "outputs": [
    {
     "name": "stdout",
     "output_type": "stream",
     "text": [
      "('user', \"Hi, I'm Aditya\")\n",
      "('bot', \"Hi Aditya, I'm a chatbot. How can I help you today?\")\n",
      "('user', \"I'm looking for a job. Can you help me find one?\")\n",
      "('bot', 'Sure, I can help you with that. What kind of job are you looking for?')\n",
      "('user', \"I'm looking for a job in the tech industry.\")\n",
      "('bot', 'Great! What kind of tech industry are you interested in?')\n",
      "('user', \"I'm interested in the AI industry.\")\n",
      "('bot', 'Awesome! What kind of AI are you interested in?')\n",
      "('user', \"I'm interested in AI agents.\")\n",
      "('bot', \"That's great! What kind of AI agents are you interested in?\")\n"
     ]
    }
   ],
   "source": [
    "for i in list_of_messages:\n",
    "    print(i)\n"
   ]
  },
  {
   "cell_type": "code",
   "execution_count": 30,
   "metadata": {},
   "outputs": [
    {
     "data": {
      "text/plain": [
       "[('bot', 'Awesome! What kind of AI are you interested in?'),\n",
       " ('user', \"I'm interested in AI agents.\"),\n",
       " ('bot', \"That's great! What kind of AI agents are you interested in?\")]"
      ]
     },
     "execution_count": 30,
     "metadata": {},
     "output_type": "execute_result"
    }
   ],
   "source": [
    "list_of_messages [-3:]\n",
    "\n"
   ]
  },
  {
   "cell_type": "code",
   "execution_count": null,
   "metadata": {},
   "outputs": [],
   "source": []
  }
 ],
 "metadata": {
  "kernelspec": {
   "display_name": "Python 3",
   "language": "python",
   "name": "python3"
  },
  "language_info": {
   "codemirror_mode": {
    "name": "ipython",
    "version": 3
   },
   "file_extension": ".py",
   "mimetype": "text/x-python",
   "name": "python",
   "nbconvert_exporter": "python",
   "pygments_lexer": "ipython3",
   "version": "3.9.5"
  }
 },
 "nbformat": 4,
 "nbformat_minor": 2
}
