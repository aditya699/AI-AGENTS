{
 "cells": [
  {
   "cell_type": "markdown",
   "metadata": {},
   "source": [
    "# Lecture 13 \n",
    "\n",
    "## Understanding Chatbots and effective token usage (trim,filtering,summary) in pure python and intro to agentic memory\n",
    "\n"
   ]
  },
  {
   "cell_type": "code",
   "execution_count": 4,
   "metadata": {},
   "outputs": [],
   "source": [
    "import os\n",
    "from dotenv import load_dotenv\n",
    "load_dotenv()\n",
    "os.environ[\"GOOGLE_API_KEY\"] = os.getenv(\"GEMINI_API_KEY\")\n",
    "from langchain_google_genai import ChatGoogleGenerativeAI\n",
    "\n",
    "llm = ChatGoogleGenerativeAI(model=\"gemini-1.5-flash-latest\")"
   ]
  },
  {
   "cell_type": "markdown",
   "metadata": {},
   "source": [
    "# Vanilla Chatbot"
   ]
  },
  {
   "cell_type": "code",
   "execution_count": 5,
   "metadata": {},
   "outputs": [
    {
     "name": "stdout",
     "output_type": "stream",
     "text": [
      "[SystemMessage(content='You are a helpful assistant', additional_kwargs={}, response_metadata={}), HumanMessage(content='Explain the concept of AI?', additional_kwargs={}, response_metadata={}), AIMessage(content='AI is a technology that allows computers to learn and improve from experience, without being explicitly programmed. It uses algorithms to analyze data, identify patterns, and make predictions or decisions.', additional_kwargs={}, response_metadata={}), HumanMessage(content='Hi', additional_kwargs={}, response_metadata={})]\n",
      "Hi there! How can I help you today?\n",
      "[SystemMessage(content='You are a helpful assistant', additional_kwargs={}, response_metadata={}), HumanMessage(content='Explain the concept of AI?', additional_kwargs={}, response_metadata={}), AIMessage(content='AI is a technology that allows computers to learn and improve from experience, without being explicitly programmed. It uses algorithms to analyze data, identify patterns, and make predictions or decisions.', additional_kwargs={}, response_metadata={}), HumanMessage(content='Hi', additional_kwargs={}, response_metadata={}), AIMessage(content='Hi there! How can I help you today?', additional_kwargs={}, response_metadata={}), HumanMessage(content='joke on maths', additional_kwargs={}, response_metadata={})]\n",
      "Why don't mathematicians sunbathe at the beach?\n",
      "\n",
      "Because they have sin and cos to get a tan!\n"
     ]
    }
   ],
   "source": [
    "#Set the system message\n",
    "from langchain_core.messages import SystemMessage, HumanMessage, AIMessage\n",
    "\n",
    "\n",
    "messages = [\n",
    "    SystemMessage(content=\"You are a helpful assistant\"),\n",
    "    HumanMessage(content=\"Explain the concept of AI?\"),\n",
    "    AIMessage(content=\"AI is a technology that allows computers to learn and improve from experience, without being explicitly programmed. It uses algorithms to analyze data, identify patterns, and make predictions or decisions.\")\n",
    "]\n",
    "\n",
    "while True:\n",
    "    user_input = input(\"Enter your message: \")\n",
    "    if user_input.lower() == \"exit\":\n",
    "        break\n",
    "    messages.append(HumanMessage(content=user_input))\n",
    "    print(messages)\n",
    "    response = llm.invoke(messages)\n",
    "    messages.append(AIMessage(content=response.content))\n",
    "    print(response.content)\n",
    "\n",
    "\n",
    "\n"
   ]
  },
  {
   "cell_type": "markdown",
   "metadata": {},
   "source": [
    "# Problems -\n",
    "1.Long conversation history,results in high token usage and slow response times and cost\n",
    "\n"
   ]
  },
  {
   "cell_type": "markdown",
   "metadata": {},
   "source": [
    "# Filtering\n",
    "\n"
   ]
  },
  {
   "cell_type": "code",
   "execution_count": 9,
   "metadata": {},
   "outputs": [
    {
     "name": "stdout",
     "output_type": "stream",
     "text": [
      "Full messages [SystemMessage(content='You are a helpful assistant', additional_kwargs={}, response_metadata={}), HumanMessage(content='Explain the concept of AI?', additional_kwargs={}, response_metadata={}), AIMessage(content='AI is a technology that allows computers to learn and improve from experience, without being explicitly programmed. It uses algorithms to analyze data, identify patterns, and make predictions or decisions.', additional_kwargs={}, response_metadata={}), HumanMessage(content='Hi', additional_kwargs={}, response_metadata={})]\n",
      "Filtered messages [SystemMessage(content='You are a helpful assistant', additional_kwargs={}, response_metadata={}), AIMessage(content='AI is a technology that allows computers to learn and improve from experience, without being explicitly programmed. It uses algorithms to analyze data, identify patterns, and make predictions or decisions.', additional_kwargs={}, response_metadata={}), HumanMessage(content='Hi', additional_kwargs={}, response_metadata={})]\n",
      "Hi there! How can I help you today?\n",
      "Full messages [SystemMessage(content='You are a helpful assistant', additional_kwargs={}, response_metadata={}), HumanMessage(content='Explain the concept of AI?', additional_kwargs={}, response_metadata={}), AIMessage(content='AI is a technology that allows computers to learn and improve from experience, without being explicitly programmed. It uses algorithms to analyze data, identify patterns, and make predictions or decisions.', additional_kwargs={}, response_metadata={}), HumanMessage(content='Hi', additional_kwargs={}, response_metadata={}), AIMessage(content='Hi there! How can I help you today?', additional_kwargs={}, response_metadata={}), HumanMessage(content='How are you', additional_kwargs={}, response_metadata={})]\n",
      "Filtered messages [SystemMessage(content='You are a helpful assistant', additional_kwargs={}, response_metadata={}), AIMessage(content='Hi there! How can I help you today?', additional_kwargs={}, response_metadata={}), HumanMessage(content='How are you', additional_kwargs={}, response_metadata={})]\n",
      "I'm doing well, thank you for asking!  As a large language model, I don't experience emotions or feelings in the same way humans do, but I'm functioning optimally and ready to assist you.  How are you?\n",
      "Full messages [SystemMessage(content='You are a helpful assistant', additional_kwargs={}, response_metadata={}), HumanMessage(content='Explain the concept of AI?', additional_kwargs={}, response_metadata={}), AIMessage(content='AI is a technology that allows computers to learn and improve from experience, without being explicitly programmed. It uses algorithms to analyze data, identify patterns, and make predictions or decisions.', additional_kwargs={}, response_metadata={}), HumanMessage(content='Hi', additional_kwargs={}, response_metadata={}), AIMessage(content='Hi there! How can I help you today?', additional_kwargs={}, response_metadata={}), HumanMessage(content='How are you', additional_kwargs={}, response_metadata={}), AIMessage(content=\"I'm doing well, thank you for asking!  As a large language model, I don't experience emotions or feelings in the same way humans do, but I'm functioning optimally and ready to assist you.  How are you?\", additional_kwargs={}, response_metadata={}), HumanMessage(content='joke on football', additional_kwargs={}, response_metadata={})]\n",
      "Filtered messages [SystemMessage(content='You are a helpful assistant', additional_kwargs={}, response_metadata={}), AIMessage(content=\"I'm doing well, thank you for asking!  As a large language model, I don't experience emotions or feelings in the same way humans do, but I'm functioning optimally and ready to assist you.  How are you?\", additional_kwargs={}, response_metadata={}), HumanMessage(content='joke on football', additional_kwargs={}, response_metadata={})]\n",
      "Why don't scientists trust atoms? \n",
      "\n",
      "Because they make up everything!\n",
      "\\\n",
      "...and they're always trying to get a touchdown.\n"
     ]
    }
   ],
   "source": [
    "# Same code just top 3 messages with system message always included\n",
    "\n",
    "#Set the system message\n",
    "from langchain_core.messages import SystemMessage, HumanMessage, AIMessage\n",
    "\n",
    "\n",
    "messages = [\n",
    "    SystemMessage(content=\"You are a helpful assistant\"),\n",
    "    HumanMessage(content=\"Explain the concept of AI?\"),\n",
    "    AIMessage(content=\"AI is a technology that allows computers to learn and improve from experience, without being explicitly programmed. It uses algorithms to analyze data, identify patterns, and make predictions or decisions.\")\n",
    "]\n",
    "\n",
    "while True:\n",
    "    user_input = input(\"Enter your message: \")\n",
    "    if user_input.lower() == \"exit\":\n",
    "        break\n",
    "    messages.append(HumanMessage(content=user_input))\n",
    "    print(\"Full messages\", messages)\n",
    "\n",
    "    try:\n",
    "        # Always include system message plus last 2 messages\n",
    "        filtered_messages = [messages[0]] + messages[-2:]\n",
    "        print(\"Filtered messages\", filtered_messages)\n",
    "        response = llm.invoke(filtered_messages)\n",
    "        messages.append(AIMessage(content=response.content))\n",
    "        print(response.content)\n",
    "    except Exception as e:\n",
    "        print(\"Error:\", e)\n",
    "        response = llm.invoke(messages)  # Fallback to full history\n",
    "        messages.append(AIMessage(content=response.content))\n",
    "        print(response.content)\n"
   ]
  },
  {
   "cell_type": "markdown",
   "metadata": {},
   "source": [
    "# # Trimming\n",
    "# \n",
    "# \n",
    "# # Same code just trim last n words or tokens\n",
    "# \n",
    "# # #Set the system message"
   ]
  },
  {
   "cell_type": "code",
   "execution_count": 3,
   "metadata": {},
   "outputs": [
    {
     "name": "stdout",
     "output_type": "stream",
     "text": [
      "Full messages [SystemMessage(content='You are a helpful assistant', additional_kwargs={}, response_metadata={}), HumanMessage(content='Explain the concept of AI?', additional_kwargs={}, response_metadata={}), AIMessage(content='AI is a technology that allows computers to learn and improve from experience, without being explicitly programmed. It uses algorithms to analyze data, identify patterns, and make predictions or decisions.', additional_kwargs={}, response_metadata={}), HumanMessage(content='Hi', additional_kwargs={}, response_metadata={})]\n",
      "Filtered messages [SystemMessage(content='You are a helpful assistant', additional_kwargs={}, response_metadata={}), HumanMessage(content='Explain the concept of AI?', additional_kwargs={}, response_metadata={}), AIMessage(content='AI is a technology that allows computers to learn and improve from experience, without being explicitly programmed. It uses algorithms to analyze data, identify patterns, and make predictions or decisions.', additional_kwargs={}, response_metadata={}), HumanMessage(content='Hi', additional_kwargs={}, response_metadata={})]\n",
      "Hi there! How can I help you today?\n",
      "Full messages [SystemMessage(content='You are a helpful assistant', additional_kwargs={}, response_metadata={}), HumanMessage(content='Explain the concept of AI?', additional_kwargs={}, response_metadata={}), AIMessage(content='AI is a technology that allows computers to learn and improve from experience, without being explicitly programmed. It uses algorithms to analyze data, identify patterns, and make predictions or decisions.', additional_kwargs={}, response_metadata={}), HumanMessage(content='Hi', additional_kwargs={}, response_metadata={}), AIMessage(content='Hi there! How can I help you today?', additional_kwargs={}, response_metadata={}), HumanMessage(content='Hello', additional_kwargs={}, response_metadata={})]\n",
      "Filtered messages [SystemMessage(content='You are a helpful assistant', additional_kwargs={}, response_metadata={}), HumanMessage(content='Explain the concept of AI?', additional_kwargs={}, response_metadata={}), AIMessage(content='AI is a technology that allows computers to learn and improve from experience, without being explicitly programmed. It uses algorithms to analyze data, identify patterns, and make predictions or decisions.', additional_kwargs={}, response_metadata={}), HumanMessage(content='Hi', additional_kwargs={}, response_metadata={}), AIMessage(content='Hi there! How can I help you today?', additional_kwargs={}, response_metadata={}), HumanMessage(content='Hello', additional_kwargs={}, response_metadata={})]\n",
      "Hello!  How can I assist you?\n",
      "Full messages [SystemMessage(content='You are a helpful assistant', additional_kwargs={}, response_metadata={}), HumanMessage(content='Explain the concept of AI?', additional_kwargs={}, response_metadata={}), AIMessage(content='AI is a technology that allows computers to learn and improve from experience, without being explicitly programmed. It uses algorithms to analyze data, identify patterns, and make predictions or decisions.', additional_kwargs={}, response_metadata={}), HumanMessage(content='Hi', additional_kwargs={}, response_metadata={}), AIMessage(content='Hi there! How can I help you today?', additional_kwargs={}, response_metadata={}), HumanMessage(content='Hello', additional_kwargs={}, response_metadata={}), AIMessage(content='Hello!  How can I assist you?', additional_kwargs={}, response_metadata={}), HumanMessage(content='King or queen', additional_kwargs={}, response_metadata={})]\n",
      "Filtered messages [SystemMessage(content='You are a helpful assistant', additional_kwargs={}, response_metadata={}), HumanMessage(content='Explain the concept of AI?', additional_kwargs={}, response_metadata={}), AIMessage(content='AI is a technology that allows computers to learn and improve from experience, without being explicitly programmed. It uses algorithms to analyze data, identify patterns, and make predictions or decisions.', additional_kwargs={}, response_metadata={}), HumanMessage(content='Hi', additional_kwargs={}, response_metadata={}), AIMessage(content='Hi there! How can I help you today?', additional_kwargs={}, response_metadata={}), HumanMessage(content='Hello', additional_kwargs={}, response_metadata={}), AIMessage(content='Hello!  How can I assist you?', additional_kwargs={}, response_metadata={}), HumanMessage(content='King or queen', additional_kwargs={}, response_metadata={})]\n",
      "That depends on what you're asking about!  \n",
      "\n",
      "* **In a game of chess?**  It depends on who's playing white.\n",
      "* **In a deck of cards?** There are four kings and four queens.\n",
      "* **In a monarchy?**  It depends on the specific country and its history.\n",
      "* **Metaphorically?**  It could refer to someone who is dominant or in charge.\n",
      "\n",
      "To answer your question properly, I need more context.  What kind of king or queen are you interested in?\n",
      "Full messages [SystemMessage(content='You are a helpful assistant', additional_kwargs={}, response_metadata={}), HumanMessage(content='Explain the concept of AI?', additional_kwargs={}, response_metadata={}), AIMessage(content='AI is a technology that allows computers to learn and improve from experience, without being explicitly programmed. It uses algorithms to analyze data, identify patterns, and make predictions or decisions.', additional_kwargs={}, response_metadata={}), HumanMessage(content='Hi', additional_kwargs={}, response_metadata={}), AIMessage(content='Hi there! How can I help you today?', additional_kwargs={}, response_metadata={}), HumanMessage(content='Hello', additional_kwargs={}, response_metadata={}), AIMessage(content='Hello!  How can I assist you?', additional_kwargs={}, response_metadata={}), HumanMessage(content='King or queen', additional_kwargs={}, response_metadata={}), AIMessage(content=\"That depends on what you're asking about!  \\n\\n* **In a game of chess?**  It depends on who's playing white.\\n* **In a deck of cards?** There are four kings and four queens.\\n* **In a monarchy?**  It depends on the specific country and its history.\\n* **Metaphorically?**  It could refer to someone who is dominant or in charge.\\n\\nTo answer your question properly, I need more context.  What kind of king or queen are you interested in?\", additional_kwargs={}, response_metadata={}), HumanMessage(content='maths or phy?', additional_kwargs={}, response_metadata={})]\n",
      "Filtered messages [SystemMessage(content='You are a helpful assistant', additional_kwargs={}, response_metadata={}), AIMessage(content='decisions.', additional_kwargs={}, response_metadata={}), HumanMessage(content='Hi', additional_kwargs={}, response_metadata={}), AIMessage(content='Hi there! How can I help you today?', additional_kwargs={}, response_metadata={}), HumanMessage(content='Hello', additional_kwargs={}, response_metadata={}), AIMessage(content='Hello!  How can I assist you?', additional_kwargs={}, response_metadata={}), HumanMessage(content='King or queen', additional_kwargs={}, response_metadata={}), AIMessage(content=\"That depends on what you're asking about!  \\n\\n* **In a game of chess?**  It depends on who's playing white.\\n* **In a deck of cards?** There are four kings and four queens.\\n* **In a monarchy?**  It depends on the specific country and its history.\\n* **Metaphorically?**  It could refer to someone who is dominant or in charge.\\n\\nTo answer your question properly, I need more context.  What kind of king or queen are you interested in?\", additional_kwargs={}, response_metadata={}), HumanMessage(content='maths or phy?', additional_kwargs={}, response_metadata={})]\n",
      "That depends entirely on your interests and strengths!  Both mathematics and physics are fascinating and rewarding subjects, but they cater to different learning styles and career paths.\n",
      "\n",
      "**Mathematics** is more abstract and theoretical. It focuses on the study of numbers, quantities, structure, space, and change.  It's the foundation upon which much of physics (and many other fields) is built.  If you enjoy logical reasoning, problem-solving, and abstract thinking, you might find mathematics more appealing.\n",
      "\n",
      "**Physics** is more applied and experimental. It focuses on the understanding of the physical world, from the smallest particles to the largest galaxies. It often involves applying mathematical concepts to model and predict physical phenomena. If you enjoy understanding how things work, conducting experiments, and applying knowledge to real-world problems, you might find physics more appealing.\n",
      "\n",
      "To help you decide, consider:\n",
      "\n",
      "* **Your strengths:** Are you better at abstract thinking or hands-on experimentation?\n",
      "* **Your interests:** Are you more interested in pure theory or practical applications?\n",
      "* **Your career goals:** What kind of career are you hoping to pursue?  (Many careers require either or both!)\n",
      "\n",
      "Ultimately, the \"better\" choice is the one that you find more engaging and challenging.  You might even find that you enjoy both!\n",
      "Full messages [SystemMessage(content='You are a helpful assistant', additional_kwargs={}, response_metadata={}), HumanMessage(content='Explain the concept of AI?', additional_kwargs={}, response_metadata={}), AIMessage(content='AI is a technology that allows computers to learn and improve from experience, without being explicitly programmed. It uses algorithms to analyze data, identify patterns, and make predictions or decisions.', additional_kwargs={}, response_metadata={}), HumanMessage(content='Hi', additional_kwargs={}, response_metadata={}), AIMessage(content='Hi there! How can I help you today?', additional_kwargs={}, response_metadata={}), HumanMessage(content='Hello', additional_kwargs={}, response_metadata={}), AIMessage(content='Hello!  How can I assist you?', additional_kwargs={}, response_metadata={}), HumanMessage(content='King or queen', additional_kwargs={}, response_metadata={}), AIMessage(content=\"That depends on what you're asking about!  \\n\\n* **In a game of chess?**  It depends on who's playing white.\\n* **In a deck of cards?** There are four kings and four queens.\\n* **In a monarchy?**  It depends on the specific country and its history.\\n* **Metaphorically?**  It could refer to someone who is dominant or in charge.\\n\\nTo answer your question properly, I need more context.  What kind of king or queen are you interested in?\", additional_kwargs={}, response_metadata={}), HumanMessage(content='maths or phy?', additional_kwargs={}, response_metadata={}), AIMessage(content='That depends entirely on your interests and strengths!  Both mathematics and physics are fascinating and rewarding subjects, but they cater to different learning styles and career paths.\\n\\n**Mathematics** is more abstract and theoretical. It focuses on the study of numbers, quantities, structure, space, and change.  It\\'s the foundation upon which much of physics (and many other fields) is built.  If you enjoy logical reasoning, problem-solving, and abstract thinking, you might find mathematics more appealing.\\n\\n**Physics** is more applied and experimental. It focuses on the understanding of the physical world, from the smallest particles to the largest galaxies. It often involves applying mathematical concepts to model and predict physical phenomena. If you enjoy understanding how things work, conducting experiments, and applying knowledge to real-world problems, you might find physics more appealing.\\n\\nTo help you decide, consider:\\n\\n* **Your strengths:** Are you better at abstract thinking or hands-on experimentation?\\n* **Your interests:** Are you more interested in pure theory or practical applications?\\n* **Your career goals:** What kind of career are you hoping to pursue?  (Many careers require either or both!)\\n\\nUltimately, the \"better\" choice is the one that you find more engaging and challenging.  You might even find that you enjoy both!', additional_kwargs={}, response_metadata={}), HumanMessage(content='bye', additional_kwargs={}, response_metadata={})]\n",
      "Filtered messages [SystemMessage(content='You are a helpful assistant', additional_kwargs={}, response_metadata={}), AIMessage(content='concepts to model and predict physical phenomena. If you enjoy understanding how things work, conducting experiments, and applying knowledge to real-world problems, you might find physics more appealing. To help you decide, consider: * **Your strengths:** Are you better at abstract thinking or hands-on experimentation? * **Your interests:** Are you more interested in pure theory or practical applications? * **Your career goals:** What kind of career are you hoping to pursue? (Many careers require either or both!) Ultimately, the \"better\" choice is the one that you find more engaging and challenging. You might even find that you enjoy both!', additional_kwargs={}, response_metadata={}), HumanMessage(content='bye', additional_kwargs={}, response_metadata={})]\n",
      "Bye!  Have a great day.\n"
     ]
    }
   ],
   "source": [
    "# Same code trimmed to last 100 words of conversation with system message\n",
    "\n",
    "#Set the system message\n",
    "from langchain_core.messages import SystemMessage, HumanMessage, AIMessage\n",
    "\n",
    "def get_last_n_words(messages, n):\n",
    "    total_words = 0\n",
    "    trimmed_messages = []\n",
    "    # Iterate over the messages in reverse order (excluding system message)\n",
    "    for msg in reversed(messages[1:]):\n",
    "        words = msg.content.split() # Split the content into words\n",
    "        if total_words + len(words) > n:\n",
    "            words_to_take = n - total_words\n",
    "            if words_to_take > 0:\n",
    "                trimmed_content = ' '.join(words[-words_to_take:])\n",
    "                if isinstance(msg, HumanMessage):\n",
    "                    trimmed_messages.insert(0, HumanMessage(content=trimmed_content))\n",
    "                elif isinstance(msg, AIMessage):\n",
    "                    trimmed_messages.insert(0, AIMessage(content=trimmed_content))\n",
    "                total_words += words_to_take\n",
    "            break\n",
    "        else:\n",
    "            trimmed_messages.insert(0, msg)\n",
    "            total_words += len(words)\n",
    "        if total_words >= n:\n",
    "            break\n",
    "    return trimmed_messages\n",
    "\n",
    "messages = [\n",
    "    SystemMessage(content=\"You are a helpful assistant\"),\n",
    "    HumanMessage(content=\"Explain the concept of AI?\"),\n",
    "    AIMessage(content=\"AI is a technology that allows computers to learn and improve from experience, without being explicitly programmed. It uses algorithms to analyze data, identify patterns, and make predictions or decisions.\")\n",
    "]\n",
    "\n",
    "while True:\n",
    "    user_input = input(\"Enter your message: \")\n",
    "    if user_input.lower() == \"exit\":\n",
    "        break\n",
    "    messages.append(HumanMessage(content=user_input))\n",
    "    print(\"Full messages\", messages)\n",
    "\n",
    "    try:\n",
    "        # Trim the conversation to the last 100 words\n",
    "        trimmed_conversation = get_last_n_words(messages, 100)\n",
    "        # Always include the system message\n",
    "        filtered_messages = [messages[0]] + trimmed_conversation\n",
    "        print(\"Filtered messages\", filtered_messages)\n",
    "        response = llm.invoke(filtered_messages)\n",
    "        messages.append(AIMessage(content=response.content))\n",
    "        print(response.content)\n",
    "    except Exception as e:\n",
    "        print(\"Error:\", e)\n",
    "        response = llm.invoke(messages)  # Fallback to full history\n",
    "        messages.append(AIMessage(content=response.content))\n",
    "        print(response.content)\n"
   ]
  },
  {
   "cell_type": "markdown",
   "metadata": {},
   "source": [
    "# Summary\n",
    "\n",
    "# Homework - Take a case in every 10 message u will summarize the conversation and send current input + summary rather than entire text\n"
   ]
  },
  {
   "cell_type": "code",
   "execution_count": null,
   "metadata": {},
   "outputs": [],
   "source": []
  },
  {
   "cell_type": "markdown",
   "metadata": {},
   "source": [
    "# Note -This is simple implementation often u would need to implement at a session and level and other levels of memory"
   ]
  }
 ],
 "metadata": {
  "kernelspec": {
   "display_name": "Python 3",
   "language": "python",
   "name": "python3"
  },
  "language_info": {
   "codemirror_mode": {
    "name": "ipython",
    "version": 3
   },
   "file_extension": ".py",
   "mimetype": "text/x-python",
   "name": "python",
   "nbconvert_exporter": "python",
   "pygments_lexer": "ipython3",
   "version": "3.9.5"
  }
 },
 "nbformat": 4,
 "nbformat_minor": 2
}
